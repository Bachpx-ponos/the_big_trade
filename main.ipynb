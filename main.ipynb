{
 "metadata": {
  "language_info": {
   "codemirror_mode": {
    "name": "ipython",
    "version": 3
   },
   "file_extension": ".py",
   "mimetype": "text/x-python",
   "name": "python",
   "nbconvert_exporter": "python",
   "pygments_lexer": "ipython3",
   "version": "3.8.5-final"
  },
  "orig_nbformat": 2,
  "kernelspec": {
   "name": "python3",
   "display_name": "Python 3",
   "language": "python"
  }
 },
 "nbformat": 4,
 "nbformat_minor": 2,
 "cells": [
  {
   "cell_type": "code",
   "execution_count": 1,
   "metadata": {},
   "outputs": [
    {
     "output_type": "stream",
     "name": "stdout",
     "text": [
      "      id  currency_pair_id time_type      open      high     close       low  \\\n0      1                34      None   8224.43   8232.41   8137.13   8005.00   \n1      2                34      None   8137.09   8183.41   8126.19   8012.98   \n2      3                34      None   8127.55   8153.87   7854.25   7785.00   \n3      4                34      None   7855.30   8299.92   8190.09   7762.00   \n4      5                34      None   8190.82   8325.00   8168.39   8088.75   \n..   ...               ...       ...       ...       ...       ...       ...   \n495  496                34      None  46420.40  47310.00  44807.60  43727.00   \n496  497                34      None  44807.60  48678.90  47969.50  43994.00   \n497  498                34      None  47968.70  48985.80  47287.60  46125.00   \n498  499                34      None  47298.10  48150.00  47153.70  46202.50   \n499  500                34      None  47156.80  49404.90  48763.10  47014.20   \n\n    atr14       date          created_at          updated_at   volumn  \n0    None 2019-10-04 2021-02-14 07:06:48 2021-02-14 07:06:48  26476.3  \n1    None 2019-10-05 2021-02-14 07:06:48 2021-02-14 07:06:48  21907.6  \n2    None 2019-10-06 2021-02-14 07:06:48 2021-02-14 07:06:48  34676.1  \n3    None 2019-10-07 2021-02-14 07:06:48 2021-02-14 07:06:48  52202.1  \n4    None 2019-10-08 2021-02-14 07:06:48 2021-02-14 07:06:48  35452.7  \n..    ...        ...                 ...                 ...      ...  \n495  None 2021-02-10 2021-02-14 07:06:50 2021-02-14 07:06:50  97154.2  \n496  None 2021-02-11 2021-02-14 07:06:50 2021-02-14 07:06:50  89561.1  \n497  None 2021-02-12 2021-02-14 07:06:50 2021-02-14 07:06:50  85870.0  \n498  None 2021-02-13 2021-02-14 07:06:50 2021-02-14 07:06:50  63768.1  \n499  None 2021-02-14 2021-02-14 07:06:50 2021-02-14 07:06:50  26148.5  \n\n[500 rows x 12 columns]\n"
     ]
    }
   ],
   "source": [
    "from database.pymysql_conn import DataBase\n",
    "import pandas as pd\n",
    "\n",
    "\n",
    "db = DataBase()\n",
    "\n",
    "SQL = \"SELECT * FROM DailyTradingJournal_development.candlesticks;\"\n",
    "df = db.to_df(SQL)\n",
    "print(df)"
   ]
  },
  {
   "cell_type": "code",
   "execution_count": null,
   "metadata": {},
   "outputs": [],
   "source": []
  }
 ]
}