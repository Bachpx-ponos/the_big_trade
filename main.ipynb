{
 "metadata": {
  "language_info": {
   "codemirror_mode": {
    "name": "ipython",
    "version": 3
   },
   "file_extension": ".py",
   "mimetype": "text/x-python",
   "name": "python",
   "nbconvert_exporter": "python",
   "pygments_lexer": "ipython3",
   "version": "3.8.5-final"
  },
  "orig_nbformat": 2,
  "kernelspec": {
   "name": "python3",
   "display_name": "Python 3",
   "language": "python"
  }
 },
 "nbformat": 4,
 "nbformat_minor": 2,
 "cells": [
  {
   "cell_type": "code",
   "execution_count": 1,
   "metadata": {},
   "outputs": [
    {
     "output_type": "stream",
     "name": "stdout",
     "text": [
      "      datetime      open      high     close       low   volumn\n0   2019-10-04   8224.43   8232.41   8137.13   8005.00  26476.3\n1   2019-10-05   8137.09   8183.41   8126.19   8012.98  21907.6\n2   2019-10-06   8127.55   8153.87   7854.25   7785.00  34676.1\n3   2019-10-07   7855.30   8299.92   8190.09   7762.00  52202.1\n4   2019-10-08   8190.82   8325.00   8168.39   8088.75  35452.7\n..         ...       ...       ...       ...       ...      ...\n495 2021-02-10  46420.40  47310.00  44807.60  43727.00  97154.2\n496 2021-02-11  44807.60  48678.90  47969.50  43994.00  89561.1\n497 2021-02-12  47968.70  48985.80  47287.60  46125.00  85870.0\n498 2021-02-13  47298.10  48150.00  47153.70  46202.50  63768.1\n499 2021-02-14  47156.80  49404.90  48763.10  47014.20  26148.5\n\n[500 rows x 6 columns]\n"
     ]
    }
   ],
   "source": [
    "from models.candlestick import Candlestick\n",
    "import pandas as pd\n",
    "\n",
    "\n",
    "candlestick = Candlestick()\n",
    "\n",
    "df = candlestick.to_df()\n",
    "print(df)\n"
   ]
  },
  {
   "cell_type": "code",
   "execution_count": null,
   "metadata": {},
   "outputs": [],
   "source": []
  }
 ]
}