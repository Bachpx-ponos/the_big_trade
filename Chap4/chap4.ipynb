{
 "cells": [
  {
   "cell_type": "code",
   "execution_count": 42,
   "metadata": {},
   "outputs": [
    {
     "name": "stdout",
     "output_type": "stream",
     "text": [
      "3.2\n"
     ]
    }
   ],
   "source": [
    "v = [0.5, 0.75, 1.0, 1.5, 2.0, 1.2]\n",
    "\n",
    "print(sum(v[-2:]))"
   ]
  },
  {
   "cell_type": "code",
   "execution_count": 2,
   "metadata": {},
   "outputs": [],
   "source": [
    "import array"
   ]
  },
  {
   "cell_type": "code",
   "execution_count": 3,
   "metadata": {},
   "outputs": [],
   "source": [
    "a = array.array('f', v)"
   ]
  },
  {
   "cell_type": "code",
   "execution_count": 53,
   "metadata": {},
   "outputs": [
    {
     "data": {
      "text/plain": [
       "2.1699999999999946"
      ]
     },
     "execution_count": 53,
     "metadata": {},
     "output_type": "execute_result"
    }
   ],
   "source": [
    "arr = [3.7430, 3.9427, 3.8904, 3.8668, 3.7156, 3.7666, 3.6140, 3.6488, 3.6495, 3.5031, 3.4551, 3.3554, 3.2945]\n",
    "\n",
    "3.21*14-3.29*13"
   ]
  },
  {
   "cell_type": "code",
   "execution_count": 5,
   "metadata": {},
   "outputs": [
    {
     "ename": "NameError",
     "evalue": "name 'f' is not defined",
     "output_type": "error",
     "traceback": [
      "\u001b[0;31m---------------------------------------------------------------------------\u001b[0m",
      "\u001b[0;31mNameError\u001b[0m                                 Traceback (most recent call last)",
      "\u001b[0;32m<ipython-input-5-a9fcd54b25e7>\u001b[0m in \u001b[0;36m<module>\u001b[0;34m\u001b[0m\n\u001b[0;32m----> 1\u001b[0;31m \u001b[0mf\u001b[0m\u001b[0;34m\u001b[0m\u001b[0;34m\u001b[0m\u001b[0m\n\u001b[0m",
      "\u001b[0;31mNameError\u001b[0m: name 'f' is not defined"
     ]
    }
   ],
   "source": [
    "f"
   ]
  },
  {
   "cell_type": "code",
   "execution_count": 6,
   "metadata": {},
   "outputs": [
    {
     "ename": "TypeError",
     "evalue": "must be real number, not str",
     "output_type": "error",
     "traceback": [
      "\u001b[0;31m---------------------------------------------------------------------------\u001b[0m",
      "\u001b[0;31mTypeError\u001b[0m                                 Traceback (most recent call last)",
      "\u001b[0;32m<ipython-input-6-6cfd9a83c9c5>\u001b[0m in \u001b[0;36m<module>\u001b[0;34m\u001b[0m\n\u001b[0;32m----> 1\u001b[0;31m \u001b[0ma\u001b[0m\u001b[0;34m.\u001b[0m\u001b[0mappend\u001b[0m\u001b[0;34m(\u001b[0m\u001b[0;34m'hi'\u001b[0m\u001b[0;34m)\u001b[0m\u001b[0;34m\u001b[0m\u001b[0;34m\u001b[0m\u001b[0m\n\u001b[0m",
      "\u001b[0;31mTypeError\u001b[0m: must be real number, not str"
     ]
    }
   ],
   "source": [
    "a.append('hi')"
   ]
  },
  {
   "cell_type": "code",
   "execution_count": 7,
   "metadata": {},
   "outputs": [
    {
     "ename": "ValueError",
     "evalue": "bad typecode (must be b, B, u, h, H, i, I, l, L, q, Q, f or d)",
     "output_type": "error",
     "traceback": [
      "\u001b[0;31m---------------------------------------------------------------------------\u001b[0m",
      "\u001b[0;31mValueError\u001b[0m                                Traceback (most recent call last)",
      "\u001b[0;32m<ipython-input-7-955d3a62f78c>\u001b[0m in \u001b[0;36m<module>\u001b[0;34m\u001b[0m\n\u001b[0;32m----> 1\u001b[0;31m \u001b[0ma\u001b[0m \u001b[0;34m=\u001b[0m \u001b[0marray\u001b[0m\u001b[0;34m.\u001b[0m\u001b[0marray\u001b[0m\u001b[0;34m(\u001b[0m\u001b[0;34m's'\u001b[0m\u001b[0;34m,\u001b[0m \u001b[0mv\u001b[0m\u001b[0;34m)\u001b[0m\u001b[0;34m\u001b[0m\u001b[0;34m\u001b[0m\u001b[0m\n\u001b[0m",
      "\u001b[0;31mValueError\u001b[0m: bad typecode (must be b, B, u, h, H, i, I, l, L, q, Q, f or d)"
     ]
    }
   ],
   "source": [
    "a = array.array('s', v)"
   ]
  },
  {
   "cell_type": "code",
   "execution_count": 8,
   "metadata": {},
   "outputs": [],
   "source": [
    "f = open('array.apy', 'wb')"
   ]
  },
  {
   "cell_type": "code",
   "execution_count": 9,
   "metadata": {},
   "outputs": [],
   "source": [
    "a.tofile(f)\n",
    "f.close()"
   ]
  },
  {
   "cell_type": "code",
   "execution_count": 10,
   "metadata": {},
   "outputs": [
    {
     "ename": "SyntaxError",
     "evalue": "unexpected EOF while parsing (<ipython-input-10-d0e6f29c05ec>, line 1)",
     "output_type": "error",
     "traceback": [
      "\u001b[0;36m  File \u001b[0;32m\"<ipython-input-10-d0e6f29c05ec>\"\u001b[0;36m, line \u001b[0;32m1\u001b[0m\n\u001b[0;31m    with open('array.apy', 'wb') as f:\u001b[0m\n\u001b[0m                                      ^\u001b[0m\n\u001b[0;31mSyntaxError\u001b[0m\u001b[0;31m:\u001b[0m unexpected EOF while parsing\n"
     ]
    }
   ],
   "source": [
    "with open('array.apy', 'wb') as f:"
   ]
  },
  {
   "cell_type": "code",
   "execution_count": 11,
   "metadata": {},
   "outputs": [],
   "source": [
    "with open('array.apy', 'wb') as f:\n",
    "     a.tofile(f)"
   ]
  },
  {
   "cell_type": "code",
   "execution_count": 12,
   "metadata": {},
   "outputs": [
    {
     "name": "stdout",
     "output_type": "stream",
     "text": [
      "-rw-r--r--  1 501  20  20 Jul 18 10:01 array.apy\r\n"
     ]
    }
   ],
   "source": [
    "!ls -n arr*"
   ]
  },
  {
   "cell_type": "code",
   "execution_count": 13,
   "metadata": {},
   "outputs": [],
   "source": [
    "b = array.array('f')\n"
   ]
  },
  {
   "cell_type": "code",
   "execution_count": 14,
   "metadata": {},
   "outputs": [
    {
     "data": {
      "text/plain": [
       "array('f')"
      ]
     },
     "execution_count": 14,
     "metadata": {},
     "output_type": "execute_result"
    }
   ],
   "source": [
    "b\n"
   ]
  },
  {
   "cell_type": "code",
   "execution_count": 15,
   "metadata": {},
   "outputs": [],
   "source": [
    "with open('array.apy', 'rb') as f:\n",
    "    b.fromfile(f, 5)"
   ]
  },
  {
   "cell_type": "code",
   "execution_count": 16,
   "metadata": {},
   "outputs": [
    {
     "data": {
      "text/plain": [
       "array('f', [0.5, 0.75, 1.0, 1.5, 2.0])"
      ]
     },
     "execution_count": 16,
     "metadata": {},
     "output_type": "execute_result"
    }
   ],
   "source": [
    "b\n"
   ]
  },
  {
   "cell_type": "code",
   "execution_count": 17,
   "metadata": {},
   "outputs": [
    {
     "data": {
      "text/plain": [
       "<_io.BufferedReader name='array.apy'>"
      ]
     },
     "execution_count": 17,
     "metadata": {},
     "output_type": "execute_result"
    }
   ],
   "source": [
    "f"
   ]
  },
  {
   "cell_type": "code",
   "execution_count": 18,
   "metadata": {},
   "outputs": [
    {
     "data": {
      "text/plain": [
       "array('f', [0.5, 0.75, 1.0, 1.5, 2.0])"
      ]
     },
     "execution_count": 18,
     "metadata": {},
     "output_type": "execute_result"
    }
   ],
   "source": [
    "b"
   ]
  },
  {
   "cell_type": "code",
   "execution_count": 19,
   "metadata": {},
   "outputs": [
    {
     "data": {
      "text/plain": [
       "<_io.BufferedReader name='array.apy'>"
      ]
     },
     "execution_count": 19,
     "metadata": {},
     "output_type": "execute_result"
    }
   ],
   "source": [
    "f"
   ]
  },
  {
   "cell_type": "code",
   "execution_count": 20,
   "metadata": {},
   "outputs": [],
   "source": [
    "f = open('array.apy', 'wb')\n",
    "a.tofile(f)\n",
    "f.close()"
   ]
  },
  {
   "cell_type": "code",
   "execution_count": 21,
   "metadata": {},
   "outputs": [
    {
     "data": {
      "text/plain": [
       "<_io.BufferedWriter name='array.apy'>"
      ]
     },
     "execution_count": 21,
     "metadata": {},
     "output_type": "execute_result"
    }
   ],
   "source": [
    "f\n"
   ]
  },
  {
   "cell_type": "code",
   "execution_count": 22,
   "metadata": {},
   "outputs": [],
   "source": [
    "b = array.array('f')"
   ]
  },
  {
   "cell_type": "code",
   "execution_count": 23,
   "metadata": {},
   "outputs": [],
   "source": [
    "with open('array.apy', 'rb') as f:\n",
    "    b.fromfile(f, 5)"
   ]
  },
  {
   "cell_type": "code",
   "execution_count": 24,
   "metadata": {},
   "outputs": [
    {
     "data": {
      "text/plain": [
       "array('f', [0.5, 0.75, 1.0, 1.5, 2.0])"
      ]
     },
     "execution_count": 24,
     "metadata": {},
     "output_type": "execute_result"
    }
   ],
   "source": [
    "b"
   ]
  },
  {
   "cell_type": "code",
   "execution_count": 25,
   "metadata": {},
   "outputs": [
    {
     "data": {
      "text/plain": [
       "<_io.BufferedReader name='array.apy'>"
      ]
     },
     "execution_count": 25,
     "metadata": {},
     "output_type": "execute_result"
    }
   ],
   "source": [
    "f"
   ]
  },
  {
   "cell_type": "code",
   "execution_count": 26,
   "metadata": {},
   "outputs": [],
   "source": [
    "f = open('array.apy', 'wb')\n"
   ]
  },
  {
   "cell_type": "code",
   "execution_count": 27,
   "metadata": {},
   "outputs": [
    {
     "data": {
      "text/plain": [
       "<_io.BufferedWriter name='array.apy'>"
      ]
     },
     "execution_count": 27,
     "metadata": {},
     "output_type": "execute_result"
    }
   ],
   "source": [
    "f"
   ]
  },
  {
   "cell_type": "code",
   "execution_count": 29,
   "metadata": {},
   "outputs": [
    {
     "name": "stdout",
     "output_type": "stream",
     "text": [
      "<_io.BufferedReader name='array.apy'>\n"
     ]
    }
   ],
   "source": [
    "with open('array.apy', 'rb') as f:\n",
    "   print(f)"
   ]
  },
  {
   "cell_type": "code",
   "execution_count": 30,
   "metadata": {},
   "outputs": [],
   "source": [
    "import json"
   ]
  },
  {
   "cell_type": "code",
   "execution_count": 69,
   "metadata": {},
   "outputs": [
    {
     "name": "stdout",
     "output_type": "stream",
     "text": [
      "[{'low': '54.30000000', 'close': '55.29000000', 'atr14': 3.743, 'date': datetime.datetime(2019, 3, 13, 7, 0)}, {'low': '51.66000000', 'close': '55.94000000', 'atr14': 3.9427, 'date': datetime.datetime(2019, 3, 14, 7, 0)}, {'low': '55.94000000', 'close': '58.52000000', 'atr14': 3.8904, 'date': datetime.datetime(2019, 3, 15, 7, 0)}, {'low': '58.41000000', 'close': '61.21000000', 'atr14': 3.8668, 'date': datetime.datetime(2019, 3, 16, 7, 0)}, {'low': '59.57000000', 'close': '60.47000000', 'atr14': 3.7156, 'date': datetime.datetime(2019, 3, 17, 7, 0)}, {'low': '58.20000000', 'close': '59.17000000', 'atr14': 3.7666, 'date': datetime.datetime(2019, 3, 18, 7, 0)}, {'low': '58.33000000', 'close': '59.52000000', 'atr14': 3.614, 'date': datetime.datetime(2019, 3, 19, 7, 0)}, {'low': '56.64000000', 'close': '60.27000000', 'atr14': 3.6488, 'date': datetime.datetime(2019, 3, 20, 7, 0)}, {'low': '56.98000000', 'close': '58.54000000', 'atr14': 3.6495, 'date': datetime.datetime(2019, 3, 21, 7, 0)}, {'low': '58.00000000', 'close': '59.26000000', 'atr14': 3.5031, 'date': datetime.datetime(2019, 3, 22, 7, 0)}, {'low': '58.93000000', 'close': '60.89000000', 'atr14': 3.4551, 'date': datetime.datetime(2019, 3, 23, 7, 0)}, {'low': '58.84000000', 'close': '59.82000000', 'atr14': 3.3554, 'date': datetime.datetime(2019, 3, 24, 7, 0)}, {'low': '58.20000000', 'close': '59.04000000', 'atr14': 3.2943, 'date': datetime.datetime(2019, 3, 25, 7, 0)}, {'low': '57.23000000', 'close': '58.79000000', 'atr14': 3.2104214285714288, 'date': datetime.datetime(2019, 3, 26, 7, 0)}, {'low': '58.58000000', 'close': '61.44000000', 'atr14': 3.216105612244898, 'date': datetime.datetime(2019, 3, 27, 7, 0)}, {'low': '60.15000000', 'close': '60.50000000', 'atr14': 3.0785266399416913, 'date': datetime.datetime(2019, 3, 28, 7, 0)}, {'low': '60.15000000', 'close': '61.45000000', 'atr14': 2.976489022802999, 'date': datetime.datetime(2019, 3, 29, 7, 0)}, {'low': '59.59000000', 'close': '60.45000000', 'atr14': 2.904596949745642, 'date': datetime.datetime(2019, 3, 30, 7, 0)}, {'low': '59.83000000', 'close': '60.48000000', 'atr14': 2.760697167620953, 'date': datetime.datetime(2019, 3, 31, 7, 0)}, {'low': '59.62000000', 'close': '60.45000000', 'atr14': 2.6549330842194565, 'date': datetime.datetime(2019, 4, 1, 7, 0)}, {'low': '59.95000000', 'close': '76.78000000', 'atr14': 3.783152149632353, 'date': datetime.datetime(2019, 4, 2, 7, 0)}, {'low': '76.24000000', 'close': '85.19000000', 'atr14': 5.102926996087185, 'date': datetime.datetime(2019, 4, 3, 7, 0)}, {'low': '79.85000000', 'close': '84.70000000', 'atr14': 5.4527179249381, 'date': datetime.datetime(2019, 4, 4, 7, 0)}, {'low': '83.65000000', 'close': '88.24000000', 'atr14': 5.506095216013949, 'date': datetime.datetime(2019, 4, 5, 7, 0)}, {'low': '85.00000000', 'close': '92.21000000', 'atr14': 6.008516986298667, 'date': datetime.datetime(2019, 4, 6, 7, 0)}, {'low': '88.74000000', 'close': '91.55000000', 'atr14': 6.0579086301344764, 'date': datetime.datetime(2019, 4, 7, 7, 0)}, {'low': '85.20000000', 'close': '88.57000000', 'atr14': 6.253772299410585, 'date': datetime.datetime(2019, 4, 8, 7, 0)}, {'low': '82.61000000', 'close': '86.17000000', 'atr14': 6.2427885637384, 'date': datetime.datetime(2019, 4, 9, 7, 0)}, {'low': '85.91000000', 'close': '88.16000000', 'atr14': 6.167589380614229, 'date': datetime.datetime(2019, 4, 10, 7, 0)}, {'low': '74.64000000', 'close': '78.88000000', 'atr14': 6.713475853427498, 'date': datetime.datetime(2019, 4, 11, 7, 0)}, {'low': '75.00000000', 'close': '78.47000000', 'atr14': 6.621799006754107, 'date': datetime.datetime(2019, 4, 12, 7, 0)}, {'low': '75.51000000', 'close': '77.62000000', 'atr14': 6.542384791985955, 'date': datetime.datetime(2019, 4, 13, 7, 0)}, {'low': '76.09000000', 'close': '83.28000000', 'atr14': 6.611500163986958, 'date': datetime.datetime(2019, 4, 14, 7, 0)}, {'low': '75.00000000', 'close': '78.07000000', 'atr14': 6.811393009416461, 'date': datetime.datetime(2019, 4, 15, 7, 0)}, {'low': '76.88000000', 'close': '80.27000000', 'atr14': 6.654150651600999, 'date': datetime.datetime(2019, 4, 16, 7, 0)}, {'low': '78.00000000', 'close': '78.77000000', 'atr14': 6.4288541764866425, 'date': datetime.datetime(2019, 4, 17, 7, 0)}, {'low': '78.74000000', 'close': '81.68000000', 'atr14': 6.321078878166168, 'date': datetime.datetime(2019, 4, 18, 7, 0)}, {'low': '79.48000000', 'close': '82.05000000', 'atr14': 6.133144672582871, 'date': datetime.datetime(2019, 4, 19, 7, 0)}, {'low': '79.33000000', 'close': '81.15000000', 'atr14': 5.935062910255523, 'date': datetime.datetime(2019, 4, 20, 7, 0)}, {'low': '72.86000000', 'close': '76.65000000', 'atr14': 6.153272702380128, 'date': datetime.datetime(2019, 4, 21, 7, 0)}, {'low': '74.90000000', 'close': '76.51000000', 'atr14': 5.90875322363869, 'date': datetime.datetime(2019, 4, 22, 7, 0)}, {'low': '73.33000000', 'close': '73.70000000', 'atr14': 5.9124137076644985, 'date': datetime.datetime(2019, 4, 23, 7, 0)}, {'low': '69.90000000', 'close': '72.85000000', 'atr14': 5.832241299974177, 'date': datetime.datetime(2019, 4, 24, 7, 0)}, {'low': '70.60000000', 'close': '71.78000000', 'atr14': 5.689224064261737, 'date': datetime.datetime(2019, 4, 25, 7, 0)}, {'low': '70.31000000', 'close': '73.82000000', 'atr14': 5.724993773957327, 'date': datetime.datetime(2019, 4, 26, 7, 0)}, {'low': '71.83000000', 'close': '72.23000000', 'atr14': 5.471779932960375, 'date': datetime.datetime(2019, 4, 27, 7, 0)}, {'low': '68.95000000', 'close': '69.89000000', 'atr14': 5.350224223463206, 'date': datetime.datetime(2019, 4, 28, 7, 0)}, {'low': '66.50000000', 'close': '67.87000000', 'atr14': 5.244493921787263, 'date': datetime.datetime(2019, 4, 29, 7, 0)}, {'low': '67.86000000', 'close': '74.32000000', 'atr14': 5.361315784516743, 'date': datetime.datetime(2019, 4, 30, 7, 0)}, {'low': '71.78000000', 'close': '73.36000000', 'atr14': 5.234078942765548, 'date': datetime.datetime(2019, 5, 1, 7, 0)}, {'low': '72.73000000', 'close': '73.68000000', 'atr14': 4.980930446853722, 'date': datetime.datetime(2019, 5, 2, 7, 0)}, {'low': '73.31000000', 'close': '79.22000000', 'atr14': 5.144435414935598, 'date': datetime.datetime(2019, 5, 3, 7, 0)}, {'low': '74.54000000', 'close': '77.77000000', 'atr14': 5.364118599583056, 'date': datetime.datetime(2019, 5, 4, 7, 0)}, {'low': '75.40000000', 'close': '75.70000000', 'atr14': 5.178110128184265, 'date': datetime.datetime(2019, 5, 5, 7, 0)}, {'low': '71.64000000', 'close': '74.94000000', 'atr14': 5.184673690456818, 'date': datetime.datetime(2019, 5, 6, 7, 0)}, {'low': '73.40000000', 'close': '74.61000000', 'atr14': 5.196482712567045, 'date': datetime.datetime(2019, 5, 7, 7, 0)}, {'low': '72.40000000', 'close': '74.44000000', 'atr14': 5.046733947383684, 'date': datetime.datetime(2019, 5, 8, 7, 0)}, {'low': '72.77000000', 'close': '74.19000000', 'atr14': 4.909824379713421, 'date': datetime.datetime(2019, 5, 9, 7, 0)}, {'low': '72.66000000', 'close': '77.11000000', 'atr14': 5.055551209733892, 'date': datetime.datetime(2019, 5, 10, 7, 0)}, {'low': '76.85000000', 'close': '86.59000000', 'atr14': 5.9908689804671855, 'date': datetime.datetime(2019, 5, 11, 7, 0)}, {'low': '83.00000000', 'close': '84.73000000', 'atr14': 6.349378339005244, 'date': datetime.datetime(2019, 5, 12, 7, 0)}, {'low': '84.10000000', 'close': '87.16000000', 'atr14': 6.4951370290762975, 'date': datetime.datetime(2019, 5, 13, 7, 0)}, {'low': '86.50000000', 'close': '91.17000000', 'atr14': 6.539055812713705, 'date': datetime.datetime(2019, 5, 14, 7, 0)}, {'low': '89.69000000', 'close': '102.02000000', 'atr14': 7.111980397519869, 'date': datetime.datetime(2019, 5, 15, 7, 0)}, {'low': '90.73000000', 'close': '95.49000000', 'atr14': 7.776124654839879, 'date': datetime.datetime(2019, 5, 16, 7, 0)}, {'low': '84.27000000', 'close': '89.76000000', 'atr14': 8.164258608065602, 'date': datetime.datetime(2019, 5, 17, 7, 0)}, {'low': '85.11000000', 'close': '86.51000000', 'atr14': 7.966811564632345, 'date': datetime.datetime(2019, 5, 18, 7, 0)}, {'low': '86.07000000', 'close': '94.58000000', 'atr14': 8.164896452872892, 'date': datetime.datetime(2019, 5, 19, 7, 0)}, {'low': '87.11000000', 'close': '91.10000000', 'atr14': 8.1152609919534, 'date': datetime.datetime(2019, 5, 20, 7, 0)}, {'low': '88.83000000', 'close': '90.79000000', 'atr14': 7.834885206813872, 'date': datetime.datetime(2019, 5, 21, 7, 0)}, {'low': '85.83000000', 'close': '87.74000000', 'atr14': 7.718821977755739, 'date': datetime.datetime(2019, 5, 22, 7, 0)}, {'low': '84.62000000', 'close': '88.61000000', 'atr14': 7.518191836487472, 'date': datetime.datetime(2019, 5, 23, 7, 0)}, {'low': '88.01000000', 'close': '100.50000000', 'atr14': 8.106892419595509, 'date': datetime.datetime(2019, 5, 24, 7, 0)}, {'low': '98.87000000', 'close': '102.66000000', 'atr14': 7.970685818195828, 'date': datetime.datetime(2019, 5, 25, 7, 0)}, {'low': '97.50000000', 'close': '111.00000000', 'atr14': 8.579922545467555, 'date': datetime.datetime(2019, 5, 26, 7, 0)}, {'low': '109.94000000', 'close': '116.30000000', 'atr14': 8.820642363648444, 'date': datetime.datetime(2019, 5, 27, 7, 0)}, {'low': '111.08000000', 'close': '114.81000000', 'atr14': 8.700596480530697, 'date': datetime.datetime(2019, 5, 28, 7, 0)}, {'low': '108.00000000', 'close': '115.06000000', 'atr14': 8.816982446207076, 'date': datetime.datetime(2019, 5, 29, 7, 0)}, {'low': '102.40000000', 'close': '107.78000000', 'atr14': 9.46934084290657, 'date': datetime.datetime(2019, 5, 30, 7, 0)}, {'low': '104.55000000', 'close': '114.60000000', 'atr14': 9.534387925556102, 'date': datetime.datetime(2019, 5, 31, 7, 0)}, {'low': '110.51000000', 'close': '112.35000000', 'atr14': 9.265503073730665, 'date': datetime.datetime(2019, 6, 1, 7, 0)}, {'low': '111.25000000', 'close': '114.39000000', 'atr14': 8.977252854178476, 'date': datetime.datetime(2019, 6, 2, 7, 0)}, {'low': '105.01000000', 'close': '105.99000000', 'atr14': 9.135306221737157, 'date': datetime.datetime(2019, 6, 3, 7, 0)}, {'low': '98.13000000', 'close': '102.20000000', 'atr14': 9.102070063041646, 'date': datetime.datetime(2019, 6, 4, 7, 0)}, {'low': '100.11000000', 'close': '103.66000000', 'atr14': 8.816207915681527, 'date': datetime.datetime(2019, 6, 5, 7, 0)}, {'low': '101.00000000', 'close': '111.19000000', 'atr14': 8.977193064561417, 'date': datetime.datetime(2019, 6, 6, 7, 0)}, {'low': '109.53000000', 'close': '116.71000000', 'atr14': 9.15525070280703, 'date': datetime.datetime(2019, 6, 7, 7, 0)}, {'low': '113.50000000', 'close': '118.01000000', 'atr14': 8.944161366892242, 'date': datetime.datetime(2019, 6, 8, 7, 0)}, {'low': '111.02000000', 'close': '114.66000000', 'atr14': 8.871006983542797, 'date': datetime.datetime(2019, 6, 9, 7, 0)}, {'low': '112.54000000', 'close': '129.15000000', 'atr14': 9.493077913289738, 'date': datetime.datetime(2019, 6, 10, 7, 0)}, {'low': '124.85000000', 'close': '135.69000000', 'atr14': 9.794286633769044, 'date': datetime.datetime(2019, 6, 11, 7, 0)}, {'low': '129.86000000', 'close': '135.32000000', 'atr14': 10.046837588499825, 'date': datetime.datetime(2019, 6, 12, 7, 0)}, {'low': '127.92000000', 'close': '130.55000000', 'atr14': 9.943492046464124, 'date': datetime.datetime(2019, 6, 13, 7, 0)}, {'low': '125.22000000', 'close': '132.00000000', 'atr14': 9.791099757430972, 'date': datetime.datetime(2019, 6, 14, 7, 0)}, {'low': '132.01000000', 'close': '137.54000000', 'atr14': 9.627449774757332, 'date': datetime.datetime(2019, 6, 15, 7, 0)}, {'low': '133.15000000', 'close': '136.45000000', 'atr14': 9.300489076560378, 'date': datetime.datetime(2019, 6, 16, 7, 0)}, {'low': '131.53000000', 'close': '133.80000000', 'atr14': 9.01402557109178, 'date': datetime.datetime(2019, 6, 17, 7, 0)}, {'low': '128.00000000', 'close': '135.22000000', 'atr14': 9.001595173156653, 'date': datetime.datetime(2019, 6, 18, 7, 0)}, {'low': '133.50000000', 'close': '136.43000000', 'atr14': 8.787195517931178, 'date': datetime.datetime(2019, 6, 19, 7, 0)}, {'low': '133.00000000', 'close': '135.46000000', 'atr14': 8.42739583807895, 'date': datetime.datetime(2019, 6, 20, 7, 0)}, {'low': '131.00000000', 'close': '138.28000000', 'atr14': 8.560438992501883, 'date': datetime.datetime(2019, 6, 21, 7, 0)}, {'low': '136.01000000', 'close': '142.26000000', 'atr14': 8.655407635894607, 'date': datetime.datetime(2019, 6, 22, 7, 0)}, {'low': '136.15000000', 'close': '137.50000000', 'atr14': 8.550735661902134, 'date': datetime.datetime(2019, 6, 23, 7, 0)}, {'low': '132.65000000', 'close': '135.77000000', 'atr14': 8.287825971766269, 'date': datetime.datetime(2019, 6, 24, 7, 0)}, {'low': '129.75000000', 'close': '136.33000000', 'atr14': 8.330124116640107, 'date': datetime.datetime(2019, 6, 25, 7, 0)}, {'low': '127.50000000', 'close': '132.25000000', 'atr14': 8.520829536880099, 'date': datetime.datetime(2019, 6, 26, 7, 0)}, {'low': '111.82000000', 'close': '116.01000000', 'atr14': 9.460770284245806, 'date': datetime.datetime(2019, 6, 27, 7, 0)}, {'low': '114.49000000', 'close': '120.01000000', 'atr14': 9.33500097822825, 'date': datetime.datetime(2019, 6, 28, 7, 0)}, {'low': '116.00000000', 'close': '133.86000000', 'atr14': 10.168215194069088, 'date': datetime.datetime(2019, 6, 29, 7, 0)}, {'low': '120.54000000', 'close': '123.25000000', 'atr14': 10.649056965921293, 'date': datetime.datetime(2019, 6, 30, 7, 0)}, {'low': '113.82000000', 'close': '123.17000000', 'atr14': 10.831981468355488, 'date': datetime.datetime(2019, 7, 1, 7, 0)}, {'low': '112.63000000', 'close': '118.77000000', 'atr14': 10.870411363472954, 'date': datetime.datetime(2019, 7, 2, 7, 0)}, {'low': '116.78000000', 'close': '121.36000000', 'atr14': 10.548953408939171, 'date': datetime.datetime(2019, 7, 3, 7, 0)}, {'low': '118.51000000', 'close': '119.61000000', 'atr14': 10.404028165443517, 'date': datetime.datetime(2019, 7, 4, 7, 0)}, {'low': '116.22000000', 'close': '118.35000000', 'atr14': 10.001597582197551, 'date': datetime.datetime(2019, 7, 5, 7, 0)}, {'low': '117.06000000', 'close': '118.31000000', 'atr14': 9.625769183469155, 'date': datetime.datetime(2019, 7, 6, 7, 0)}, {'low': '117.00000000', 'close': '119.48000000', 'atr14': 9.1774999560785, 'date': datetime.datetime(2019, 7, 7, 7, 0)}, {'low': '117.77000000', 'close': '122.92000000', 'atr14': 9.043392816358608, 'date': datetime.datetime(2019, 7, 8, 7, 0)}, {'low': '117.64000000', 'close': '119.24000000', 'atr14': 8.857436186618708, 'date': datetime.datetime(2019, 7, 9, 7, 0)}, {'low': '102.50000000', 'close': '108.31000000', 'atr14': 9.484047887574516, 'date': datetime.datetime(2019, 7, 10, 7, 0)}, {'low': '95.21000000', 'close': '102.98000000', 'atr14': 9.743758752747766, 'date': datetime.datetime(2019, 7, 11, 7, 0)}, {'low': '100.65000000', 'close': '104.86000000', 'atr14': 9.502775984694352, 'date': datetime.datetime(2019, 7, 12, 7, 0)}, {'low': '97.64000000', 'close': '101.03000000', 'atr14': 9.351863414359043, 'date': datetime.datetime(2019, 7, 13, 7, 0)}, {'low': '87.58000000', 'close': '89.66000000', 'atr14': 9.706730313333397, 'date': datetime.datetime(2019, 7, 14, 7, 0)}, {'low': '84.60000000', 'close': '90.43000000', 'atr14': 9.612678148095297, 'date': datetime.datetime(2019, 7, 15, 7, 0)}, {'low': '76.60000000', 'close': '79.61000000', 'atr14': 10.019629708945631, 'date': datetime.datetime(2019, 7, 16, 7, 0)}, {'low': '71.00000000', 'close': '89.95000000', 'atr14': 10.993227586878087, 'date': datetime.datetime(2019, 7, 17, 7, 0)}, {'low': '86.87000000', 'close': '101.16000000', 'atr14': 11.467282759243938, 'date': datetime.datetime(2019, 7, 18, 7, 0)}, {'low': '94.73000000', 'close': '98.23000000', 'atr14': 11.11461970501223, 'date': datetime.datetime(2019, 7, 19, 7, 0)}, {'low': '97.42000000', 'close': '100.25000000', 'atr14': 10.92500401179707, 'date': datetime.datetime(2019, 7, 20, 7, 0)}, {'low': '96.40000000', 'close': '99.70000000', 'atr14': 10.502503725240135, 'date': datetime.datetime(2019, 7, 21, 7, 0)}, {'low': '91.14000000', 'close': '95.31000000', 'atr14': 10.450182030580127, 'date': datetime.datetime(2019, 7, 22, 7, 0)}, {'low': '88.62000000', 'close': '90.15000000', 'atr14': 10.184454742681547, 'date': datetime.datetime(2019, 7, 23, 7, 0)}, {'low': '86.80000000', 'close': '94.50000000', 'atr14': 10.217707975347151, 'date': datetime.datetime(2019, 7, 24, 7, 0)}, {'low': '91.06000000', 'close': '93.22000000', 'atr14': 9.88858597710807, 'date': datetime.datetime(2019, 7, 25, 7, 0)}, {'low': '89.83000000', 'close': '94.06000000', 'atr14': 9.517258407314637, 'date': datetime.datetime(2019, 7, 26, 7, 0)}, {'low': '86.67000000', 'close': '88.79000000', 'atr14': 9.510311378220734, 'date': datetime.datetime(2019, 7, 27, 7, 0)}, {'low': '83.13000000', 'close': '90.00000000', 'atr14': 9.38600342263354, 'date': datetime.datetime(2019, 7, 28, 7, 0)}, {'low': '87.48000000', 'close': '90.33000000', 'atr14': 9.057003178159714, 'date': datetime.datetime(2019, 7, 29, 7, 0)}, {'low': '88.50000000', 'close': '90.15000000', 'atr14': 8.71078866543402, 'date': datetime.datetime(2019, 7, 30, 7, 0)}, {'low': '89.81000000', 'close': '98.76000000', 'atr14': 8.81287518933159, 'date': datetime.datetime(2019, 7, 31, 7, 0)}, {'low': '95.23000000', 'close': '98.64000000', 'atr14': 8.566241247236476, 'date': datetime.datetime(2019, 8, 1, 7, 0)}, {'low': '92.52000000', 'close': '94.76000000', 'atr14': 8.400795443862442, 'date': datetime.datetime(2019, 8, 2, 7, 0)}, {'low': '93.51000000', 'close': '94.17000000', 'atr14': 8.02859576930084, 'date': datetime.datetime(2019, 8, 3, 7, 0)}, {'low': '90.11000000', 'close': '92.64000000', 'atr14': 7.7901246429222075, 'date': datetime.datetime(2019, 8, 4, 7, 0)}, {'low': '92.68000000', 'close': '96.56000000', 'atr14': 8.242972882713477, 'date': datetime.datetime(2019, 8, 5, 7, 0)}, {'low': '91.00000000', 'close': '92.99000000', 'atr14': 8.248474819662514, 'date': datetime.datetime(2019, 8, 6, 7, 0)}, {'low': '87.36000000', 'close': '90.59000000', 'atr14': 8.165726618258049, 'date': datetime.datetime(2019, 8, 7, 7, 0)}, {'low': '87.72000000', 'close': '90.15000000', 'atr14': 7.941746145525331, 'date': datetime.datetime(2019, 8, 8, 7, 0)}, {'low': '82.64000000', 'close': '84.24000000', 'atr14': 7.932335706559236, 'date': datetime.datetime(2019, 8, 9, 7, 0)}, {'low': '82.27000000', 'close': '85.46000000', 'atr14': 7.739311727519291, 'date': datetime.datetime(2019, 8, 10, 7, 0)}, {'low': '85.15000000', 'close': '89.93000000', 'atr14': 7.645075175553627, 'date': datetime.datetime(2019, 8, 11, 7, 0)}, {'low': '85.45000000', 'close': '85.79000000', 'atr14': 7.4268555201569395, 'date': datetime.datetime(2019, 8, 12, 7, 0)}, {'low': '83.26000000', 'close': '84.88000000', 'atr14': 7.1485086972885865, 'date': datetime.datetime(2019, 8, 13, 7, 0)}, {'low': '75.00000000', 'close': '75.90000000', 'atr14': 7.446472361767973, 'date': datetime.datetime(2019, 8, 14, 7, 0)}, {'low': '74.36000000', 'close': '76.25000000', 'atr14': 7.153152907355975, 'date': datetime.datetime(2019, 8, 15, 7, 0)}, {'low': '72.34000000', 'close': '74.67000000', 'atr14': 6.933641985401977, 'date': datetime.datetime(2019, 8, 16, 7, 0)}, {'low': '71.50000000', 'close': '72.65000000', 'atr14': 6.713381843587549, 'date': datetime.datetime(2019, 8, 17, 7, 0)}, {'low': '71.40000000', 'close': '76.25000000', 'atr14': 6.705283140474152, 'date': datetime.datetime(2019, 8, 18, 7, 0)}, {'low': '75.36000000', 'close': '77.10000000', 'atr14': 6.48276291615457, 'date': datetime.datetime(2019, 8, 19, 7, 0)}, {'low': '73.31000000', 'close': '75.14000000', 'atr14': 6.304708422143529, 'date': datetime.datetime(2019, 8, 20, 7, 0)}, {'low': '70.14000000', 'close': '73.27000000', 'atr14': 6.225086391990419, 'date': datetime.datetime(2019, 8, 21, 7, 0)}, {'low': '71.00000000', 'close': '73.31000000', 'atr14': 6.040437363991103, 'date': datetime.datetime(2019, 8, 22, 7, 0)}, {'low': '72.10000000', 'close': '75.38000000', 'atr14': 5.881834695134596, 'date': datetime.datetime(2019, 8, 23, 7, 0)}, {'low': '71.39000000', 'close': '73.32000000', 'atr14': 5.765989359767839, 'date': datetime.datetime(2019, 8, 24, 7, 0)}, {'low': '70.56000000', 'close': '72.10000000', 'atr14': 5.666275834070136, 'date': datetime.datetime(2019, 8, 25, 7, 0)}, {'low': '72.09000000', 'close': '73.54000000', 'atr14': 5.502256131636555, 'date': datetime.datetime(2019, 8, 26, 7, 0)}, {'low': '72.13000000', 'close': '72.90000000', 'atr14': 5.224952122233944, 'date': datetime.datetime(2019, 8, 27, 7, 0)}, {'low': '65.00000000', 'close': '66.73000000', 'atr14': 5.433169827788662, 'date': datetime.datetime(2019, 8, 28, 7, 0)}, {'low': '62.00000000', 'close': '63.59000000', 'atr14': 5.385800554375186, 'date': datetime.datetime(2019, 8, 29, 7, 0)}, {'low': '62.16000000', 'close': '64.17000000', 'atr14': 5.2468148004912445, 'date': datetime.datetime(2019, 8, 30, 7, 0)}, {'low': '62.25000000', 'close': '64.24000000', 'atr14': 5.096328029027584, 'date': datetime.datetime(2019, 8, 31, 7, 0)}, {'low': '63.74000000', 'close': '65.89000000', 'atr14': 4.980161741239899, 'date': datetime.datetime(2019, 9, 1, 7, 0)}, {'low': '64.80000000', 'close': '66.92000000', 'atr14': 4.855150188294192, 'date': datetime.datetime(2019, 9, 2, 7, 0)}, {'low': '66.47000000', 'close': '69.06000000', 'atr14': 4.831925174844607, 'date': datetime.datetime(2019, 9, 3, 7, 0)}, {'low': '66.40000000', 'close': '67.01000000', 'atr14': 4.689644805212849, 'date': datetime.datetime(2019, 9, 4, 7, 0)}, {'low': '64.14000000', 'close': '65.23000000', 'atr14': 4.58681303341193, 'date': datetime.datetime(2019, 9, 5, 7, 0)}, {'low': '63.54000000', 'close': '64.87000000', 'atr14': 4.577754959596793, 'date': datetime.datetime(2019, 9, 6, 7, 0)}, {'low': '64.53000000', 'close': '68.77000000', 'atr14': 4.682201033911307, 'date': datetime.datetime(2019, 9, 7, 7, 0)}, {'low': '68.00000000', 'close': '70.36000000', 'atr14': 4.594900960060499, 'date': datetime.datetime(2019, 9, 8, 7, 0)}, {'low': '67.73000000', 'close': '69.89000000', 'atr14': 4.5274080343418905, 'date': datetime.datetime(2019, 9, 9, 7, 0)}, {'low': '69.77000000', 'close': '70.85000000', 'atr14': 4.441878889031755, 'date': datetime.datetime(2019, 9, 10, 7, 0)}, {'low': '68.25000000', 'close': '69.80000000', 'atr14': 4.378887539815201, 'date': datetime.datetime(2019, 9, 11, 7, 0)}, {'low': '68.30000000', 'close': '69.15000000', 'atr14': 4.187538429828401, 'date': datetime.datetime(2019, 9, 12, 7, 0)}, {'low': '67.36000000', 'close': '68.93000000', 'atr14': 4.046999970554944, 'date': datetime.datetime(2019, 9, 13, 7, 0)}, {'low': '68.20000000', 'close': '70.50000000', 'atr14': 3.9936428298010194, 'date': datetime.datetime(2019, 9, 14, 7, 0)}, {'low': '69.50000000', 'close': '70.04000000', 'atr14': 3.8355254848152325, 'date': datetime.datetime(2019, 9, 15, 7, 0)}, {'low': '69.36000000', 'close': '72.63000000', 'atr14': 3.8694165216141445, 'date': datetime.datetime(2019, 9, 16, 7, 0)}, {'low': '72.15000000', 'close': '74.04000000', 'atr14': 3.9816010557845627, 'date': datetime.datetime(2019, 9, 17, 7, 0)}, {'low': '73.98000000', 'close': '77.81000000', 'atr14': 4.14862955179995, 'date': datetime.datetime(2019, 9, 18, 7, 0)}, {'low': '72.62000000', 'close': '76.56000000', 'atr14': 4.443727440957097, 'date': datetime.datetime(2019, 9, 19, 7, 0)}, {'low': '72.78000000', 'close': '75.05000000', 'atr14': 4.433461195174447, 'date': datetime.datetime(2019, 9, 20, 7, 0)}, {'low': '72.06000000', 'close': '73.22000000', 'atr14': 4.3682139669477005, 'date': datetime.datetime(2019, 9, 21, 7, 0)}, {'low': '71.03000000', 'close': '72.23000000', 'atr14': 4.2126272550228645, 'date': datetime.datetime(2019, 9, 22, 7, 0)}, {'low': '61.88000000', 'close': '66.54000000', 'atr14': 4.794582451092659, 'date': datetime.datetime(2019, 9, 23, 7, 0)}, {'low': '54.07000000', 'close': '54.57000000', 'atr14': 5.405683704586041, 'date': datetime.datetime(2019, 9, 24, 7, 0)}, {'low': '52.84000000', 'close': '57.43000000', 'atr14': 5.4124205828298955, 'date': datetime.datetime(2019, 9, 25, 7, 0)}, {'low': '50.30000000', 'close': '55.19000000', 'atr14': 5.544390541199189, 'date': datetime.datetime(2019, 9, 26, 7, 0)}, {'low': '52.61000000', 'close': '55.86000000', 'atr14': 5.434076931113533, 'date': datetime.datetime(2019, 9, 27, 7, 0)}, {'low': '53.67000000', 'close': '55.37000000', 'atr14': 5.22378572174828, 'date': datetime.datetime(2019, 9, 28, 7, 0)}, {'low': '52.13000000', 'close': '53.82000000', 'atr14': 5.097086741623402, 'date': datetime.datetime(2019, 9, 29, 7, 0)}, {'low': '52.46000000', 'close': '55.99000000', 'atr14': 5.003723402936016, 'date': datetime.datetime(2019, 9, 30, 7, 0)}, {'low': '54.82000000', 'close': '55.63000000', 'atr14': 4.844886017012015, 'date': datetime.datetime(2019, 10, 1, 7, 0)}, {'low': '55.13000000', 'close': '56.23000000', 'atr14': 4.608108444368298, 'date': datetime.datetime(2019, 10, 2, 7, 0)}, {'low': '53.62000000', 'close': '56.44000000', 'atr14': 4.5253864126277055, 'date': datetime.datetime(2019, 10, 3, 7, 0)}, {'low': '55.22000000', 'close': '56.30000000', 'atr14': 4.365001668868584, 'date': datetime.datetime(2019, 10, 4, 7, 0)}, {'low': '55.57000000', 'close': '56.69000000', 'atr14': 4.183930121092256, 'date': datetime.datetime(2019, 10, 5, 7, 0)}, {'low': '52.73000000', 'close': '54.41000000', 'atr14': 4.175792255299952, 'date': datetime.datetime(2019, 10, 6, 7, 0)}, {'low': '53.25000000', 'close': '57.46000000', 'atr14': 4.26323566563567, 'date': datetime.datetime(2019, 10, 7, 7, 0)}, {'low': '56.47000000', 'close': '56.94000000', 'atr14': 4.100147403804551, 'date': datetime.datetime(2019, 10, 8, 7, 0)}, {'low': '56.60000000', 'close': '59.12000000', 'atr14': 4.054422589247084, 'date': datetime.datetime(2019, 10, 9, 7, 0)}, {'low': '57.00000000', 'close': '57.47000000', 'atr14': 3.9312495471580062, 'date': datetime.datetime(2019, 10, 10, 7, 0)}, {'low': '55.33000000', 'close': '55.85000000', 'atr14': 3.8711602937895777, 'date': datetime.datetime(2019, 10, 11, 7, 0)}, {'low': '55.41000000', 'close': '55.70000000', 'atr14': 3.6725059870903225, 'date': datetime.datetime(2019, 10, 12, 7, 0)}, {'low': '55.47000000', 'close': '56.46000000', 'atr14': 3.5687555594410134, 'date': datetime.datetime(2019, 10, 13, 7, 0)}, {'low': '55.94000000', 'close': '56.83000000', 'atr14': 3.3967015909095126, 'date': datetime.datetime(2019, 10, 14, 7, 0)}, {'low': '53.40000000', 'close': '54.58000000', 'atr14': 3.4390800487016904, 'date': datetime.datetime(2019, 10, 15, 7, 0)}, {'low': '51.00000000', 'close': '52.45000000', 'atr14': 3.5070029023658553, 'date': datetime.datetime(2019, 10, 16, 7, 0)}, {'low': '51.57000000', 'close': '54.94000000', 'atr14': 3.517216980768294, 'date': datetime.datetime(2019, 10, 17, 7, 0)}, {'low': '52.19000000', 'close': '53.21000000', 'atr14': 3.467415767856273, 'date': datetime.datetime(2019, 10, 18, 7, 0)}, {'low': '52.54000000', 'close': '53.72000000', 'atr14': 3.335457498723682, 'date': datetime.datetime(2019, 10, 19, 7, 0)}, {'low': '52.58000000', 'close': '54.85000000', 'atr14': 3.302924820243419, 'date': datetime.datetime(2019, 10, 20, 7, 0)}, {'low': '53.67000000', 'close': '54.57000000', 'atr14': 3.2148587616546034, 'date': datetime.datetime(2019, 10, 21, 7, 0)}, {'low': '52.97000000', 'close': '53.39000000', 'atr14': 3.1366545643935604, 'date': datetime.datetime(2019, 10, 22, 7, 0)}, {'low': '47.10000000', 'close': '49.50000000', 'atr14': 3.365464952651163, 'date': datetime.datetime(2019, 10, 23, 7, 0)}, {'low': '48.30000000', 'close': '49.54000000', 'atr14': 3.26936031317608, 'date': datetime.datetime(2019, 10, 24, 7, 0)}, {'low': '49.01000000', 'close': '56.93000000', 'atr14': 3.7279774336635034, 'date': datetime.datetime(2019, 10, 25, 7, 0)}, {'low': '54.14000000', 'close': '56.71000000', 'atr14': 4.120979045544681, 'date': datetime.datetime(2019, 10, 26, 7, 0)}, {'low': '55.59000000', 'close': '59.78000000', 'atr14': 4.345194828005775, 'date': datetime.datetime(2019, 10, 27, 7, 0)}, {'low': '57.40000000', 'close': '57.70000000', 'atr14': 4.396966626005363, 'date': datetime.datetime(2019, 10, 28, 7, 0)}, {'low': '57.65000000', 'close': '59.75000000', 'atr14': 4.304326152719265, 'date': datetime.datetime(2019, 10, 29, 7, 0)}, {'low': '56.88000000', 'close': '57.89000000', 'atr14': 4.294731427525032, 'date': datetime.datetime(2019, 10, 30, 7, 0)}, {'low': '57.01000000', 'close': '58.29000000', 'atr14': 4.170107754130387, 'date': datetime.datetime(2019, 10, 31, 7, 0)}, {'low': '56.68000000', 'close': '58.23000000', 'atr14': 4.023671485978217, 'date': datetime.datetime(2019, 11, 1, 7, 0)}, {'low': '57.73000000', 'close': '58.25000000', 'atr14': 3.84055209412263, 'date': datetime.datetime(2019, 11, 2, 7, 0)}, {'low': '57.18000000', 'close': '58.29000000', 'atr14': 3.678369801685299, 'date': datetime.datetime(2019, 11, 3, 7, 0)}, {'low': '57.87000000', 'close': '61.29000000', 'atr14': 3.739200530136349, 'date': datetime.datetime(2019, 11, 4, 7, 0)}, {'low': '60.89000000', 'close': '63.12000000', 'atr14': 3.704971920840896, 'date': datetime.datetime(2019, 11, 5, 7, 0)}, {'low': '62.56000000', 'close': '64.11000000', 'atr14': 3.5667596407808317, 'date': datetime.datetime(2019, 11, 6, 7, 0)}, {'low': '60.27000000', 'close': '61.39000000', 'atr14': 3.6019910950107716, 'date': datetime.datetime(2019, 11, 7, 7, 0)}, {'low': '58.93000000', 'close': '60.38000000', 'atr14': 3.598991731081431, 'date': datetime.datetime(2019, 11, 8, 7, 0)}, {'low': '60.17000000', 'close': '62.04000000', 'atr14': 3.4990637502898996, 'date': datetime.datetime(2019, 11, 9, 7, 0)}, {'low': '60.80000000', 'close': '63.65000000', 'atr14': 3.6341306252691927, 'date': datetime.datetime(2019, 11, 10, 7, 0)}, {'low': '60.47000000', 'close': '61.84000000', 'atr14': 3.6502641520356787, 'date': datetime.datetime(2019, 11, 11, 7, 0)}, {'low': '59.75000000', 'close': '61.42000000', 'atr14': 3.568102426890273, 'date': datetime.datetime(2019, 11, 12, 7, 0)}, {'low': '60.27000000', 'close': '60.96000000', 'atr14': 3.4403808249695387, 'date': datetime.datetime(2019, 11, 13, 7, 0)}, {'low': '58.25000000', 'close': '59.00000000', 'atr14': 3.398210766043143, 'date': datetime.datetime(2019, 11, 14, 7, 0)}, {'low': '56.20000000', 'close': '57.60000000', 'atr14': 3.4804814256114898, 'date': datetime.datetime(2019, 11, 15, 7, 0)}, {'low': '57.14000000', 'close': '58.30000000', 'atr14': 3.363304180924955, 'date': datetime.datetime(2019, 11, 16, 7, 0)}, {'low': '57.55000000', 'close': '59.22000000', 'atr14': 3.295925310858887, 'date': datetime.datetime(2019, 11, 17, 7, 0)}, {'low': '54.00000000', 'close': '55.81000000', 'atr14': 3.439073502940395, 'date': datetime.datetime(2019, 11, 18, 7, 0)}, {'low': '54.20000000', 'close': '55.13000000', 'atr14': 3.3384253955875094, 'date': datetime.datetime(2019, 11, 19, 7, 0)}, {'low': '54.61000000', 'close': '54.98000000', 'atr14': 3.210680724474116, 'date': datetime.datetime(2019, 11, 20, 7, 0)}, {'low': '48.51000000', 'close': '50.61000000', 'atr14': 3.4656321012973934, 'date': datetime.datetime(2019, 11, 21, 7, 0)}, {'low': '43.58000000', 'close': '47.32000000', 'atr14': 3.787372665490437, 'date': datetime.datetime(2019, 11, 22, 7, 0)}, {'low': '46.13000000', 'close': '48.10000000', 'atr14': 3.6882746179554053, 'date': datetime.datetime(2019, 11, 23, 7, 0)}, {'low': '43.45000000', 'close': '43.86000000', 'atr14': 3.7669692881014476, 'date': datetime.datetime(2019, 11, 24, 7, 0)}, {'low': '42.04000000', 'close': '45.47000000', 'atr14': 3.882185767522773, 'date': datetime.datetime(2019, 11, 25, 7, 0)}, {'low': '45.22000000', 'close': '46.91000000', 'atr14': 3.772743926985432, 'date': datetime.datetime(2019, 11, 26, 7, 0)}, {'low': '44.51000000', 'close': '47.70000000', 'atr14': 3.8018336464864726, 'date': datetime.datetime(2019, 11, 27, 7, 0)}, {'low': '46.01000000', 'close': '46.79000000', 'atr14': 3.6724169574517247, 'date': datetime.datetime(2019, 11, 28, 7, 0)}, {'low': '46.73000000', 'close': '48.54000000', 'atr14': 3.5958157462051727, 'date': datetime.datetime(2019, 11, 29, 7, 0)}, {'low': '46.53000000', 'close': '47.21000000', 'atr14': 3.4982574786190885, 'date': datetime.datetime(2019, 11, 30, 7, 0)}, {'low': '45.50000000', 'close': '47.45000000', 'atr14': 3.459096230146297, 'date': datetime.datetime(2019, 12, 1, 7, 0)}, {'low': '44.71000000', 'close': '45.45000000', 'atr14': 3.4163036422787045, 'date': datetime.datetime(2019, 12, 2, 7, 0)}, {'low': '44.26000000', 'close': '44.75000000', 'atr14': 3.312281953544512, 'date': datetime.datetime(2019, 12, 3, 7, 0)}, {'low': '43.69000000', 'close': '44.67000000', 'atr14': 3.3106903854341896, 'date': datetime.datetime(2019, 12, 4, 7, 0)}, {'low': '43.70000000', 'close': '44.81000000', 'atr14': 3.1820696436174614, 'date': datetime.datetime(2019, 12, 5, 7, 0)}, {'low': '44.05000000', 'close': '45.28000000', 'atr14': 3.058350383359071, 'date': datetime.datetime(2019, 12, 6, 7, 0)}, {'low': '44.94000000', 'close': '45.15000000', 'atr14': 2.95132535597628, 'date': datetime.datetime(2019, 12, 7, 7, 0)}, {'low': '44.81000000', 'close': '45.56000000', 'atr14': 2.8398021162636886, 'date': datetime.datetime(2019, 12, 8, 7, 0)}, {'low': '44.04000000', 'close': '44.45000000', 'atr14': 2.7676733936734252, 'date': datetime.datetime(2019, 12, 9, 7, 0)}, {'low': '43.60000000', 'close': '44.09000000', 'atr14': 2.646411008411038, 'date': datetime.datetime(2019, 12, 10, 7, 0)}, {'low': '43.27000000', 'close': '43.70000000', 'atr14': 2.542381650667392, 'date': datetime.datetime(2019, 12, 11, 7, 0)}, {'low': '42.84000000', 'close': '43.65000000', 'atr14': 2.4514972470482923, 'date': datetime.datetime(2019, 12, 12, 7, 0)}, {'low': '43.43000000', 'close': '44.44000000', 'atr14': 2.356390300830557, 'date': datetime.datetime(2019, 12, 13, 7, 0)}, {'low': '43.19000000', 'close': '43.25000000', 'atr14': 2.2937909936283747, 'date': datetime.datetime(2019, 12, 14, 7, 0)}, {'low': '42.90000000', 'close': '43.44000000', 'atr14': 2.2113773512263477, 'date': datetime.datetime(2019, 12, 15, 7, 0)}, {'low': '39.02000000', 'close': '39.99000000', 'atr14': 2.377707540424466, 'date': datetime.datetime(2019, 12, 16, 7, 0)}, {'low': '36.10000000', 'close': '36.92000000', 'atr14': 2.495728430394147, 'date': datetime.datetime(2019, 12, 17, 7, 0)}, {'low': '35.78000000', 'close': '40.79000000', 'atr14': 2.741033542508851, 'date': datetime.datetime(2019, 12, 18, 7, 0)}, {'low': '39.06000000', 'close': '39.65000000', 'atr14': 2.6909597180439326, 'date': datetime.datetime(2019, 12, 19, 7, 0)}, {'low': '39.25000000', 'close': '40.17000000', 'atr14': 2.5816054524693657, 'date': datetime.datetime(2019, 12, 20, 7, 0)}, {'low': '39.41000000', 'close': '39.67000000', 'atr14': 2.455062205864411, 'date': datetime.datetime(2019, 12, 21, 7, 0)}, {'low': '39.62000000', 'close': '41.82000000', 'atr14': 2.46112919115981, 'date': datetime.datetime(2019, 12, 22, 7, 0)}, {'low': '40.21000000', 'close': '40.56000000', 'atr14': 2.4610485346483952, 'date': datetime.datetime(2019, 12, 23, 7, 0)}, {'low': '39.68000000', 'close': '40.34000000', 'atr14': 2.38883078217351, 'date': datetime.datetime(2019, 12, 24, 7, 0)}, {'low': '39.38000000', 'close': '40.08000000', 'atr14': 2.296771440589687, 'date': datetime.datetime(2019, 12, 25, 7, 0)}, {'low': '39.58000000', 'close': '40.01000000', 'atr14': 2.2862877662618524, 'date': datetime.datetime(2019, 12, 26, 7, 0)}, {'low': '39.67000000', 'close': '40.95000000', 'atr14': 2.253695782957434, 'date': datetime.datetime(2019, 12, 27, 7, 0)}, {'low': '40.91000000', 'close': '42.83000000', 'atr14': 2.2962889413176173, 'date': datetime.datetime(2019, 12, 28, 7, 0)}, {'low': '42.14000000', 'close': '43.08000000', 'atr14': 2.2479825883663587, 'date': datetime.datetime(2019, 12, 29, 7, 0)}, {'low': '41.82000000', 'close': '42.38000000', 'atr14': 2.255983832054476, 'date': datetime.datetime(2019, 12, 30, 7, 0)}, {'low': '41.00000000', 'close': '41.30000000', 'atr14': 2.241270701193442, 'date': datetime.datetime(2019, 12, 31, 7, 0)}, {'low': '41.16000000', 'close': '41.62000000', 'atr14': 2.1468942225367678, 'date': datetime.datetime(2020, 1, 1, 7, 0)}, {'low': '39.17000000', 'close': '39.43000000', 'atr14': 2.1771160637841414, 'date': datetime.datetime(2020, 1, 2, 7, 0)}, {'low': '38.77000000', 'close': '42.23000000', 'atr14': 2.280179202085274, 'date': datetime.datetime(2020, 1, 3, 7, 0)}, {'low': '41.77000000', 'close': '42.78000000', 'atr14': 2.198023544793468, 'date': datetime.datetime(2020, 1, 4, 7, 0)}, {'low': '42.60000000', 'close': '43.30000000', 'atr14': 2.184593291593935, 'date': datetime.datetime(2020, 1, 5, 7, 0)}, {'low': '43.16000000', 'close': '45.80000000', 'atr14': 2.2371223421943682, 'date': datetime.datetime(2020, 1, 6, 7, 0)}, {'low': '44.48000000', 'close': '46.30000000', 'atr14': 2.259470746323342, 'date': datetime.datetime(2020, 1, 7, 7, 0)}, {'low': '44.00000000', 'close': '45.35000000', 'atr14': 2.4223656930145316, 'date': datetime.datetime(2020, 1, 8, 7, 0)}, {'low': '43.90000000', 'close': '44.74000000', 'atr14': 2.3843395720849223, 'date': datetime.datetime(2020, 1, 9, 7, 0)}, {'low': '43.71000000', 'close': '49.06000000', 'atr14': 2.643315316935999, 'date': datetime.datetime(2020, 1, 10, 7, 0)}, {'low': '47.77000000', 'close': '49.30000000', 'atr14': 2.7530785085834277, 'date': datetime.datetime(2020, 1, 11, 7, 0)}, {'low': '48.78000000', 'close': '51.43000000', 'atr14': 2.7685729008274684, 'date': datetime.datetime(2020, 1, 12, 7, 0)}, {'low': '48.91000000', 'close': '49.60000000', 'atr14': 2.7629605507683634, 'date': datetime.datetime(2020, 1, 13, 7, 0)}, {'low': '49.58000000', 'close': '58.39000000', 'atr14': 3.3670347971420513, 'date': datetime.datetime(2020, 1, 14, 7, 0)}, {'low': '55.28000000', 'close': '58.16000000', 'atr14': 3.48724659734619, 'date': datetime.datetime(2020, 1, 15, 7, 0)}, {'low': '54.50000000', 'close': '57.56000000', 'atr14': 3.5238718403928906, 'date': datetime.datetime(2020, 1, 16, 7, 0)}, {'low': '56.72000000', 'close': '61.02000000', 'atr14': 3.7393095660791125, 'date': datetime.datetime(2020, 1, 17, 7, 0)}, {'low': '57.90000000', 'close': '59.32000000', 'atr14': 3.800787454216319, 'date': datetime.datetime(2020, 1, 18, 7, 0)}, {'low': '55.34000000', 'close': '57.60000000', 'atr14': 4.04430263605801, 'date': datetime.datetime(2020, 1, 19, 7, 0)}, {'low': '55.84000000', 'close': '57.19000000', 'atr14': 3.9304238763395802, 'date': datetime.datetime(2020, 1, 20, 7, 0)}, {'low': '55.91000000', 'close': '57.57000000', 'atr14': 3.8053935994581822, 'date': datetime.datetime(2020, 1, 21, 7, 0)}, {'low': '57.18000000', 'close': '58.33000000', 'atr14': 3.6871511994968835, 'date': datetime.datetime(2020, 1, 22, 7, 0)}, {'low': '52.42000000', 'close': '54.52000000', 'atr14': 3.8509261138185344, 'date': datetime.datetime(2020, 1, 23, 7, 0)}, {'low': '50.64000000', 'close': '54.38000000', 'atr14': 3.9165742485457815, 'date': datetime.datetime(2020, 1, 24, 7, 0)}, {'low': '51.90000000', 'close': '53.25000000', 'atr14': 3.81610465936394, 'date': datetime.datetime(2020, 1, 25, 7, 0)}, {'low': '52.80000000', 'close': '56.24000000', 'atr14': 3.820668612266516, 'date': datetime.datetime(2020, 1, 26, 7, 0)}, {'low': '55.87000000', 'close': '58.55000000', 'atr14': 3.8177637113903367, 'date': datetime.datetime(2020, 1, 27, 7, 0)}, {'low': '57.28000000', 'close': '60.52000000', 'atr14': 3.8543520177195982, 'date': datetime.datetime(2020, 1, 28, 7, 0)}, {'low': '59.40000000', 'close': '59.80000000', 'atr14': 3.8047554450253416, 'date': datetime.datetime(2020, 1, 29, 7, 0)}, {'low': '58.24000000', 'close': '67.98000000', 'atr14': 4.388701484666389, 'date': datetime.datetime(2020, 1, 30, 7, 0)}, {'low': '65.37000000', 'close': '68.00000000', 'atr14': 4.4130799500473605, 'date': datetime.datetime(2020, 1, 31, 7, 0)}, {'low': '67.62000000', 'close': '70.72000000', 'atr14': 4.48214566790112, 'date': datetime.datetime(2020, 2, 1, 7, 0)}, {'low': '67.66000000', 'close': '69.93000000', 'atr14': 4.579135263051041, 'date': datetime.datetime(2020, 2, 2, 7, 0)}, {'low': '68.45000000', 'close': '69.65000000', 'atr14': 4.577054172833109, 'date': datetime.datetime(2020, 2, 3, 7, 0)}, {'low': '66.62000000', 'close': '68.07000000', 'atr14': 4.527264589059316, 'date': datetime.datetime(2020, 2, 4, 7, 0)}, {'low': '67.62000000', 'close': '72.59000000', 'atr14': 4.621745689840793, 'date': datetime.datetime(2020, 2, 5, 7, 0)}, {'low': '70.91000000', 'close': '73.60000000', 'atr14': 4.589478140566451, 'date': datetime.datetime(2020, 2, 6, 7, 0)}, {'low': '72.85000000', 'close': '74.30000000', 'atr14': 4.449515416240276, 'date': datetime.datetime(2020, 2, 7, 7, 0)}, {'low': '71.53000000', 'close': '76.56000000', 'atr14': 4.589550029365971, 'date': datetime.datetime(2020, 2, 8, 7, 0)}, {'low': '75.00000000', 'close': '77.00000000', 'atr14': 4.506725027268402, 'date': datetime.datetime(2020, 2, 9, 7, 0)}, {'low': '72.21000000', 'close': '74.02000000', 'atr14': 4.561244668177802, 'date': datetime.datetime(2020, 2, 10, 7, 0)}, {'low': '72.64000000', 'close': '76.46000000', 'atr14': 4.575441477593674, 'date': datetime.datetime(2020, 2, 11, 7, 0)}, {'low': '76.44000000', 'close': '81.17000000', 'atr14': 4.7036242291941255, 'date': datetime.datetime(2020, 2, 12, 7, 0)}, {'low': '77.15000000', 'close': '80.55000000', 'atr14': 4.879793927108829, 'date': datetime.datetime(2020, 2, 13, 7, 0)}, {'low': '78.61000000', 'close': '83.14000000', 'atr14': 4.901237218029627, 'date': datetime.datetime(2020, 2, 14, 7, 0)}, {'low': '75.04000000', 'close': '76.70000000', 'atr14': 5.155434559598938, 'date': datetime.datetime(2020, 2, 15, 7, 0)}, {'low': '67.85000000', 'close': '74.67000000', 'atr14': 5.710046376770443, 'date': datetime.datetime(2020, 2, 16, 7, 0)}, {'low': '68.51000000', 'close': '73.41000000', 'atr14': 5.801471635572553, 'date': datetime.datetime(2020, 2, 17, 7, 0)}, {'low': '70.00000000', 'close': '77.25000000', 'atr14': 6.036366518745942, 'date': datetime.datetime(2020, 2, 18, 7, 0)}, {'low': '67.00000000', 'close': '70.61000000', 'atr14': 6.4944831959783755, 'date': datetime.datetime(2020, 2, 19, 7, 0)}, {'low': '66.10000000', 'close': '69.40000000', 'atr14': 6.482734396265635, 'date': datetime.datetime(2020, 2, 20, 7, 0)}, {'low': '68.56000000', 'close': '73.25000000', 'atr14': 6.497539082246661, 'date': datetime.datetime(2020, 2, 21, 7, 0)}, {'low': '72.32000000', 'close': '74.79000000', 'atr14': 6.352714862086186, 'date': datetime.datetime(2020, 2, 22, 7, 0)}, {'low': '74.66000000', 'close': '79.52000000', 'atr14': 6.280378086222887, 'date': datetime.datetime(2020, 2, 23, 7, 0)}, {'low': '71.71000000', 'close': '75.59000000', 'atr14': 6.406779651492682, 'date': datetime.datetime(2020, 2, 24, 7, 0)}, {'low': '69.54000000', 'close': '70.98000000', 'atr14': 6.416295390671776, 'date': datetime.datetime(2020, 2, 25, 7, 0)}, {'low': '57.41000000', 'close': '60.53000000', 'atr14': 7.010845719909506, 'date': datetime.datetime(2020, 2, 26, 7, 0)}, {'low': '57.15000000', 'close': '61.77000000', 'atr14': 7.077928168487397, 'date': datetime.datetime(2020, 2, 27, 7, 0)}, {'low': '56.56000000', 'close': '59.89000000', 'atr14': 7.06021901359544, 'date': datetime.datetime(2020, 2, 28, 7, 0)}, {'low': '57.84000000', 'close': '58.05000000', 'atr14': 6.828060512624337, 'date': datetime.datetime(2020, 2, 29, 7, 0)}, {'low': '56.21000000', 'close': '57.70000000', 'atr14': 6.631056190294028, 'date': datetime.datetime(2020, 3, 1, 7, 0)}, {'low': '57.25000000', 'close': '61.42000000', 'atr14': 6.5195521767015965, 'date': datetime.datetime(2020, 3, 2, 7, 0)}, {'low': '59.40000000', 'close': '61.01000000', 'atr14': 6.268155592651483, 'date': datetime.datetime(2020, 3, 3, 7, 0)}, {'low': '58.71000000', 'close': '60.38000000', 'atr14': 6.039715907462091, 'date': datetime.datetime(2020, 3, 4, 7, 0)}, {'low': '60.33000000', 'close': '62.06000000', 'atr14': 5.819736199786228, 'date': datetime.datetime(2020, 3, 5, 7, 0)}, {'low': '61.18000000', 'close': '63.22000000', 'atr14': 5.594040756944354, 'date': datetime.datetime(2020, 3, 6, 7, 0)}, {'low': '59.86000000', 'close': '60.46000000', 'atr14': 5.482323560019758, 'date': datetime.datetime(2020, 3, 7, 7, 0)}, {'low': '50.41000000', 'close': '51.00000000', 'atr14': 5.809300448589775, 'date': datetime.datetime(2020, 3, 8, 7, 0)}, {'low': '46.57000000', 'close': '50.39000000', 'atr14': 5.801493273690505, 'date': datetime.datetime(2020, 3, 9, 7, 0)}, {'low': '48.86000000', 'close': '50.26000000', 'atr14': 5.567815182712612, 'date': datetime.datetime(2020, 3, 10, 7, 0)}, {'low': '45.47000000', 'close': '48.53000000', 'atr14': 5.546542669661711, 'date': datetime.datetime(2020, 3, 11, 7, 0)}, {'low': '28.65000000', 'close': '29.83000000', 'atr14': 6.586789621828731, 'date': datetime.datetime(2020, 3, 12, 7, 0)}, {'low': '24.00000000', 'close': '37.52000000', 'atr14': 7.2534475059838215, 'date': datetime.datetime(2020, 3, 13, 7, 0)}, {'low': '33.80000000', 'close': '34.40000000', 'atr14': 7.010344112699262, 'date': datetime.datetime(2020, 3, 14, 7, 0)}, {'low': '34.04000000', 'close': '36.38000000', 'atr14': 6.844605247506458, 'date': datetime.datetime(2020, 3, 15, 7, 0)}, {'low': '29.29000000', 'close': '33.20000000', 'atr14': 6.864276301255996, 'date': datetime.datetime(2020, 3, 16, 7, 0)}, {'low': '32.42000000', 'close': '34.07000000', 'atr14': 6.6189708511662815, 'date': datetime.datetime(2020, 3, 17, 7, 0)}, {'low': '32.28000000', 'close': '34.71000000', 'atr14': 6.328330076082976, 'date': datetime.datetime(2020, 3, 18, 7, 0)}, {'low': '34.00000000', 'close': '38.90000000', 'atr14': 6.362020784934191, 'date': datetime.datetime(2020, 3, 19, 7, 0)}, {'low': '34.05000000', 'close': '38.08000000', 'atr14': 6.596162157438891, 'date': datetime.datetime(2020, 3, 20, 7, 0)}, {'low': '36.21000000', 'close': '38.32000000', 'atr14': 6.384293431907541, 'date': datetime.datetime(2020, 3, 21, 7, 0)}, {'low': '34.82000000', 'close': '35.40000000', 'atr14': 6.276129615342717, 'date': datetime.datetime(2020, 3, 22, 7, 0)}, {'low': '34.57000000', 'close': '38.94000000', 'atr14': 6.214977499961095, 'date': datetime.datetime(2020, 3, 23, 7, 0)}, {'low': '38.21000000', 'close': '40.57000000', 'atr14': 5.966764821392445, 'date': datetime.datetime(2020, 3, 24, 7, 0)}, {'low': '38.09000000', 'close': '39.17000000', 'atr14': 5.751281619864413, 'date': datetime.datetime(2020, 3, 25, 7, 0)}, {'low': '38.40000000', 'close': '40.41000000', 'atr14': 5.489047218445526, 'date': datetime.datetime(2020, 3, 26, 7, 0)}, {'low': '37.73000000', 'close': '38.04000000', 'atr14': 5.345543845699417, 'date': datetime.datetime(2020, 3, 27, 7, 0)}, {'low': '36.61000000', 'close': '38.87000000', 'atr14': 5.165147856720886, 'date': datetime.datetime(2020, 3, 28, 7, 0)}, {'low': '36.97000000', 'close': '37.11000000', 'atr14': 4.949065866955109, 'date': datetime.datetime(2020, 3, 29, 7, 0)}, {'low': '37.10000000', 'close': '38.91000000', 'atr14': 4.781275447886886, 'date': datetime.datetime(2020, 3, 30, 7, 0)}, {'low': '38.33000000', 'close': '39.08000000', 'atr14': 4.510470058752108, 'date': datetime.datetime(2020, 3, 31, 7, 0)}, {'low': '37.14000000', 'close': '39.23000000', 'atr14': 4.356865054555529, 'date': datetime.datetime(2020, 4, 1, 7, 0)}, {'low': '39.00000000', 'close': '39.86000000', 'atr14': 4.325660407801562, 'date': datetime.datetime(2020, 4, 2, 7, 0)}, {'low': '39.64000000', 'close': '40.46000000', 'atr14': 4.132398950101451, 'date': datetime.datetime(2020, 4, 3, 7, 0)}, {'low': '39.86000000', 'close': '40.71000000', 'atr14': 3.9300847393799185, 'date': datetime.datetime(2020, 4, 4, 7, 0)}, {'low': '39.86000000', 'close': '40.31000000', 'atr14': 3.730792972281353, 'date': datetime.datetime(2020, 4, 5, 7, 0)}, {'low': '40.28000000', 'close': '45.04000000', 'atr14': 3.8078791885469707, 'date': datetime.datetime(2020, 4, 6, 7, 0)}, {'low': '43.64000000', 'close': '44.77000000', 'atr14': 3.8216021036507586, 'date': datetime.datetime(2020, 4, 7, 7, 0)}, {'low': '44.27000000', 'close': '46.55000000', 'atr14': 3.7579162391042757, 'date': datetime.datetime(2020, 4, 8, 7, 0)}, {'low': '44.69000000', 'close': '46.21000000', 'atr14': 3.6444936505968277, 'date': datetime.datetime(2020, 4, 9, 7, 0)}, {'low': '40.86000000', 'close': '42.25000000', 'atr14': 3.779172675554197, 'date': datetime.datetime(2020, 4, 10, 7, 0)}, {'low': '41.43000000', 'close': '42.54000000', 'atr14': 3.632803198728897, 'date': datetime.datetime(2020, 4, 11, 7, 0)}, {'low': '41.83000000', 'close': '42.00000000', 'atr14': 3.4983172559625473, 'date': datetime.datetime(2020, 4, 12, 7, 0)}, {'low': '39.52000000', 'close': '41.22000000', 'atr14': 3.425580309108079, 'date': datetime.datetime(2020, 4, 13, 7, 0)}, {'low': '40.47000000', 'close': '41.22000000', 'atr14': 3.2794674298860733, 'date': datetime.datetime(2020, 4, 14, 7, 0)}, {'low': '39.08000000', 'close': '39.22000000', 'atr14': 3.2359340420370684, 'date': datetime.datetime(2020, 4, 15, 7, 0)}, {'low': '37.91000000', 'close': '42.53000000', 'atr14': 3.4240816104629923, 'date': datetime.datetime(2020, 4, 16, 7, 0)}, {'low': '41.61000000', 'close': '42.19000000', 'atr14': 3.2795043525727787, 'date': datetime.datetime(2020, 4, 17, 7, 0)}, {'low': '41.98000000', 'close': '44.14000000', 'atr14': 3.2202540416747234, 'date': datetime.datetime(2020, 4, 18, 7, 0)}, {'low': '41.54000000', 'close': '42.23000000', 'atr14': 3.1873787529836717, 'date': datetime.datetime(2020, 4, 19, 7, 0)}, {'low': '39.55000000', 'close': '40.21000000', 'atr14': 3.2232802706276957, 'date': datetime.datetime(2020, 4, 20, 7, 0)}, {'low': '40.01000000', 'close': '40.59000000', 'atr14': 3.088045965582861, 'date': datetime.datetime(2020, 4, 21, 7, 0)}, {'low': '40.27000000', 'close': '41.80000000', 'atr14': 3.0138998251840854, 'date': datetime.datetime(2020, 4, 22, 7, 0)}, {'low': '40.94000000', 'close': '42.98000000', 'atr14': 3.010764123385222, 'date': datetime.datetime(2020, 4, 23, 7, 0)}, {'low': '42.83000000', 'close': '44.53000000', 'atr14': 2.949995257429135, 'date': datetime.datetime(2020, 4, 24, 7, 0)}, {'low': '43.84000000', 'close': '44.38000000', 'atr14': 2.863567024755625, 'date': datetime.datetime(2020, 4, 25, 7, 0)}, {'low': '43.75000000', 'close': '44.52000000', 'atr14': 2.776169380130223, 'date': datetime.datetime(2020, 4, 26, 7, 0)}, {'low': '43.16000000', 'close': '44.46000000', 'atr14': 2.7257287101209218, 'date': datetime.datetime(2020, 4, 27, 7, 0)}, {'low': '43.42000000', 'close': '45.69000000', 'atr14': 2.7246052308265702, 'date': datetime.datetime(2020, 4, 28, 7, 0)}, {'low': '45.64000000', 'close': '48.81000000', 'atr14': 2.8349905714818147, 'date': datetime.datetime(2020, 4, 29, 7, 0)}, {'low': '45.59000000', 'close': '46.33000000', 'atr14': 3.004634102090256, 'date': datetime.datetime(2020, 4, 30, 7, 0)}, {'low': '46.30000000', 'close': '47.07000000', 'atr14': 2.930731666226667, 'date': datetime.datetime(2020, 5, 1, 7, 0)}, {'low': '46.73000000', 'close': '49.20000000', 'atr14': 2.9263936900676195, 'date': datetime.datetime(2020, 5, 2, 7, 0)}, {'low': '46.61000000', 'close': '48.05000000', 'atr14': 2.9609369979199327, 'date': datetime.datetime(2020, 5, 3, 7, 0)}, {'low': '45.11000000', 'close': '46.96000000', 'atr14': 2.9701557837827948, 'date': datetime.datetime(2020, 5, 4, 7, 0)}, {'low': '45.71000000', 'close': '46.54000000', 'atr14': 2.9044303706554517, 'date': datetime.datetime(2020, 5, 5, 7, 0)}, {'low': '44.55000000', 'close': '44.94000000', 'atr14': 2.9112567727514906, 'date': datetime.datetime(2020, 5, 6, 7, 0)}, {'low': '44.37000000', 'close': '47.37000000', 'atr14': 2.9783098604120988, 'date': datetime.datetime(2020, 5, 7, 7, 0)}, {'low': '46.34000000', 'close': '47.69000000', 'atr14': 2.9148591560969486, 'date': datetime.datetime(2020, 5, 8, 7, 0)}, {'low': '46.75000000', 'close': '46.95000000', 'atr14': 2.8745120735185954, 'date': datetime.datetime(2020, 5, 9, 7, 0)}, {'low': '39.40000000', 'close': '42.06000000', 'atr14': 3.214904068267267, 'date': datetime.datetime(2020, 5, 10, 7, 0)}, {'low': '39.37000000', 'close': '41.51000000', 'atr14': 3.237410920533891, 'date': datetime.datetime(2020, 5, 11, 7, 0)}, {'low': '41.26000000', 'close': '42.18000000', 'atr14': 3.1218815690671846, 'date': datetime.datetime(2020, 5, 12, 7, 0)}, {'low': '41.94000000', 'close': '43.18000000', 'atr14': 3.0274614569909573, 'date': datetime.datetime(2020, 5, 13, 7, 0)}, {'low': '42.21000000', 'close': '43.98000000', 'atr14': 2.9662142100630318, 'date': datetime.datetime(2020, 5, 14, 7, 0)}, {'low': '41.82000000', 'close': '42.74000000', 'atr14': 2.9200560522013865, 'date': datetime.datetime(2020, 5, 15, 7, 0)}, {'low': '42.50000000', 'close': '43.25000000', 'atr14': 2.8107663341870017, 'date': datetime.datetime(2020, 5, 16, 7, 0)}, {'low': '43.10000000', 'close': '43.71000000', 'atr14': 2.709283024602216, 'date': datetime.datetime(2020, 5, 17, 7, 0)}, {'low': '43.64000000', 'close': '45.32000000', 'atr14': 2.7264770942734864, 'date': datetime.datetime(2020, 5, 18, 7, 0)}, {'low': '44.07000000', 'close': '45.73000000', 'atr14': 2.6553001589682372, 'date': datetime.datetime(2020, 5, 19, 7, 0)}, {'low': '43.17000000', 'close': '44.25000000', 'atr14': 2.6777787190419344, 'date': datetime.datetime(2020, 5, 20, 7, 0)}, {'low': '41.66000000', 'close': '42.73000000', 'atr14': 2.6979373819675105, 'date': datetime.datetime(2020, 5, 21, 7, 0)}, {'low': '42.35000000', 'close': '44.23000000', 'atr14': 2.6716561403984023, 'date': datetime.datetime(2020, 5, 22, 7, 0)}, {'low': '43.67000000', 'close': '43.85000000', 'atr14': 2.557252130369945, 'date': datetime.datetime(2020, 5, 23, 7, 0)}, {'low': '42.04000000', 'close': '42.08000000', 'atr14': 2.553876978200663, 'date': datetime.datetime(2020, 5, 24, 7, 0)}, {'low': '41.72000000', 'close': '42.97000000', 'atr14': 2.485742908329187, 'date': datetime.datetime(2020, 5, 25, 7, 0)}, {'low': '41.76000000', 'close': '42.27000000', 'atr14': 2.40176127201996, 'date': datetime.datetime(2020, 5, 26, 7, 0)}, {'low': '42.22000000', 'close': '43.85000000', 'atr14': 2.3609211811613915, 'date': datetime.datetime(2020, 5, 27, 7, 0)}, {'low': '43.15000000', 'close': '44.77000000', 'atr14': 2.315855382507007, 'date': datetime.datetime(2020, 5, 28, 7, 0)}, {'low': '44.17000000', 'close': '44.47000000', 'atr14': 2.2304371408993635, 'date': datetime.datetime(2020, 5, 29, 7, 0)}, {'low': '44.18000000', 'close': '47.72000000', 'atr14': 2.3496916308351232, 'date': datetime.datetime(2020, 5, 30, 7, 0)}, {'low': '45.07000000', 'close': '45.61000000', 'atr14': 2.379713657204043, 'date': datetime.datetime(2020, 5, 31, 7, 0)}, {'low': '45.36000000', 'close': '48.25000000', 'atr14': 2.456162681689469, 'date': datetime.datetime(2020, 6, 1, 7, 0)}, {'low': '44.00000000', 'close': '45.99000000', 'atr14': 2.706436775854507, 'date': datetime.datetime(2020, 6, 2, 7, 0)}, {'low': '45.25000000', 'close': '47.16000000', 'atr14': 2.6738341490077566, 'date': datetime.datetime(2020, 6, 3, 7, 0)}, {'low': '46.15000000', 'close': '47.43000000', 'atr14': 2.6221317097929173, 'date': datetime.datetime(2020, 6, 4, 7, 0)}, {'low': '46.42000000', 'close': '46.83000000', 'atr14': 2.546265159093423, 'date': datetime.datetime(2020, 6, 5, 7, 0)}, {'low': '46.07000000', 'close': '46.79000000', 'atr14': 2.4479605048724644, 'date': datetime.datetime(2020, 6, 6, 7, 0)}, {'low': '45.06000000', 'close': '46.63000000', 'atr14': 2.4102490402387167, 'date': datetime.datetime(2020, 6, 7, 7, 0)}, {'low': '45.95000000', 'close': '46.43000000', 'atr14': 2.298088394507379, 'date': datetime.datetime(2020, 6, 8, 7, 0)}, {'low': '45.31000000', 'close': '45.87000000', 'atr14': 2.2432249377568523, 'date': datetime.datetime(2020, 6, 9, 7, 0)}, {'low': '45.65000000', 'close': '46.63000000', 'atr14': 2.1929945850599344, 'date': datetime.datetime(2020, 6, 10, 7, 0)}, {'low': '42.00000000', 'close': '43.22000000', 'atr14': 2.390637828984225, 'date': datetime.datetime(2020, 6, 11, 7, 0)}, {'low': '42.81000000', 'close': '44.72000000', 'atr14': 2.4020208411996373, 'date': datetime.datetime(2020, 6, 12, 7, 0)}, {'low': '44.27000000', 'close': '45.08000000', 'atr14': 2.2983050668282345, 'date': datetime.datetime(2020, 6, 13, 7, 0)}, {'low': '43.53000000', 'close': '44.05000000', 'atr14': 2.2469975620547893, 'date': datetime.datetime(2020, 6, 14, 7, 0)}, {'low': '41.75000000', 'close': '43.73000000', 'atr14': 2.2536405933365904, 'date': datetime.datetime(2020, 6, 15, 7, 0)}, {'low': '43.33000000', 'close': '43.88000000', 'atr14': 2.1562376938125483, 'date': datetime.datetime(2020, 6, 16, 7, 0)}, {'low': '43.00000000', 'close': '44.07000000', 'atr14': 2.147935001397366, 'date': datetime.datetime(2020, 6, 17, 7, 0)}, {'low': '42.88000000', 'close': '43.43000000', 'atr14': 2.090939644154697, 'date': datetime.datetime(2020, 6, 18, 7, 0)}, {'low': '42.57000000', 'close': '42.89000000', 'atr14': 2.024443955286504, 'date': datetime.datetime(2020, 6, 19, 7, 0)}, {'low': '42.21000000', 'close': '43.57000000', 'atr14': 1.9969836727660393, 'date': datetime.datetime(2020, 6, 20, 7, 0)}, {'low': '42.88000000', 'close': '43.00000000', 'atr14': 1.9221991247113217, 'date': datetime.datetime(2020, 6, 21, 7, 0)}, {'low': '42.94000000', 'close': '44.30000000', 'atr14': 1.9084706158033704, 'date': datetime.datetime(2020, 6, 22, 7, 0)}, {'low': '43.89000000', 'close': '44.18000000', 'atr14': 1.8150084289602726, 'date': datetime.datetime(2020, 6, 23, 7, 0)}, {'low': '42.10000000', 'close': '42.65000000', 'atr14': 1.8703649697488243, 'date': datetime.datetime(2020, 6, 24, 7, 0)}, {'low': '41.68000000', 'close': '42.35000000', 'atr14': 1.831053186195337, 'date': datetime.datetime(2020, 6, 25, 7, 0)}, {'low': '41.37000000', 'close': '43.09000000', 'atr14': 1.8595493871813846, 'date': datetime.datetime(2020, 6, 26, 7, 0)}, {'low': '39.11000000', 'close': '41.06000000', 'atr14': 2.013153002382714, 'date': datetime.datetime(2020, 6, 27, 7, 0)}, {'low': '40.48000000', 'close': '41.37000000', 'atr14': 1.9814992164982344, 'date': datetime.datetime(2020, 6, 28, 7, 0)}, {'low': '40.59000000', 'close': '41.87000000', 'atr14': 1.961392129605503, 'date': datetime.datetime(2020, 6, 29, 7, 0)}, {'low': '40.73000000', 'close': '41.17000000', 'atr14': 1.9170069774908245, 'date': datetime.datetime(2020, 6, 30, 7, 0)}, {'low': '40.96000000', 'close': '41.77000000', 'atr14': 1.855077907670051, 'date': datetime.datetime(2020, 7, 1, 7, 0)}, {'low': '40.28000000', 'close': '41.05000000', 'atr14': 1.8382866285507615, 'date': datetime.datetime(2020, 7, 2, 7, 0)}, {'low': '40.89000000', 'close': '41.14000000', 'atr14': 1.7648375836542787, 'date': datetime.datetime(2020, 7, 3, 7, 0)}, {'low': '41.06000000', 'close': '42.11000000', 'atr14': 1.7223491848218297, 'date': datetime.datetime(2020, 7, 4, 7, 0)}, {'low': '40.75000000', 'close': '41.58000000', 'atr14': 1.7028956716202706, 'date': datetime.datetime(2020, 7, 5, 7, 0)}, {'low': '41.50000000', 'close': '44.06000000', 'atr14': 1.7819745522188228, 'date': datetime.datetime(2020, 7, 6, 7, 0)}, {'low': '43.06000000', 'close': '43.39000000', 'atr14': 1.7568335127746213, 'date': datetime.datetime(2020, 7, 7, 7, 0)}, {'low': '43.10000000', 'close': '45.35000000', 'atr14': 1.8113454047192907, 'date': datetime.datetime(2020, 7, 8, 7, 0)}, {'low': '43.57000000', 'close': '44.33000000', 'atr14': 1.8462493043821984, 'date': datetime.datetime(2020, 7, 9, 7, 0)}, {'low': '43.44000000', 'close': '44.30000000', 'atr14': 1.8000886397834701, 'date': datetime.datetime(2020, 7, 10, 7, 0)}, {'low': '43.85000000', 'close': '44.69000000', 'atr14': 1.7372251655132225, 'date': datetime.datetime(2020, 7, 11, 7, 0)}, {'low': '43.70000000', 'close': '44.70000000', 'atr14': 1.7274233679765634, 'date': datetime.datetime(2020, 7, 12, 7, 0)}, {'low': '42.31000000', 'close': '43.92000000', 'atr14': 1.8383216988353805, 'date': datetime.datetime(2020, 7, 13, 7, 0)}, {'low': '42.86000000', 'close': '43.88000000', 'atr14': 1.7948701489185679, 'date': datetime.datetime(2020, 7, 14, 7, 0)}, {'low': '42.81000000', 'close': '43.33000000', 'atr14': 1.7559508525672416, 'date': datetime.datetime(2020, 7, 15, 7, 0)}, {'low': '40.85000000', 'close': '42.09000000', 'atr14': 1.81909722024101, 'date': datetime.datetime(2020, 7, 16, 7, 0)}, {'low': '41.72000000', 'close': '41.90000000', 'atr14': 1.7441617045095097, 'date': datetime.datetime(2020, 7, 17, 7, 0)}, {'low': '41.73000000', 'close': '42.45000000', 'atr14': 1.703150154187402, 'date': datetime.datetime(2020, 7, 18, 7, 0)}, {'low': '41.83000000', 'close': '42.64000000', 'atr14': 1.6572108574597306, 'date': datetime.datetime(2020, 7, 19, 7, 0)}, {'low': '41.37000000', 'close': '41.94000000', 'atr14': 1.6402672247840357, 'date': datetime.datetime(2020, 7, 20, 7, 0)}, {'low': '41.87000000', 'close': '43.77000000', 'atr14': 1.6831052801566049, 'date': datetime.datetime(2020, 7, 21, 7, 0)}, {'low': '43.20000000', 'close': '44.96000000', 'atr14': 1.7000263315739896, 'date': datetime.datetime(2020, 7, 22, 7, 0)}, {'low': '44.52000000', 'close': '44.94000000', 'atr14': 1.657881593604419, 'date': datetime.datetime(2020, 7, 23, 7, 0)}, {'low': '44.40000000', 'close': '44.77000000', 'atr14': 1.579461479775532, 'date': datetime.datetime(2020, 7, 24, 7, 0)}]\n"
     ]
    }
   ],
   "source": [
    "import json\n",
    "import datetime\n",
    "\n",
    "input_file = open ('array.json')\n",
    "json_array = json.load(input_file)\n",
    "store_list = []\n",
    "atr_list = [3.7430, 3.9427, 3.8904, 3.8668, 3.7156, 3.7666, 3.6140, 3.6488, 3.6495, 3.5031, 3.4551, 3.3554, 3.2943]\n",
    "\n",
    "previous_close = 0\n",
    "\n",
    "for item in json_array:\n",
    "    store_details = {\"low\":None, \"close\":None, \"atr14\":None, \"date\":None}\n",
    "    store_details['low'] = item[3]\n",
    "    store_details['close'] = item[4]\n",
    "    if len(store_list) < len(atr_list):\n",
    "        store_details['atr14'] = atr_list[len(store_list)]\n",
    "    else:\n",
    "        tr = max([abs(float(item[2]) - previous_close), abs(float(item[3]) - previous_close), abs(float(item[3]) - float(item[2]))])\n",
    "#         print(tr)\n",
    "#         atr = (sum(atr_list[-13:]) + tr)/14\n",
    "        atr = (atr_list[-1]*13 + tr)/14\n",
    "        atr_list.append(atr)\n",
    "        store_details['atr14'] = atr_list[-1]\n",
    "    store_details['date'] = datetime.datetime.fromtimestamp(item[0] / 1e3)\n",
    "    store_list.append(store_details)\n",
    "    previous_close = float(item[4])\n",
    "    \n",
    "print(store_list)"
   ]
  },
  {
   "cell_type": "markdown",
   "metadata": {},
   "source": []
  },
  {
   "cell_type": "code",
   "execution_count": 58,
   "metadata": {},
   "outputs": [
    {
     "name": "stdout",
     "output_type": "stream",
     "text": [
      "20190326000000\n"
     ]
    }
   ],
   "source": [
    "from datetime import datetime\n",
    "dt = datetime(2019,3,26)\n",
    "\n",
    "print(int(dt.strftime(\"%Y%m%d%H%M%S\")))"
   ]
  },
  {
   "cell_type": "code",
   "execution_count": null,
   "metadata": {},
   "outputs": [],
   "source": []
  }
 ],
 "metadata": {
  "kernelspec": {
   "display_name": "Python 3",
   "language": "python",
   "name": "python3"
  },
  "language_info": {
   "codemirror_mode": {
    "name": "ipython",
    "version": 3
   },
   "file_extension": ".py",
   "mimetype": "text/x-python",
   "name": "python",
   "nbconvert_exporter": "python",
   "pygments_lexer": "ipython3",
   "version": "3.7.6"
  }
 },
 "nbformat": 4,
 "nbformat_minor": 4
}
