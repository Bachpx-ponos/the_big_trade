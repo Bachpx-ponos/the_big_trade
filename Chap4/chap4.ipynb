{
 "cells": [
  {
   "cell_type": "code",
   "execution_count": 42,
   "metadata": {},
   "outputs": [
    {
     "name": "stdout",
     "output_type": "stream",
     "text": [
      "3.2\n"
     ]
    }
   ],
   "source": [
    "v = [0.5, 0.75, 1.0, 1.5, 2.0, 1.2]\n",
    "\n",
    "print(sum(v[-2:]))"
   ]
  },
  {
   "cell_type": "code",
   "execution_count": 2,
   "metadata": {},
   "outputs": [],
   "source": [
    "import array"
   ]
  },
  {
   "cell_type": "code",
   "execution_count": 3,
   "metadata": {},
   "outputs": [],
   "source": [
    "a = array.array('f', v)"
   ]
  },
  {
   "cell_type": "code",
   "execution_count": 53,
   "metadata": {},
   "outputs": [
    {
     "data": {
      "text/plain": [
       "2.1699999999999946"
      ]
     },
     "execution_count": 53,
     "metadata": {},
     "output_type": "execute_result"
    }
   ],
   "source": [
    "arr = [3.7430, 3.9427, 3.8904, 3.8668, 3.7156, 3.7666, 3.6140, 3.6488, 3.6495, 3.5031, 3.4551, 3.3554, 3.2945]\n",
    "\n",
    "3.21*14-3.29*13"
   ]
  },
  {
   "cell_type": "code",
   "execution_count": 8,
   "metadata": {},
   "outputs": [],
   "source": [
    "f = open('array.apy', 'wb')"
   ]
  },
  {
   "cell_type": "code",
   "execution_count": 14,
   "metadata": {},
   "outputs": [
    {
     "data": {
      "text/plain": [
       "array('f')"
      ]
     },
     "execution_count": 14,
     "metadata": {},
     "output_type": "execute_result"
    }
   ],
   "source": [
    "b\n"
   ]
  },
  {
   "cell_type": "code",
   "execution_count": 15,
   "metadata": {},
   "outputs": [],
   "source": [
    "with open('array.apy', 'rb') as f:\n",
    "    b.fromfile(f, 5)"
   ]
  },
  {
   "cell_type": "code",
   "execution_count": 16,
   "metadata": {},
   "outputs": [
    {
     "data": {
      "text/plain": [
       "array('f', [0.5, 0.75, 1.0, 1.5, 2.0])"
      ]
     },
     "execution_count": 16,
     "metadata": {},
     "output_type": "execute_result"
    }
   ],
   "source": [
    "b\n"
   ]
  },
  {
   "cell_type": "code",
   "execution_count": 17,
   "metadata": {},
   "outputs": [
    {
     "data": {
      "text/plain": [
       "<_io.BufferedReader name='array.apy'>"
      ]
     },
     "execution_count": 17,
     "metadata": {},
     "output_type": "execute_result"
    }
   ],
   "source": [
    "f"
   ]
  },
  {
   "cell_type": "code",
   "execution_count": 18,
   "metadata": {},
   "outputs": [
    {
     "data": {
      "text/plain": [
       "array('f', [0.5, 0.75, 1.0, 1.5, 2.0])"
      ]
     },
     "execution_count": 18,
     "metadata": {},
     "output_type": "execute_result"
    }
   ],
   "source": [
    "b"
   ]
  },
  {
   "cell_type": "code",
   "execution_count": 19,
   "metadata": {},
   "outputs": [
    {
     "data": {
      "text/plain": [
       "<_io.BufferedReader name='array.apy'>"
      ]
     },
     "execution_count": 19,
     "metadata": {},
     "output_type": "execute_result"
    }
   ],
   "source": [
    "f"
   ]
  },
  {
   "cell_type": "code",
   "execution_count": 20,
   "metadata": {},
   "outputs": [],
   "source": [
    "f = open('array.apy', 'wb')\n",
    "a.tofile(f)\n",
    "f.close()"
   ]
  },
  {
   "cell_type": "code",
   "execution_count": 21,
   "metadata": {},
   "outputs": [
    {
     "data": {
      "text/plain": [
       "<_io.BufferedWriter name='array.apy'>"
      ]
     },
     "execution_count": 21,
     "metadata": {},
     "output_type": "execute_result"
    }
   ],
   "source": [
    "f\n"
   ]
  },
  {
   "cell_type": "code",
   "execution_count": 22,
   "metadata": {},
   "outputs": [],
   "source": [
    "b = array.array('f')"
   ]
  },
  {
   "cell_type": "code",
   "execution_count": 23,
   "metadata": {},
   "outputs": [],
   "source": [
    "with open('array.apy', 'rb') as f:\n",
    "    b.fromfile(f, 5)"
   ]
  },
  {
   "cell_type": "code",
   "execution_count": 24,
   "metadata": {},
   "outputs": [
    {
     "data": {
      "text/plain": [
       "array('f', [0.5, 0.75, 1.0, 1.5, 2.0])"
      ]
     },
     "execution_count": 24,
     "metadata": {},
     "output_type": "execute_result"
    }
   ],
   "source": [
    "b"
   ]
  },
  {
   "cell_type": "code",
   "execution_count": 29,
   "metadata": {},
   "outputs": [
    {
     "name": "stdout",
     "output_type": "stream",
     "text": [
      "<_io.BufferedReader name='array.apy'>\n"
     ]
    }
   ],
   "source": [
    "with open('array.apy', 'rb') as f:\n",
    "   print(f)"
   ]
  },
  {
   "cell_type": "code",
   "execution_count": 112,
   "metadata": {},
   "outputs": [
    {
     "name": "stdout",
     "output_type": "stream",
     "text": [
      "98.22097378277154\n",
      "98.40023887512436\n",
      "100.08340085588307\n",
      "101.65573806132527\n",
      "99.1620186572235\n",
      "103.77208258559153\n",
      "98.18721909431162\n",
      "110.94339797387731\n",
      "109.56390091633506\n",
      "118.12314362258945\n",
      "120.43355582923634\n",
      "122.45902926818259\n",
      "127.50979965044482\n",
      "126.8491271133959\n",
      "131.59205517791813\n",
      "128.3947415360173\n",
      "127.76166511852895\n",
      "128.8750167717047\n",
      "133.49143528292998\n",
      "132.1325069918055\n",
      "115.01266390874298\n",
      "123.74729576107046\n",
      "129.68023697516205\n",
      "129.6287867720376\n",
      "169.76167817406113\n",
      "172.32818908422988\n",
      "173.62222182783597\n",
      "184.61245001087744\n",
      "194.49905583633307\n",
      "192.51667027765833\n",
      "195.19051292040362\n",
      "196.3496014769381\n",
      "194.87828466625766\n",
      "198.14340166892848\n"
     ]
    },
    {
     "data": {
      "text/plain": [
       "[<matplotlib.lines.Line2D at 0x11d21f9d0>]"
      ]
     },
     "execution_count": 112,
     "metadata": {},
     "output_type": "execute_result"
    },
    {
     "data": {
      "image/png": "[encoded data removed]",
      "text/plain": [
       "<Figure size 432x288 with 1 Axes>"
      ]
     },
     "metadata": {
      "needs_background": "light"
     },
     "output_type": "display_data"
    }
   ],
   "source": [
    "import json\n",
    "import datetime\n",
    "import matplotlib.pyplot as plt\n",
    "\n",
    "input_file = open ('array.json')\n",
    "json_array = json.load(input_file)\n",
    "store_list = []\n",
    "atr_list = [3.7430, 3.9427, 3.8904, 3.8668, 3.7156, 3.7666, 3.6140, 3.6488, 3.6495, 3.5031, 3.4551, 3.3554, 3.2943]\n",
    "\n",
    "previous_close = 0\n",
    "\n",
    "for item in json_array:\n",
    "    store_details = {\"low\":None, \"close\":None, \"atr14\":None, \"date\":None}\n",
    "    store_details['low'] = item[3]\n",
    "    store_details['close'] = item[4]\n",
    "    if len(store_list) < len(atr_list):\n",
    "        store_details['atr14'] = atr_list[len(store_list)]\n",
    "    else:\n",
    "        tr = max([abs(float(item[2]) - previous_close), abs(float(item[3]) - previous_close), abs(float(item[3]) - float(item[2]))])\n",
    "#         print(tr)\n",
    "#         atr = (sum(atr_list[-13:]) + tr)/14\n",
    "        atr = (atr_list[-1]*13 + tr)/14\n",
    "        atr_list.append(atr)\n",
    "        store_details['atr14'] = atr_list[-1]\n",
    "    store_details['date'] = datetime.datetime.fromtimestamp(item[0] / 1e3)\n",
    "    store_list.append(store_details)\n",
    "    previous_close = float(item[4])\n",
    "\n",
    "fund = 100\n",
    "# print(store_list)\n",
    "\n",
    "x_column = []\n",
    "y_column = []\n",
    "\n",
    "count = 0\n",
    "\n",
    "for x in range(200, 499):\n",
    "    if ((store_list[x]['atr14'] > store_list[x-1]['atr14']) and (float(store_list[x]['low']) > float(store_list[x+1]['low']))):\n",
    "#         print( (float(store_list[x+1]['close']) - float(store_list[x]['low']))/(float(store_list[x]['low']))*100 )\n",
    "#         print(store_list[x])\n",
    "#         print(store_list[x+1])\n",
    "#         print(str(store_list[x+1]['close'])+','+str(store_list[x]['low']))\n",
    "#         print(float(store_list[x+1]['low']))\n",
    "#         print(str(store_list[x]['low']))\n",
    "#         print(store_list[x]['low'])\n",
    "#         if (float(store_list[x+1]['low']) < float(store_list[x]['low'])):\n",
    "#             print( (float(store_list[x+1]['close']) - float(store_list[x]['low']))/(float(store_list[x]['low']))*100 )\n",
    "#             print(str(store_list[x]['date']))\n",
    "#             print(store_list[x])\n",
    "#             print(store_list[x+1])\n",
    "\n",
    "        fund = fund*float(store_list[x+1]['close'])/float(store_list[x]['low'])\n",
    "        x_column.append(fund)\n",
    "        y_column.append(store_list[x+1]['date'])\n",
    "        print(fund)\n",
    "        \n",
    "plt.plot(y_column,x_column)\n",
    "\n",
    "# print(count)\n",
    "\n",
    "# print(store_list[0])"
   ]
  },
  {
   "cell_type": "markdown",
   "metadata": {},
   "source": []
  },
  {
   "cell_type": "code",
   "execution_count": 1,
   "metadata": {},
   "outputs": [
    {
     "name": "stdout",
     "output_type": "stream",
     "text": [
      "20190326000000\n"
     ]
    }
   ],
   "source": [
    "from datetime import datetime\n",
    "dt = datetime(2019,3,26)\n",
    "\n",
    "print(int(dt.strftime(\"%Y%m%d%H%M%S\")))"
   ]
  },
  {
   "cell_type": "markdown",
   "metadata": {},
   "source": [
    "#NUMBY"
   ]
  },
  {
   "cell_type": "code",
   "execution_count": 2,
   "metadata": {},
   "outputs": [],
   "source": [
    "import numpy as np"
   ]
  },
  {
   "cell_type": "code",
   "execution_count": 3,
   "metadata": {},
   "outputs": [],
   "source": [
    "a = np.array([0, 0.5, 1.0, 1.5, 2.0])"
   ]
  },
  {
   "cell_type": "code",
   "execution_count": 4,
   "metadata": {},
   "outputs": [
    {
     "data": {
      "text/plain": [
       "array([0. , 0.5, 1. , 1.5, 2. ])"
      ]
     },
     "execution_count": 4,
     "metadata": {},
     "output_type": "execute_result"
    }
   ],
   "source": [
    "a"
   ]
  },
  {
   "cell_type": "code",
   "execution_count": 5,
   "metadata": {},
   "outputs": [
    {
     "data": {
      "text/plain": [
       "numpy.ndarray"
      ]
     },
     "execution_count": 5,
     "metadata": {},
     "output_type": "execute_result"
    }
   ],
   "source": [
    "type(a)"
   ]
  },
  {
   "cell_type": "code",
   "execution_count": null,
   "metadata": {},
   "outputs": [],
   "source": []
  }
 ],
 "metadata": {
  "kernelspec": {
   "display_name": "Python 3",
   "language": "python",
   "name": "python3"
  },
  "language_info": {
   "codemirror_mode": {
    "name": "ipython",
    "version": 3
   },
   "file_extension": ".py",
   "mimetype": "text/x-python",
   "name": "python",
   "nbconvert_exporter": "python",
   "pygments_lexer": "ipython3",
   "version": "3.7.6"
  }
 },
 "nbformat": 4,
 "nbformat_minor": 4
}
