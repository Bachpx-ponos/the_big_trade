{
 "cells": [
  {
   "cell_type": "code",
   "execution_count": 1,
   "metadata": {},
   "outputs": [
    {
     "ename": "SyntaxError",
     "evalue": "invalid syntax (<ipython-input-1-f882cf94f62b>, line 12)",
     "output_type": "error",
     "traceback": [
      "\u001b[0;36m  File \u001b[0;32m\"<ipython-input-1-f882cf94f62b>\"\u001b[0;36m, line \u001b[0;32m12\u001b[0m\n\u001b[0;31m    json.\u001b[0m\n\u001b[0m         ^\u001b[0m\n\u001b[0;31mSyntaxError\u001b[0m\u001b[0;31m:\u001b[0m invalid syntax\n"
     ]
    }
   ],
   "source": [
    "import json\n",
    "import datetime\n",
    "import matplotlib.pyplot as plt\n",
    "\n",
    "input_file = open ('array.json')\n",
    "json_array = json.load(input_file)\n",
    "store_list = []\n",
    "atr_list = [10.0016, 9.6258, 9.1775, 9.0434, 8.8576, 9.4840, 9.748, 9.5028, 9.3519, 9.7067, 9.6127, 10.0196, 10.9932]\n",
    "\n",
    "previous_close = 0\n",
    "\n",
    "plt.show\n",
    "\n",
    "for item in json_array:\n",
    "    store_details = {\"low\":None, \"close\":None, \"atr14\":None, \"date\":None}\n",
    "    store_details['low'] = item[3]\n",
    "    store_details['close'] = item[4]\n",
    "    if len(store_list) < len(atr_list):\n",
    "        store_details['atr14'] = atr_list[len(store_list)]\n",
    "    else:\n",
    "        tr = max([abs(float(item[2]) - previous_close), abs(float(item[3]) - previous_close), abs(float(item[3]) - float(item[2]))])\n",
    "#         print(tr)\n",
    "#         atr = (sum(atr_list[-13:]) + tr)/14\n",
    "        atr = (atr_list[-1]*13 + tr)/14\n",
    "        atr_list.append(atr)\n",
    "        store_details['atr14'] = atr_list[-1]\n",
    "    store_details['date'] = datetime.datetime.fromtimestamp(item[0] / 1e3)\n",
    "    store_list.append(store_details)\n",
    "    previous_close = float(item[4])\n",
    "\n",
    "fund = 100\n",
    "print(store_list[498])\n",
    "\n",
    "x_column = []\n",
    "y_column = []\n",
    "\n",
    "count = 0\n",
    "\n",
    "for x in range(1, 499):\n",
    "    if ((store_list[x]['atr14'] > store_list[x-1]['atr14']) and (float(store_list[x]['low']) > float(store_list[x+1]['low']))):\n",
    "#         print( (float(store_list[x+1]['close']) - float(store_list[x]['low']))/(float(store_list[x]['low']))*100 )\n",
    "#         print(store_list[x])\n",
    "#         print(store_list[x+1])\n",
    "#         print(str(store_list[x+1]['close'])+','+str(store_list[x]['low']))\n",
    "#         print(float(store_list[x+1]['low']))\n",
    "#         print(str(store_list[x]['low']))\n",
    "#         print(store_list[x]['low'])\n",
    "#         if (float(store_list[x+1]['low']) < float(store_list[x]['low'])):\n",
    "#             print( (float(store_list[x+1]['close']) - float(store_list[x]['low']))/(float(store_list[x]['low']))*100 )\n",
    "#             print(str(store_list[x]['date']))\n",
    "#             print(store_list[x])\n",
    "#             print(store_list[x+1])\n",
    "        count = count + 1\n",
    "\n",
    "        fund = fund*float(store_list[x+1]['close'])/float(store_list[x]['low'])\n",
    "        x_column.append(fund)\n",
    "        y_column.append(store_list[x+1]['date'])\n",
    "        print( (float(store_list[x+1]['close']) - float(store_list[x]['low']))/(float(store_list[x]['low']))*100 )\n",
    "\n",
    "plt.figure(figsize=(20,10))\n",
    "plt.plot(y_column,x_column,linewidth=2, markersize=121)\n",
    "plt.show\n",
    "\n",
    "# print(count)\n",
    "\n",
    "# print(store_list[0])"
   ]
  },
  {
   "cell_type": "markdown",
   "metadata": {},
   "source": []
  },
  {
   "cell_type": "code",
   "execution_count": 1,
   "metadata": {},
   "outputs": [
    {
     "name": "stdout",
     "output_type": "stream",
     "text": [
      "20190326000000\n"
     ]
    }
   ],
   "source": [
    "from datetime import datetime\n",
    "dt = datetime(2019,3,26)\n",
    "\n",
    "print(int(dt.strftime(\"%Y%m%d%H%M%S\")))"
   ]
  },
  {
   "cell_type": "markdown",
   "metadata": {},
   "source": [
    "#NUMBY"
   ]
  },
  {
   "cell_type": "code",
   "execution_count": null,
   "metadata": {},
   "outputs": [],
   "source": []
  }
 ],
 "metadata": {
  "kernelspec": {
   "display_name": "Python 3",
   "language": "python",
   "name": "python3"
  },
  "language_info": {
   "codemirror_mode": {
    "name": "ipython",
    "version": 3
   },
   "file_extension": ".py",
   "mimetype": "text/x-python",
   "name": "python",
   "nbconvert_exporter": "python",
   "pygments_lexer": "ipython3",
   "version": "3.7.6"
  }
 },
 "nbformat": 4,
 "nbformat_minor": 4
}
