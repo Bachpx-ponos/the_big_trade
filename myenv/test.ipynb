{
 "cells": [
  {
   "cell_type": "code",
   "execution_count": 6,
   "metadata": {},
   "outputs": [
    {
     "name": "stdout",
     "output_type": "stream",
     "text": [
      "            test\n",
      "2020-01-01     1\n",
      "2020-01-02     3\n",
      "2020-01-03     4\n",
      "2020-01-04     5\n",
      "2020-01-05     6\n",
      "________________\n",
      "            test\n",
      "2020-01-01   3.0\n",
      "2020-01-02   4.0\n",
      "2020-01-03   5.0\n",
      "2020-01-04   6.0\n",
      "2020-01-05   NaN\n"
     ]
    }
   ],
   "source": [
    "import pandas as pd\n",
    "\n",
    "df = pd.DataFrame({\"test\": [1,3,4,5,6]}, index=pd.date_range(\"2020-01-01\", \"2020-01-05\"))\n",
    "\n",
    "print(df)\n",
    "\n",
    "print(\"________________\")\n",
    "\n",
    "print(df.shift(-1))\n",
    "\n",
    "\n",
    "# row = df.iloc[3]\n",
    "# print(row)\n",
    "\n",
    "# print(row.shift(-1))\n",
    "\n",
    "# print(df.iloc[1].shift())\n",
    "\n",
    "# print(df)\n",
    "\n",
    "# print(\"________\")\n",
    "\n",
    "# print(df.test.shift())"
   ]
  }
 ],
 "metadata": {
  "interpreter": {
   "hash": "40d3a090f54c6569ab1632332b64b2c03c39dcf918b08424e98f38b5ae0af88f"
  },
  "kernelspec": {
   "display_name": "Python 3.8.5 64-bit ('base': conda)",
   "name": "python3"
  },
  "language_info": {
   "codemirror_mode": {
    "name": "ipython",
    "version": 3
   },
   "file_extension": ".py",
   "mimetype": "text/x-python",
   "name": "python",
   "nbconvert_exporter": "python",
   "pygments_lexer": "ipython3",
   "version": "3.8.5"
  },
  "orig_nbformat": 4
 },
 "nbformat": 4,
 "nbformat_minor": 2
}
