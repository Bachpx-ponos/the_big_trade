{
 "cells": [
  {
   "cell_type": "code",
   "execution_count": 1,
   "metadata": {},
   "outputs": [
    {
     "name": "stdout",
     "output_type": "stream",
     "text": [
      "            test  type until_now\n",
      "2020-01-01     1    up      down\n",
      "2020-01-02     3    up        up\n",
      "2020-01-03     4  down      down\n",
      "2020-01-04     5    up        up\n",
      "2020-01-05     6  down      down\n",
      "________________\n",
      "            test  type until_now\n",
      "2020-01-01   3.0    up        up\n",
      "2020-01-02   4.0  down      down\n",
      "2020-01-03   5.0    up        up\n",
      "2020-01-04   6.0  down      down\n",
      "2020-01-05   NaN   NaN       NaN\n"
     ]
    }
   ],
   "source": [
    "import pandas as pd\n",
    "\n",
    "df = pd.DataFrame({\"test\": [1,3,4,5,6], 'type': ['up', 'up', 'down', 'up', 'down'], 'until_now': ['down', 'up', 'down', 'up', 'down']}, index=pd.date_range(\"2020-01-01\", \"2020-01-05\"))\n",
    "\n",
    "print(df)\n",
    "\n",
    "print(\"________________\")\n",
    "\n",
    "print(df.shift(-1))\n",
    "\n",
    "\n",
    "# row = df.iloc[3]\n",
    "# print(row)\n",
    "\n",
    "# print(row.shift(-1))\n",
    "\n",
    "# print(df.iloc[1].shift())\n",
    "\n",
    "# print(df)\n",
    "\n",
    "# print(\"________\")\n",
    "\n",
    "# print(df.test.shift())"
   ]
  },
  {
   "cell_type": "code",
   "execution_count": 5,
   "metadata": {},
   "outputs": [
    {
     "name": "stdout",
     "output_type": "stream",
     "text": [
      "-1.0\n"
     ]
    }
   ],
   "source": [
    "from sklearn.metrics import matthews_corrcoef\n",
    "\n",
    "y_true = ['up', 'up', 'down', 'up']\n",
    "y_pred = ['down', 'down', 'up', 'down']\n",
    "\n",
    "\n",
    "a = matthews_corrcoef(y_true, y_pred)\n",
    "\n",
    "print(a)"
   ]
  },
  {
   "cell_type": "code",
   "execution_count": 9,
   "metadata": {},
   "outputs": [
    {
     "name": "stdout",
     "output_type": "stream",
     "text": [
      "['up', 'up', 'down', 'up', 'down']\n"
     ]
    }
   ],
   "source": [
    "import pandas as pd\n",
    "\n",
    "df = pd.DataFrame({\"test\": [1,3,4,5,6], 'type': ['up', 'up', 'down', 'up', 'down'], 'until_now': ['down', 'up', 'down', 'up', 'down']}, index=pd.date_range(\"2020-01-01\", \"2020-01-05\"))\n",
    "\n",
    "print(df['type'].to_list())"
   ]
  },
  {
   "cell_type": "code",
   "execution_count": 3,
   "metadata": {},
   "outputs": [
    {
     "name": "stdout",
     "output_type": "stream",
     "text": [
      "['up', 'up', 'down', 'up', 'down']\n"
     ]
    }
   ],
   "source": [
    "import pandas as pd\n",
    "\n",
    "df = pd.DataFrame({\"test\": [1,3,4,5,6], 'type': ['up', 'up', 'down', 'up', 'down'], 'until_now': ['down', 'up', 'down', 'up', 'down']}, index=pd.date_range(\"2020-01-01\", \"2020-01-05\"))\n",
    "\n",
    "bach = \"bach\"\n",
    "\n",
    "# exec()\n",
    "\n",
    "print(df['type'].to_list())\n"
   ]
  },
  {
   "cell_type": "code",
   "execution_count": null,
   "metadata": {},
   "outputs": [],
   "source": [
    "day_list = unique_list(data_prices['day'].tolist())\n",
    "highest_hour_list = []\n",
    "highest_return_list = []\n",
    "for day in day_list:\n",
    "max_value = data_prices[data_prices['day'] == day].hour_return.max()\n",
    "min_value = data_prices[data_prices['day'] == day].hour_return.min()\n",
    "\n",
    "highest_return = max_value if max_value > abs(min_value) else min_value\n",
    "highest_return_list.append(highest_return)\n",
    "highest_hour_list.append(data_prices[data_prices['hour_return'] == highest_return].hour.values[0])\n",
    "\n",
    "data = {\n",
    "    'highest_in_day': highest_hour_list,\n",
    "    'highest_return': highest_return_list\n",
    "}\n",
    "\n",
    "df = pd.DataFrame(data, index=day_list)"
   ]
  },
  {
   "cell_type": "code",
   "execution_count": 1,
   "metadata": {},
   "outputs": [],
   "source": [
    "from myenv.models.candlestick import Candlestick\n",
    "from myenv.helpers.constants import HIGH_INDEX, LOW_INDEX, OPEN_INDEX, CLOSE_INDEX\n",
    "from myenv.models.merchandise_rate import MerchandiseRate\n",
    "from myenv.helpers.utils import percentage_change, candlestick_type, type_continuous, until_now_type, candlestick_type_by_hour\n",
    "import matplotlib.pyplot as plt\n",
    "import numpy as np\n",
    "\n",
    "%matplotlib inline\n",
    "\n",
    "\n",
    "merchandise_rate = MerchandiseRate()\n",
    "merchandise_rate_id = merchandise_rate.find_by_slug('DOTUSDT')\n",
    "candlestick = Candlestick(merchandise_rate_id, 'hour', 24*10, \"DESC\")\n",
    "# candlestick = Candlestick(merchandise_rate_id, 'hour', 24*50, \"DESC\", start_date='2021-9-7', end_date='2021-9-28')\n",
    "# candlestick_day = Candlestick(merchandise_rate_id, 'day', 100, \"DESC\")\n",
    "hour_observe = 13\n",
    "\n",
    "data_prices = candlestick.to_df()\n",
    "\n",
    "# data_prices['hour_return'] = percentage_change(data_prices, LOW_INDEX, HIGH_INDEX)\n",
    "# data_prices['hour_return'] = data_prices['close'].pct_change() * 100\n",
    "data_prices['hour_return'] = percentage_change(data_prices,OPEN_INDEX, CLOSE_INDEX)\n",
    "data_prices['day'] = data_prices[['open']].apply(\n",
    "    lambda x: x.name.strftime(\"%Y-%m-%d\"), axis=1)\n",
    "data_prices['hour'] = data_prices[['open']].apply(\n",
    "    lambda x: x.name.hour, axis=1)"
   ]
  }
 ],
 "metadata": {
  "interpreter": {
   "hash": "40d3a090f54c6569ab1632332b64b2c03c39dcf918b08424e98f38b5ae0af88f"
  },
  "kernelspec": {
   "display_name": "Python 3.8.5 64-bit ('base': conda)",
   "name": "python3"
  },
  "language_info": {
   "codemirror_mode": {
    "name": "ipython",
    "version": 3
   },
   "file_extension": ".py",
   "mimetype": "text/x-python",
   "name": "python",
   "nbconvert_exporter": "python",
   "pygments_lexer": "ipython3",
   "version": "3.8.5"
  },
  "orig_nbformat": 4
 },
 "nbformat": 4,
 "nbformat_minor": 2
}
