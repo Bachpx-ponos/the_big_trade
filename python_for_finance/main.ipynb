{
 "metadata": {
  "language_info": {
   "codemirror_mode": {
    "name": "ipython",
    "version": 3
   },
   "file_extension": ".py",
   "mimetype": "text/x-python",
   "name": "python",
   "nbconvert_exporter": "python",
   "pygments_lexer": "ipython3",
   "version": "3.8.5-final"
  },
  "orig_nbformat": 2,
  "kernelspec": {
   "name": "python3",
   "display_name": "Python 3",
   "language": "python"
  }
 },
 "nbformat": 4,
 "nbformat_minor": 2,
 "cells": [
  {
   "cell_type": "code",
   "execution_count": 1,
   "metadata": {},
   "outputs": [
    {
     "output_type": "execute_result",
     "data": {
      "text/plain": [
       "               open          high         close           low         volumn\n",
       "count    500.000000    500.000000    500.000000    500.000000     500.000000\n",
       "mean   12799.827020  13203.307540  12880.955460  12413.143040   69044.071200\n",
       "std     8513.844299   8986.331877   8661.848609   8107.457181   40201.347878\n",
       "min     4800.010000   5365.420000   4800.000000   3782.130000   16792.400000\n",
       "25%     8249.570000   8454.092500   8270.882500   8101.655000   43548.650000\n",
       "50%     9514.770000   9699.500000   9518.100000   9278.545000   59921.450000\n",
       "75%    11785.150000  11960.950000  11814.000000  11573.775000   84497.425000\n",
       "max    47968.700000  49404.900000  48763.100000  47014.200000  402202.000000"
      ],
      "text/html": "<div>\n<style scoped>\n    .dataframe tbody tr th:only-of-type {\n        vertical-align: middle;\n    }\n\n    .dataframe tbody tr th {\n        vertical-align: top;\n    }\n\n    .dataframe thead th {\n        text-align: right;\n    }\n</style>\n<table border=\"1\" class=\"dataframe\">\n  <thead>\n    <tr style=\"text-align: right;\">\n      <th></th>\n      <th>open</th>\n      <th>high</th>\n      <th>close</th>\n      <th>low</th>\n      <th>volumn</th>\n    </tr>\n  </thead>\n  <tbody>\n    <tr>\n      <th>count</th>\n      <td>500.000000</td>\n      <td>500.000000</td>\n      <td>500.000000</td>\n      <td>500.000000</td>\n      <td>500.000000</td>\n    </tr>\n    <tr>\n      <th>mean</th>\n      <td>12799.827020</td>\n      <td>13203.307540</td>\n      <td>12880.955460</td>\n      <td>12413.143040</td>\n      <td>69044.071200</td>\n    </tr>\n    <tr>\n      <th>std</th>\n      <td>8513.844299</td>\n      <td>8986.331877</td>\n      <td>8661.848609</td>\n      <td>8107.457181</td>\n      <td>40201.347878</td>\n    </tr>\n    <tr>\n      <th>min</th>\n      <td>4800.010000</td>\n      <td>5365.420000</td>\n      <td>4800.000000</td>\n      <td>3782.130000</td>\n      <td>16792.400000</td>\n    </tr>\n    <tr>\n      <th>25%</th>\n      <td>8249.570000</td>\n      <td>8454.092500</td>\n      <td>8270.882500</td>\n      <td>8101.655000</td>\n      <td>43548.650000</td>\n    </tr>\n    <tr>\n      <th>50%</th>\n      <td>9514.770000</td>\n      <td>9699.500000</td>\n      <td>9518.100000</td>\n      <td>9278.545000</td>\n      <td>59921.450000</td>\n    </tr>\n    <tr>\n      <th>75%</th>\n      <td>11785.150000</td>\n      <td>11960.950000</td>\n      <td>11814.000000</td>\n      <td>11573.775000</td>\n      <td>84497.425000</td>\n    </tr>\n    <tr>\n      <th>max</th>\n      <td>47968.700000</td>\n      <td>49404.900000</td>\n      <td>48763.100000</td>\n      <td>47014.200000</td>\n      <td>402202.000000</td>\n    </tr>\n  </tbody>\n</table>\n</div>"
     },
     "metadata": {},
     "execution_count": 1
    }
   ],
   "source": [
    "from models.candlestick import Candlestick\n",
    "import pandas as pd\n",
    "\n",
    "\n",
    "candlestick = Candlestick()\n",
    "\n",
    "df = candlestick.to_df()\n",
    "\n",
    "df.describe()"
   ]
  },
  {
   "cell_type": "code",
   "execution_count": null,
   "metadata": {},
   "outputs": [],
   "source": []
  }
 ]
}