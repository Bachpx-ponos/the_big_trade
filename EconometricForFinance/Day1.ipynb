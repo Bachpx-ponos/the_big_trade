{
 "cells": [
  {
   "cell_type": "markdown",
   "metadata": {},
   "source": [
    "# Data management\n"
   ]
  },
  {
   "cell_type": "code",
   "execution_count": 3,
   "metadata": {},
   "outputs": [
    {
     "output_type": "execute_result",
     "data": {
      "text/plain": [
       "pandas.core.frame.DataFrame"
      ]
     },
     "metadata": {},
     "execution_count": 3
    }
   ],
   "source": [
    "import pandas as pd\n",
    "import numpy as np\n",
    "\n",
    "bitcoin_prices = pd.read_csv(\"../data/bitcoin_price.csv\")\n",
    "\n",
    "type(bitcoin_prices)\n"
   ]
  },
  {
   "source": [
    "## Data description and calculation"
   ],
   "cell_type": "markdown",
   "metadata": {}
  },
  {
   "source": [
    "### Describe data\n"
   ],
   "cell_type": "markdown",
   "metadata": {}
  },
  {
   "cell_type": "code",
   "execution_count": 13,
   "metadata": {},
   "outputs": [
    {
     "output_type": "execute_result",
     "data": {
      "text/plain": [
       "              Open         High          Low        Close\n",
       "count  1556.000000  1556.000000  1556.000000  1556.000000\n",
       "mean    582.625328   597.992847   567.851446   584.239396\n",
       "std     523.137312   542.992855   505.877401   525.904442\n",
       "min      68.500000    74.560000    65.530000    68.430000\n",
       "25%     254.287500   260.327500   248.835000   254.320000\n",
       "50%     438.600000   447.560000   430.570000   438.855000\n",
       "75%     662.437500   674.525000   646.735000   663.402500\n",
       "max    2953.220000  2999.910000  2840.530000  2958.110000"
      ],
      "text/html": "<div>\n<style scoped>\n    .dataframe tbody tr th:only-of-type {\n        vertical-align: middle;\n    }\n\n    .dataframe tbody tr th {\n        vertical-align: top;\n    }\n\n    .dataframe thead th {\n        text-align: right;\n    }\n</style>\n<table border=\"1\" class=\"dataframe\">\n  <thead>\n    <tr style=\"text-align: right;\">\n      <th></th>\n      <th>Open</th>\n      <th>High</th>\n      <th>Low</th>\n      <th>Close</th>\n    </tr>\n  </thead>\n  <tbody>\n    <tr>\n      <th>count</th>\n      <td>1556.000000</td>\n      <td>1556.000000</td>\n      <td>1556.000000</td>\n      <td>1556.000000</td>\n    </tr>\n    <tr>\n      <th>mean</th>\n      <td>582.625328</td>\n      <td>597.992847</td>\n      <td>567.851446</td>\n      <td>584.239396</td>\n    </tr>\n    <tr>\n      <th>std</th>\n      <td>523.137312</td>\n      <td>542.992855</td>\n      <td>505.877401</td>\n      <td>525.904442</td>\n    </tr>\n    <tr>\n      <th>min</th>\n      <td>68.500000</td>\n      <td>74.560000</td>\n      <td>65.530000</td>\n      <td>68.430000</td>\n    </tr>\n    <tr>\n      <th>25%</th>\n      <td>254.287500</td>\n      <td>260.327500</td>\n      <td>248.835000</td>\n      <td>254.320000</td>\n    </tr>\n    <tr>\n      <th>50%</th>\n      <td>438.600000</td>\n      <td>447.560000</td>\n      <td>430.570000</td>\n      <td>438.855000</td>\n    </tr>\n    <tr>\n      <th>75%</th>\n      <td>662.437500</td>\n      <td>674.525000</td>\n      <td>646.735000</td>\n      <td>663.402500</td>\n    </tr>\n    <tr>\n      <th>max</th>\n      <td>2953.220000</td>\n      <td>2999.910000</td>\n      <td>2840.530000</td>\n      <td>2958.110000</td>\n    </tr>\n  </tbody>\n</table>\n</div>"
     },
     "metadata": {},
     "execution_count": 13
    }
   ],
   "source": [
    "bitcoin_prices.head(10)\n",
    "\n",
    "bitcoin_prices['Open'].mean()\n",
    "\n",
    "bitcoin_prices.describe()"
   ]
  },
  {
   "cell_type": "code",
   "execution_count": 14,
   "metadata": {},
   "outputs": [
    {
     "output_type": "execute_result",
     "data": {
      "text/plain": [
       "           Open      High       Low     Close\n",
       "Open   1.000000  0.998561  0.998157  0.997514\n",
       "High   0.998561  1.000000  0.997320  0.998596\n",
       "Low    0.998157  0.997320  1.000000  0.998755\n",
       "Close  0.997514  0.998596  0.998755  1.000000"
      ],
      "text/html": "<div>\n<style scoped>\n    .dataframe tbody tr th:only-of-type {\n        vertical-align: middle;\n    }\n\n    .dataframe tbody tr th {\n        vertical-align: top;\n    }\n\n    .dataframe thead th {\n        text-align: right;\n    }\n</style>\n<table border=\"1\" class=\"dataframe\">\n  <thead>\n    <tr style=\"text-align: right;\">\n      <th></th>\n      <th>Open</th>\n      <th>High</th>\n      <th>Low</th>\n      <th>Close</th>\n    </tr>\n  </thead>\n  <tbody>\n    <tr>\n      <th>Open</th>\n      <td>1.000000</td>\n      <td>0.998561</td>\n      <td>0.998157</td>\n      <td>0.997514</td>\n    </tr>\n    <tr>\n      <th>High</th>\n      <td>0.998561</td>\n      <td>1.000000</td>\n      <td>0.997320</td>\n      <td>0.998596</td>\n    </tr>\n    <tr>\n      <th>Low</th>\n      <td>0.998157</td>\n      <td>0.997320</td>\n      <td>1.000000</td>\n      <td>0.998755</td>\n    </tr>\n    <tr>\n      <th>Close</th>\n      <td>0.997514</td>\n      <td>0.998596</td>\n      <td>0.998755</td>\n      <td>1.000000</td>\n    </tr>\n  </tbody>\n</table>\n</div>"
     },
     "metadata": {},
     "execution_count": 14
    }
   ],
   "source": [
    "bitcoin_prices.corr()"
   ]
  },
  {
   "cell_type": "code",
   "execution_count": 19,
   "metadata": {},
   "outputs": [
    {
     "output_type": "stream",
     "name": "stdout",
     "text": [
      "   dogs  cats\n0   0.2   0.3\n1   0.0   0.6\n2   0.6   0.0\n3   0.2   0.1\n           dogs      cats\ncount  4.000000  4.000000\nmean   0.250000  0.250000\nstd    0.251661  0.264575\nmin    0.000000  0.000000\n25%    0.150000  0.075000\n50%    0.200000  0.200000\n75%    0.300000  0.375000\nmax    0.600000  0.600000\n"
     ]
    },
    {
     "output_type": "execute_result",
     "data": {
      "text/plain": [
       "          dogs      cats\n",
       "dogs  1.000000 -0.851064\n",
       "cats -0.851064  1.000000"
      ],
      "text/html": "<div>\n<style scoped>\n    .dataframe tbody tr th:only-of-type {\n        vertical-align: middle;\n    }\n\n    .dataframe tbody tr th {\n        vertical-align: top;\n    }\n\n    .dataframe thead th {\n        text-align: right;\n    }\n</style>\n<table border=\"1\" class=\"dataframe\">\n  <thead>\n    <tr style=\"text-align: right;\">\n      <th></th>\n      <th>dogs</th>\n      <th>cats</th>\n    </tr>\n  </thead>\n  <tbody>\n    <tr>\n      <th>dogs</th>\n      <td>1.000000</td>\n      <td>-0.851064</td>\n    </tr>\n    <tr>\n      <th>cats</th>\n      <td>-0.851064</td>\n      <td>1.000000</td>\n    </tr>\n  </tbody>\n</table>\n</div>"
     },
     "metadata": {},
     "execution_count": 19
    }
   ],
   "source": [
    "df = pd.DataFrame([(.2,.3), (.0,.6), (.6, .0), (.2, .1)], columns=['dogs', 'cats'])\n",
    "\n",
    "print(df)\n",
    "\n",
    "print(df.describe())\n",
    "\n",
    "df.corr()"
   ]
  },
  {
   "cell_type": "code",
   "execution_count": null,
   "metadata": {},
   "outputs": [],
   "source": []
  }
 ],
 "metadata": {
  "kernelspec": {
   "display_name": "Python 3",
   "language": "python",
   "name": "python3"
  },
  "language_info": {
   "codemirror_mode": {
    "name": "ipython",
    "version": 3
   },
   "file_extension": ".py",
   "mimetype": "text/x-python",
   "name": "python",
   "nbconvert_exporter": "python",
   "pygments_lexer": "ipython3",
   "version": "3.8.5-final"
  }
 },
 "nbformat": 4,
 "nbformat_minor": 4
}