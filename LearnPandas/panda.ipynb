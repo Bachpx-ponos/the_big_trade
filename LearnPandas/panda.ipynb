{
 "cells": [
  {
   "cell_type": "markdown",
   "metadata": {},
   "source": [
    "# Creating & reading & writing\n",
    "\n"
   ]
  },
  {
   "cell_type": "code",
   "execution_count": 2,
   "metadata": {},
   "outputs": [],
   "source": [
    "import pandas as pd "
   ]
  },
  {
   "cell_type": "markdown",
   "metadata": {},
   "source": [
    "## DataFrame\n",
    "\n",
    "A DataFrame is a table. It contains an array of individual entries, each of which has a certain value. Each entry corresponds to a row (or record) and a column."
   ]
  },
  {
   "cell_type": "code",
   "execution_count": 2,
   "metadata": {},
   "outputs": [
    {
     "data": {
      "text/html": [
       "<div>\n",
       "<style scoped>\n",
       "    .dataframe tbody tr th:only-of-type {\n",
       "        vertical-align: middle;\n",
       "    }\n",
       "\n",
       "    .dataframe tbody tr th {\n",
       "        vertical-align: top;\n",
       "    }\n",
       "\n",
       "    .dataframe thead th {\n",
       "        text-align: right;\n",
       "    }\n",
       "</style>\n",
       "<table border=\"1\" class=\"dataframe\">\n",
       "  <thead>\n",
       "    <tr style=\"text-align: right;\">\n",
       "      <th></th>\n",
       "      <th>Bob</th>\n",
       "      <th>Sue</th>\n",
       "    </tr>\n",
       "  </thead>\n",
       "  <tbody>\n",
       "    <tr>\n",
       "      <th>0</th>\n",
       "      <td>I liked it.</td>\n",
       "      <td>Pretty good.</td>\n",
       "    </tr>\n",
       "    <tr>\n",
       "      <th>1</th>\n",
       "      <td>It was awful.</td>\n",
       "      <td>Bland.</td>\n",
       "    </tr>\n",
       "  </tbody>\n",
       "</table>\n",
       "</div>"
      ],
      "text/plain": [
       "             Bob           Sue\n",
       "0    I liked it.  Pretty good.\n",
       "1  It was awful.        Bland."
      ]
     },
     "execution_count": 2,
     "metadata": {},
     "output_type": "execute_result"
    }
   ],
   "source": [
    "pd.DataFrame({'Bob': ['I liked it.', 'It was awful.'], 'Sue': ['Pretty good.', 'Bland.']})"
   ]
  },
  {
   "cell_type": "markdown",
   "metadata": {},
   "source": [
    "## Series\n",
    "A Series, by contrast, is a sequence of data values. If a DataFrame is a table, a Series is a list. And in fact you can create one with nothing more than a list:"
   ]
  },
  {
   "cell_type": "code",
   "execution_count": 3,
   "metadata": {},
   "outputs": [
    {
     "data": {
      "text/plain": [
       "2015 Sales    30\n",
       "2016 Sales    35\n",
       "2017 Sales    40\n",
       "Name: Product A, dtype: int64"
      ]
     },
     "execution_count": 3,
     "metadata": {},
     "output_type": "execute_result"
    }
   ],
   "source": [
    "import pandas as pd \n",
    "pd.Series([30, 35, 40], index=['2015 Sales', '2016 Sales', '2017 Sales'], name='Product A')"
   ]
  },
  {
   "cell_type": "markdown",
   "metadata": {},
   "source": [
    "`Series` is a single column of a DataFrame"
   ]
  },
  {
   "cell_type": "markdown",
   "metadata": {},
   "source": [
    "## Reading data files"
   ]
  },
  {
   "cell_type": "code",
   "execution_count": 26,
   "metadata": {},
   "outputs": [
    {
     "name": "stdout",
     "output_type": "stream",
     "text": [
      "           Date    Open    High     Low   Close Volume     Market Cap\n",
      "1550 2013-05-03  106.25  108.13   79.10   97.75      -  1,180,070,000\n",
      "1551 2013-05-02  116.38  125.60   92.28  105.21      -  1,292,190,000\n",
      "1552 2013-05-01  139.00  139.89  107.72  116.99      -  1,542,820,000\n",
      "1553 2013-04-30  144.00  146.93  134.05  139.00      -  1,597,780,000\n",
      "1554 2013-04-29  134.44  147.49  134.00  144.54      -  1,491,160,000\n",
      "1555 2013-04-28  135.30  135.98  132.10  134.21      -  1,500,520,000\n",
      "Empty DataFrame\n",
      "Columns: [Date, Open, High, Low, Close, Volume, Market Cap]\n",
      "Index: []\n"
     ]
    }
   ],
   "source": [
    "import pandas as pd\n",
    "import datetime\n",
    "\n",
    "# use pd.read_csv() function to read the data into a DataFrame\n",
    "bitcoin_prices = pd.read_csv(\"../data/bitcoin_price.csv\")\n",
    "\n",
    "# shape attribute to check large the resulting DataFrame is\n",
    "# bitcoin_prices.shape\n",
    "\n",
    "# head() to examine\n",
    "# print(bitcoin_prices.head())\n",
    "\n",
    "# ('Jun 1 2005  1:33PM', '%b %d %Y %I:%M%p')\n",
    "# dt = time.strptime(bitcoin_prices['Date'][0], '%b %d, %Y')\n",
    "\n",
    "# convert Date column to datetime\n",
    "bitcoin_prices['Date']= pd.to_datetime(bitcoin_prices['Date']) \n",
    "\n",
    "# set date column is index\n",
    "bitcoin_prices.set_index('Date')\n",
    "\n",
    "# tail() to see end of file\n",
    "print(bitcoin_prices.tail(6))\n",
    "\n",
    "# Get data by 2017\n",
    "seven_teen_df = bitcoin_prices.loc['2017-01-01':'2017-12-30']\n",
    "\n",
    "print(seven_teen_df)"
   ]
  },
  {
   "cell_type": "code",
   "execution_count": null,
   "metadata": {},
   "outputs": [],
   "source": []
  }
 ],
 "metadata": {
  "kernelspec": {
   "display_name": "Python 3",
   "language": "python",
   "name": "python3"
  },
  "language_info": {
   "codemirror_mode": {
    "name": "ipython",
    "version": 3
   },
   "file_extension": ".py",
   "mimetype": "text/x-python",
   "name": "python",
   "nbconvert_exporter": "python",
   "pygments_lexer": "ipython3",
   "version": "3.7.6"
  }
 },
 "nbformat": 4,
 "nbformat_minor": 4
}
