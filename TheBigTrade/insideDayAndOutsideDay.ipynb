{
 "cells": [
  {
   "cell_type": "code",
   "execution_count": 11,
   "metadata": {},
   "outputs": [
    {
     "data": {
      "image/png": "[encoded data removed]",
      "text/plain": [
       "<Figure size 432x288 with 1 Axes>"
      ]
     },
     "metadata": {},
     "output_type": "display_data"
    }
   ],
   "source": [
    "from myenv.models.candlestick import Candlestick\n",
    "import pandas as pd\n",
    "import numpy as np\n",
    "import matplotlib.pyplot as plt\n",
    "%matplotlib inline\n",
    "\n",
    "\n",
    "candlestick = Candlestick()\n",
    "\n",
    "bitcoin_prices = candlestick.to_df()\n",
    "\n",
    "bitcoin_prices.describe()\n",
    "\n",
    "data = [0]\n",
    "\n",
    "for index, row in bitcoin_prices.iterrows():\n",
    "    if index < 1 or index > bitcoin_prices['close'].count() - 1:\n",
    "        continue\n",
    "\n",
    "    dkm = 0\n",
    "    if row['low'] < bitcoin_prices.iloc[index - 1]['low'] or row['high'] > bitcoin_prices.iloc[index - 1]['high']:\n",
    "        dkm = 1\n",
    "\n",
    "    data.append(dkm)\n",
    "\n",
    "bitcoin_prices['dkm'] = data\n",
    "group = bitcoin_prices.groupby('dkm').dkm.count()\n",
    "\n",
    "group.loc[0]\n",
    "\n",
    "labels = 'Trong bien do', 'Ngoai bien do'\n",
    "sizes = [group.loc[0], group.loc[1]]\n",
    "\n",
    "fig1, ax1 = plt.subplots()\n",
    "ax1.pie(sizes, labels=labels, autopct='%1.1f%%')\n",
    "ax1.axis('equal')  # Equal aspect ratio ensures that pie is drawn as a circle.\n",
    "\n",
    "plt.show()\n",
    "\n"
   ]
  },
  {
   "cell_type": "code",
   "execution_count": null,
   "metadata": {},
   "outputs": [],
   "source": []
  }
 ],
 "metadata": {
  "interpreter": {
   "hash": "aee8b7b246df8f9039afb4144a1f6fd8d2ca17a180786b69acc140d282b71a49"
  },
  "kernelspec": {
   "display_name": "Python 3.9.6 64-bit",
   "name": "python3"
  },
  "language_info": {
   "codemirror_mode": {
    "name": "ipython",
    "version": 3
   },
   "file_extension": ".py",
   "mimetype": "text/x-python",
   "name": "python",
   "nbconvert_exporter": "python",
   "pygments_lexer": "ipython3",
   "version": "3.8.5"
  },
  "orig_nbformat": 4
 },
 "nbformat": 4,
 "nbformat_minor": 2
}