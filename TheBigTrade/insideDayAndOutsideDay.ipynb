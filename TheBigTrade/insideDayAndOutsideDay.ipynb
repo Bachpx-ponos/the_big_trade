{
 "cells": [
  {
   "cell_type": "code",
   "execution_count": 16,
   "metadata": {},
   "outputs": [
    {
     "name": "stdout",
     "output_type": "stream",
     "text": [
      "           date      open      high     close       low  dkm\n",
      "0    2017-08-17   4261.48   4485.39   4285.08   4200.74    0\n",
      "1    2017-08-18   4285.08   4371.52   4108.37   3938.77    1\n",
      "2    2017-08-19   4108.37   4184.69   4139.98   3850.00    1\n",
      "3    2017-08-20   4120.98   4211.08   4086.29   4032.62    1\n",
      "4    2017-08-21   4069.13   4119.62   4016.00   3911.79    1\n",
      "...         ...       ...       ...       ...       ...  ...\n",
      "1417 2021-07-04  34669.10  35967.90  35286.50  34357.10    1\n",
      "1418 2021-07-05  35288.10  35293.80  33690.10  33125.60    1\n",
      "1419 2021-07-06  33690.10  35118.90  34220.00  33532.00    0\n",
      "1420 2021-07-07  34220.00  35059.10  33862.10  33777.80    0\n",
      "1421 2021-07-08  33862.10  33929.60  32834.20  32077.00    1\n",
      "\n",
      "[1422 rows x 6 columns]\n"
     ]
    }
   ],
   "source": [
    "from myenv.models.candlestick import Candlestick\n",
    "import pandas as pd\n",
    "import numpy as np\n",
    "import matplotlib.pyplot as plt\n",
    "%matplotlib inline\n",
    "\n",
    "\n",
    "candlestick = Candlestick()\n",
    "\n",
    "bitcoin_prices = candlestick.to_df()\n",
    "\n",
    "bitcoin_prices.describe()\n",
    "\n",
    "data = [0]\n",
    "\n",
    "for index, row in bitcoin_prices.iterrows():\n",
    "    if index < 1 or index > bitcoin_prices['close'].count() - 1:\n",
    "        continue\n",
    "\n",
    "    dkm = 0\n",
    "    if row['low'] < bitcoin_prices.iloc[index - 1]['low'] or row['high'] > bitcoin_prices.iloc[index - 1]['high']:\n",
    "        dkm = 1\n",
    "\n",
    "    data.append(dkm)\n",
    "\n",
    "bitcoin_prices['dkm'] = data\n",
    "print(bitcoin_prices)\n"
   ]
  },
  {
   "cell_type": "code",
   "execution_count": null,
   "metadata": {},
   "outputs": [],
   "source": []
  }
 ],
 "metadata": {
  "interpreter": {
   "hash": "aee8b7b246df8f9039afb4144a1f6fd8d2ca17a180786b69acc140d282b71a49"
  },
  "kernelspec": {
   "display_name": "Python 3.9.6 64-bit",
   "name": "python3"
  },
  "language_info": {
   "codemirror_mode": {
    "name": "ipython",
    "version": 3
   },
   "file_extension": ".py",
   "mimetype": "text/x-python",
   "name": "python",
   "nbconvert_exporter": "python",
   "pygments_lexer": "ipython3",
   "version": "3.8.5"
  },
  "orig_nbformat": 4
 },
 "nbformat": 4,
 "nbformat_minor": 2
}