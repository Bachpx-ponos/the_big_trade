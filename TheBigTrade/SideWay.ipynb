{
 "cells": [
  {
   "cell_type": "code",
   "execution_count": 1,
   "metadata": {},
   "outputs": [],
   "source": [
    "MERCHAINDISE = 'DOTUSDT'\n",
    "DAYS = 10\n",
    "\n",
    "# format = YYYY-MM-DD\n",
    "START_DATE = '2022-4-1'\n",
    "END_DATE = '2022-4-6'\n",
    "\n",
    "DATE_FORMAT = \"%Y-%m-%d\""
   ]
  },
  {
   "cell_type": "code",
   "execution_count": 3,
   "metadata": {},
   "outputs": [
    {
     "data": {
      "application/vnd.plotly.v1+json": {
       "config": {
        "plotlyServerURL": "https://plot.ly"
       },
       "data": [
        {
         "close": [
          21.54,
          21.49,
          21.47,
          21.44,
          21.24,
          21.78,
          22.09,
          22.25,
          22.15,
          22.31,
          22.26,
          22.28,
          22.33,
          22.33,
          22.21,
          22.5,
          22.93,
          22.92,
          22.87,
          22.91,
          22.89,
          22.94,
          22.79,
          22.89,
          22.92,
          22.82,
          22.88,
          23.03,
          22.95,
          22.89,
          22.69,
          22.53,
          22.52,
          22.35,
          22.01,
          21.82,
          22.08,
          22.06,
          22.28,
          22.49,
          22.5,
          22.65,
          22.46,
          22.54,
          22.78,
          22.88,
          22.87,
          22.89,
          22.74,
          22.82,
          22.91,
          22.82,
          22.76,
          23.21,
          23.33,
          23.3,
          23.1,
          23.06,
          23.1,
          23.04,
          23.03,
          23.09,
          23.24,
          23.19,
          23.09,
          23.12,
          23.15,
          23.31,
          23.06,
          23.14,
          23.13,
          22.89,
          22.98,
          22.68,
          22.62,
          22.88,
          23.19,
          22.61,
          23.11,
          23.26,
          23.16,
          22.93,
          22.68,
          23.01,
          23.06,
          22.75,
          23.2,
          23.31,
          23.7,
          23.2,
          22.89,
          22.71,
          22.5,
          22.38,
          22.47,
          22.36,
          22.29,
          22.28,
          22.19,
          22.22,
          22.42,
          22.07,
          21.97,
          22.09,
          21.9,
          22.01,
          21.89,
          22.05
         ],
         "high": [
          21.55,
          21.53,
          21.55,
          21.48,
          21.82,
          22.13,
          22.28,
          22.25,
          22.35,
          22.33,
          22.38,
          22.39,
          22.38,
          22.37,
          22.49,
          22.95,
          23.12,
          22.92,
          22.97,
          22.92,
          23,
          22.96,
          22.92,
          23.05,
          23.04,
          22.93,
          23.07,
          23.05,
          23.1,
          22.9,
          22.73,
          22.61,
          22.57,
          22.39,
          22.04,
          22.2,
          22.14,
          22.32,
          22.54,
          22.72,
          22.74,
          22.69,
          22.55,
          22.78,
          22.88,
          22.93,
          22.98,
          22.91,
          22.88,
          23.03,
          22.93,
          22.9,
          23.23,
          23.33,
          23.57,
          23.3,
          23.18,
          23.2,
          23.18,
          23.12,
          23.18,
          23.36,
          23.25,
          23.29,
          23.2,
          23.24,
          23.44,
          23.37,
          23.22,
          23.3,
          23.23,
          23,
          22.98,
          22.76,
          22.91,
          23.19,
          23.39,
          23.17,
          23.42,
          23.28,
          23.24,
          23.1,
          23.08,
          23.15,
          23.17,
          23.2,
          23.49,
          23.83,
          23.85,
          23.4,
          22.89,
          22.73,
          22.52,
          22.48,
          22.5,
          22.39,
          22.35,
          22.3,
          22.36,
          22.5,
          22.48,
          22.07,
          22.17,
          22.14,
          22.01,
          22.01,
          22.1,
          22.08
         ],
         "low": [
          21.36,
          21.32,
          21.4,
          21.21,
          20.86,
          21.68,
          22.03,
          22.07,
          22.07,
          22.02,
          22.24,
          22.22,
          22.09,
          22.15,
          22.1,
          22.42,
          22.8,
          22.79,
          22.85,
          22.75,
          22.8,
          22.74,
          22.73,
          22.88,
          22.82,
          22.77,
          22.87,
          22.89,
          22.81,
          22.48,
          22.45,
          22.42,
          22.2,
          22.01,
          21.6,
          21.66,
          21.94,
          21.92,
          22.26,
          22.23,
          22.43,
          22.4,
          22.27,
          22.52,
          22.66,
          22.76,
          22.82,
          22.67,
          22.71,
          22.8,
          22.75,
          22.72,
          22.73,
          23.09,
          23.24,
          23.09,
          23.03,
          23.02,
          22.94,
          22.95,
          22.93,
          23.03,
          23.03,
          22.95,
          23.01,
          22.99,
          23.1,
          22.88,
          22.96,
          22.99,
          22.78,
          22.83,
          22.62,
          22.56,
          22.57,
          22.51,
          22.57,
          22.54,
          22.95,
          22.92,
          22.83,
          22.66,
          22.43,
          22.92,
          22.65,
          22.62,
          23.15,
          23.29,
          23.02,
          22.73,
          22.63,
          22.44,
          22.32,
          22.28,
          22.29,
          22.25,
          22.2,
          22.07,
          22.07,
          22.15,
          21.95,
          21.81,
          21.82,
          21.9,
          21.81,
          21.81,
          21.86,
          21.7
         ],
         "open": [
          21.49,
          21.47,
          21.44,
          21.23,
          21.78,
          22.09,
          22.25,
          22.14,
          22.31,
          22.26,
          22.28,
          22.34,
          22.33,
          22.21,
          22.49,
          22.93,
          22.92,
          22.88,
          22.92,
          22.9,
          22.94,
          22.79,
          22.88,
          22.93,
          22.83,
          22.88,
          23.03,
          22.94,
          22.9,
          22.69,
          22.53,
          22.51,
          22.36,
          22.01,
          21.81,
          22.08,
          22.05,
          22.27,
          22.48,
          22.51,
          22.66,
          22.46,
          22.53,
          22.77,
          22.88,
          22.88,
          22.9,
          22.74,
          22.81,
          22.9,
          22.82,
          22.77,
          23.21,
          23.32,
          23.31,
          23.1,
          23.06,
          23.1,
          23.04,
          23.02,
          23.08,
          23.24,
          23.19,
          23.09,
          23.11,
          23.14,
          23.31,
          23.07,
          23.14,
          23.13,
          22.89,
          22.98,
          22.68,
          22.62,
          22.89,
          23.19,
          22.61,
          23.11,
          23.27,
          23.17,
          22.94,
          22.68,
          23.02,
          23.06,
          22.76,
          23.2,
          23.31,
          23.7,
          23.2,
          22.89,
          22.7,
          22.51,
          22.38,
          22.48,
          22.36,
          22.29,
          22.29,
          22.18,
          22.23,
          22.42,
          22.07,
          21.96,
          22.08,
          21.9,
          22,
          21.89,
          22.05,
          21.76
         ],
         "type": "candlestick",
         "x": [
          "2022-04-06T11:00:00+07:00",
          "2022-04-06T10:00:00+07:00",
          "2022-04-06T09:00:00+07:00",
          "2022-04-06T08:00:00+07:00",
          "2022-04-06T07:00:00+07:00",
          "2022-04-06T06:00:00+07:00",
          "2022-04-06T05:00:00+07:00",
          "2022-04-06T04:00:00+07:00",
          "2022-04-06T03:00:00+07:00",
          "2022-04-06T02:00:00+07:00",
          "2022-04-06T01:00:00+07:00",
          "2022-04-06T00:00:00+07:00",
          "2022-04-05T23:00:00+07:00",
          "2022-04-05T22:00:00+07:00",
          "2022-04-05T21:00:00+07:00",
          "2022-04-05T20:00:00+07:00",
          "2022-04-05T19:00:00+07:00",
          "2022-04-05T18:00:00+07:00",
          "2022-04-05T17:00:00+07:00",
          "2022-04-05T16:00:00+07:00",
          "2022-04-05T15:00:00+07:00",
          "2022-04-05T14:00:00+07:00",
          "2022-04-05T13:00:00+07:00",
          "2022-04-05T12:00:00+07:00",
          "2022-04-05T11:00:00+07:00",
          "2022-04-05T10:00:00+07:00",
          "2022-04-05T09:00:00+07:00",
          "2022-04-05T08:00:00+07:00",
          "2022-04-05T07:00:00+07:00",
          "2022-04-05T06:00:00+07:00",
          "2022-04-05T05:00:00+07:00",
          "2022-04-05T04:00:00+07:00",
          "2022-04-05T03:00:00+07:00",
          "2022-04-05T02:00:00+07:00",
          "2022-04-05T01:00:00+07:00",
          "2022-04-05T00:00:00+07:00",
          "2022-04-04T23:00:00+07:00",
          "2022-04-04T22:00:00+07:00",
          "2022-04-04T21:00:00+07:00",
          "2022-04-04T20:00:00+07:00",
          "2022-04-04T19:00:00+07:00",
          "2022-04-04T18:00:00+07:00",
          "2022-04-04T17:00:00+07:00",
          "2022-04-04T16:00:00+07:00",
          "2022-04-04T15:00:00+07:00",
          "2022-04-04T14:00:00+07:00",
          "2022-04-04T13:00:00+07:00",
          "2022-04-04T12:00:00+07:00",
          "2022-04-04T11:00:00+07:00",
          "2022-04-04T10:00:00+07:00",
          "2022-04-04T09:00:00+07:00",
          "2022-04-04T08:00:00+07:00",
          "2022-04-04T07:00:00+07:00",
          "2022-04-04T06:00:00+07:00",
          "2022-04-04T05:00:00+07:00",
          "2022-04-04T04:00:00+07:00",
          "2022-04-04T03:00:00+07:00",
          "2022-04-04T02:00:00+07:00",
          "2022-04-04T01:00:00+07:00",
          "2022-04-04T00:00:00+07:00",
          "2022-04-03T23:00:00+07:00",
          "2022-04-03T22:00:00+07:00",
          "2022-04-03T21:00:00+07:00",
          "2022-04-03T20:00:00+07:00",
          "2022-04-03T19:00:00+07:00",
          "2022-04-03T18:00:00+07:00",
          "2022-04-03T17:00:00+07:00",
          "2022-04-03T16:00:00+07:00",
          "2022-04-03T15:00:00+07:00",
          "2022-04-03T14:00:00+07:00",
          "2022-04-03T13:00:00+07:00",
          "2022-04-03T12:00:00+07:00",
          "2022-04-03T11:00:00+07:00",
          "2022-04-03T10:00:00+07:00",
          "2022-04-03T09:00:00+07:00",
          "2022-04-03T08:00:00+07:00",
          "2022-04-03T07:00:00+07:00",
          "2022-04-03T06:00:00+07:00",
          "2022-04-03T05:00:00+07:00",
          "2022-04-03T04:00:00+07:00",
          "2022-04-03T03:00:00+07:00",
          "2022-04-03T02:00:00+07:00",
          "2022-04-03T01:00:00+07:00",
          "2022-04-03T00:00:00+07:00",
          "2022-04-02T23:00:00+07:00",
          "2022-04-02T22:00:00+07:00",
          "2022-04-02T21:00:00+07:00",
          "2022-04-02T20:00:00+07:00",
          "2022-04-02T19:00:00+07:00",
          "2022-04-02T18:00:00+07:00",
          "2022-04-02T17:00:00+07:00",
          "2022-04-02T16:00:00+07:00",
          "2022-04-02T15:00:00+07:00",
          "2022-04-02T14:00:00+07:00",
          "2022-04-02T13:00:00+07:00",
          "2022-04-02T12:00:00+07:00",
          "2022-04-02T11:00:00+07:00",
          "2022-04-02T10:00:00+07:00",
          "2022-04-02T09:00:00+07:00",
          "2022-04-02T08:00:00+07:00",
          "2022-04-02T07:00:00+07:00",
          "2022-04-02T06:00:00+07:00",
          "2022-04-02T05:00:00+07:00",
          "2022-04-02T04:00:00+07:00",
          "2022-04-02T03:00:00+07:00",
          "2022-04-02T02:00:00+07:00",
          "2022-04-02T01:00:00+07:00",
          "2022-04-02T00:00:00+07:00"
         ]
        }
       ],
       "layout": {
        "template": {
         "data": {
          "bar": [
           {
            "error_x": {
             "color": "#2a3f5f"
            },
            "error_y": {
             "color": "#2a3f5f"
            },
            "marker": {
             "line": {
              "color": "#E5ECF6",
              "width": 0.5
             },
             "pattern": {
              "fillmode": "overlay",
              "size": 10,
              "solidity": 0.2
             }
            },
            "type": "bar"
           }
          ],
          "barpolar": [
           {
            "marker": {
             "line": {
              "color": "#E5ECF6",
              "width": 0.5
             },
             "pattern": {
              "fillmode": "overlay",
              "size": 10,
              "solidity": 0.2
             }
            },
            "type": "barpolar"
           }
          ],
          "carpet": [
           {
            "aaxis": {
             "endlinecolor": "#2a3f5f",
             "gridcolor": "white",
             "linecolor": "white",
             "minorgridcolor": "white",
             "startlinecolor": "#2a3f5f"
            },
            "baxis": {
             "endlinecolor": "#2a3f5f",
             "gridcolor": "white",
             "linecolor": "white",
             "minorgridcolor": "white",
             "startlinecolor": "#2a3f5f"
            },
            "type": "carpet"
           }
          ],
          "choropleth": [
           {
            "colorbar": {
             "outlinewidth": 0,
             "ticks": ""
            },
            "type": "choropleth"
           }
          ],
          "contour": [
           {
            "colorbar": {
             "outlinewidth": 0,
             "ticks": ""
            },
            "colorscale": [
             [
              0,
              "#0d0887"
             ],
             [
              0.1111111111111111,
              "#46039f"
             ],
             [
              0.2222222222222222,
              "#7201a8"
             ],
             [
              0.3333333333333333,
              "#9c179e"
             ],
             [
              0.4444444444444444,
              "#bd3786"
             ],
             [
              0.5555555555555556,
              "#d8576b"
             ],
             [
              0.6666666666666666,
              "#ed7953"
             ],
             [
              0.7777777777777778,
              "#fb9f3a"
             ],
             [
              0.8888888888888888,
              "#fdca26"
             ],
             [
              1,
              "#f0f921"
             ]
            ],
            "type": "contour"
           }
          ],
          "contourcarpet": [
           {
            "colorbar": {
             "outlinewidth": 0,
             "ticks": ""
            },
            "type": "contourcarpet"
           }
          ],
          "heatmap": [
           {
            "colorbar": {
             "outlinewidth": 0,
             "ticks": ""
            },
            "colorscale": [
             [
              0,
              "#0d0887"
             ],
             [
              0.1111111111111111,
              "#46039f"
             ],
             [
              0.2222222222222222,
              "#7201a8"
             ],
             [
              0.3333333333333333,
              "#9c179e"
             ],
             [
              0.4444444444444444,
              "#bd3786"
             ],
             [
              0.5555555555555556,
              "#d8576b"
             ],
             [
              0.6666666666666666,
              "#ed7953"
             ],
             [
              0.7777777777777778,
              "#fb9f3a"
             ],
             [
              0.8888888888888888,
              "#fdca26"
             ],
             [
              1,
              "#f0f921"
             ]
            ],
            "type": "heatmap"
           }
          ],
          "heatmapgl": [
           {
            "colorbar": {
             "outlinewidth": 0,
             "ticks": ""
            },
            "colorscale": [
             [
              0,
              "#0d0887"
             ],
             [
              0.1111111111111111,
              "#46039f"
             ],
             [
              0.2222222222222222,
              "#7201a8"
             ],
             [
              0.3333333333333333,
              "#9c179e"
             ],
             [
              0.4444444444444444,
              "#bd3786"
             ],
             [
              0.5555555555555556,
              "#d8576b"
             ],
             [
              0.6666666666666666,
              "#ed7953"
             ],
             [
              0.7777777777777778,
              "#fb9f3a"
             ],
             [
              0.8888888888888888,
              "#fdca26"
             ],
             [
              1,
              "#f0f921"
             ]
            ],
            "type": "heatmapgl"
           }
          ],
          "histogram": [
           {
            "marker": {
             "pattern": {
              "fillmode": "overlay",
              "size": 10,
              "solidity": 0.2
             }
            },
            "type": "histogram"
           }
          ],
          "histogram2d": [
           {
            "colorbar": {
             "outlinewidth": 0,
             "ticks": ""
            },
            "colorscale": [
             [
              0,
              "#0d0887"
             ],
             [
              0.1111111111111111,
              "#46039f"
             ],
             [
              0.2222222222222222,
              "#7201a8"
             ],
             [
              0.3333333333333333,
              "#9c179e"
             ],
             [
              0.4444444444444444,
              "#bd3786"
             ],
             [
              0.5555555555555556,
              "#d8576b"
             ],
             [
              0.6666666666666666,
              "#ed7953"
             ],
             [
              0.7777777777777778,
              "#fb9f3a"
             ],
             [
              0.8888888888888888,
              "#fdca26"
             ],
             [
              1,
              "#f0f921"
             ]
            ],
            "type": "histogram2d"
           }
          ],
          "histogram2dcontour": [
           {
            "colorbar": {
             "outlinewidth": 0,
             "ticks": ""
            },
            "colorscale": [
             [
              0,
              "#0d0887"
             ],
             [
              0.1111111111111111,
              "#46039f"
             ],
             [
              0.2222222222222222,
              "#7201a8"
             ],
             [
              0.3333333333333333,
              "#9c179e"
             ],
             [
              0.4444444444444444,
              "#bd3786"
             ],
             [
              0.5555555555555556,
              "#d8576b"
             ],
             [
              0.6666666666666666,
              "#ed7953"
             ],
             [
              0.7777777777777778,
              "#fb9f3a"
             ],
             [
              0.8888888888888888,
              "#fdca26"
             ],
             [
              1,
              "#f0f921"
             ]
            ],
            "type": "histogram2dcontour"
           }
          ],
          "mesh3d": [
           {
            "colorbar": {
             "outlinewidth": 0,
             "ticks": ""
            },
            "type": "mesh3d"
           }
          ],
          "parcoords": [
           {
            "line": {
             "colorbar": {
              "outlinewidth": 0,
              "ticks": ""
             }
            },
            "type": "parcoords"
           }
          ],
          "pie": [
           {
            "automargin": true,
            "type": "pie"
           }
          ],
          "scatter": [
           {
            "marker": {
             "colorbar": {
              "outlinewidth": 0,
              "ticks": ""
             }
            },
            "type": "scatter"
           }
          ],
          "scatter3d": [
           {
            "line": {
             "colorbar": {
              "outlinewidth": 0,
              "ticks": ""
             }
            },
            "marker": {
             "colorbar": {
              "outlinewidth": 0,
              "ticks": ""
             }
            },
            "type": "scatter3d"
           }
          ],
          "scattercarpet": [
           {
            "marker": {
             "colorbar": {
              "outlinewidth": 0,
              "ticks": ""
             }
            },
            "type": "scattercarpet"
           }
          ],
          "scattergeo": [
           {
            "marker": {
             "colorbar": {
              "outlinewidth": 0,
              "ticks": ""
             }
            },
            "type": "scattergeo"
           }
          ],
          "scattergl": [
           {
            "marker": {
             "colorbar": {
              "outlinewidth": 0,
              "ticks": ""
             }
            },
            "type": "scattergl"
           }
          ],
          "scattermapbox": [
           {
            "marker": {
             "colorbar": {
              "outlinewidth": 0,
              "ticks": ""
             }
            },
            "type": "scattermapbox"
           }
          ],
          "scatterpolar": [
           {
            "marker": {
             "colorbar": {
              "outlinewidth": 0,
              "ticks": ""
             }
            },
            "type": "scatterpolar"
           }
          ],
          "scatterpolargl": [
           {
            "marker": {
             "colorbar": {
              "outlinewidth": 0,
              "ticks": ""
             }
            },
            "type": "scatterpolargl"
           }
          ],
          "scatterternary": [
           {
            "marker": {
             "colorbar": {
              "outlinewidth": 0,
              "ticks": ""
             }
            },
            "type": "scatterternary"
           }
          ],
          "surface": [
           {
            "colorbar": {
             "outlinewidth": 0,
             "ticks": ""
            },
            "colorscale": [
             [
              0,
              "#0d0887"
             ],
             [
              0.1111111111111111,
              "#46039f"
             ],
             [
              0.2222222222222222,
              "#7201a8"
             ],
             [
              0.3333333333333333,
              "#9c179e"
             ],
             [
              0.4444444444444444,
              "#bd3786"
             ],
             [
              0.5555555555555556,
              "#d8576b"
             ],
             [
              0.6666666666666666,
              "#ed7953"
             ],
             [
              0.7777777777777778,
              "#fb9f3a"
             ],
             [
              0.8888888888888888,
              "#fdca26"
             ],
             [
              1,
              "#f0f921"
             ]
            ],
            "type": "surface"
           }
          ],
          "table": [
           {
            "cells": {
             "fill": {
              "color": "#EBF0F8"
             },
             "line": {
              "color": "white"
             }
            },
            "header": {
             "fill": {
              "color": "#C8D4E3"
             },
             "line": {
              "color": "white"
             }
            },
            "type": "table"
           }
          ]
         },
         "layout": {
          "annotationdefaults": {
           "arrowcolor": "#2a3f5f",
           "arrowhead": 0,
           "arrowwidth": 1
          },
          "autotypenumbers": "strict",
          "coloraxis": {
           "colorbar": {
            "outlinewidth": 0,
            "ticks": ""
           }
          },
          "colorscale": {
           "diverging": [
            [
             0,
             "#8e0152"
            ],
            [
             0.1,
             "#c51b7d"
            ],
            [
             0.2,
             "#de77ae"
            ],
            [
             0.3,
             "#f1b6da"
            ],
            [
             0.4,
             "#fde0ef"
            ],
            [
             0.5,
             "#f7f7f7"
            ],
            [
             0.6,
             "#e6f5d0"
            ],
            [
             0.7,
             "#b8e186"
            ],
            [
             0.8,
             "#7fbc41"
            ],
            [
             0.9,
             "#4d9221"
            ],
            [
             1,
             "#276419"
            ]
           ],
           "sequential": [
            [
             0,
             "#0d0887"
            ],
            [
             0.1111111111111111,
             "#46039f"
            ],
            [
             0.2222222222222222,
             "#7201a8"
            ],
            [
             0.3333333333333333,
             "#9c179e"
            ],
            [
             0.4444444444444444,
             "#bd3786"
            ],
            [
             0.5555555555555556,
             "#d8576b"
            ],
            [
             0.6666666666666666,
             "#ed7953"
            ],
            [
             0.7777777777777778,
             "#fb9f3a"
            ],
            [
             0.8888888888888888,
             "#fdca26"
            ],
            [
             1,
             "#f0f921"
            ]
           ],
           "sequentialminus": [
            [
             0,
             "#0d0887"
            ],
            [
             0.1111111111111111,
             "#46039f"
            ],
            [
             0.2222222222222222,
             "#7201a8"
            ],
            [
             0.3333333333333333,
             "#9c179e"
            ],
            [
             0.4444444444444444,
             "#bd3786"
            ],
            [
             0.5555555555555556,
             "#d8576b"
            ],
            [
             0.6666666666666666,
             "#ed7953"
            ],
            [
             0.7777777777777778,
             "#fb9f3a"
            ],
            [
             0.8888888888888888,
             "#fdca26"
            ],
            [
             1,
             "#f0f921"
            ]
           ]
          },
          "colorway": [
           "#636efa",
           "#EF553B",
           "#00cc96",
           "#ab63fa",
           "#FFA15A",
           "#19d3f3",
           "#FF6692",
           "#B6E880",
           "#FF97FF",
           "#FECB52"
          ],
          "font": {
           "color": "#2a3f5f"
          },
          "geo": {
           "bgcolor": "white",
           "lakecolor": "white",
           "landcolor": "#E5ECF6",
           "showlakes": true,
           "showland": true,
           "subunitcolor": "white"
          },
          "hoverlabel": {
           "align": "left"
          },
          "hovermode": "closest",
          "mapbox": {
           "style": "light"
          },
          "paper_bgcolor": "white",
          "plot_bgcolor": "#E5ECF6",
          "polar": {
           "angularaxis": {
            "gridcolor": "white",
            "linecolor": "white",
            "ticks": ""
           },
           "bgcolor": "#E5ECF6",
           "radialaxis": {
            "gridcolor": "white",
            "linecolor": "white",
            "ticks": ""
           }
          },
          "scene": {
           "xaxis": {
            "backgroundcolor": "#E5ECF6",
            "gridcolor": "white",
            "gridwidth": 2,
            "linecolor": "white",
            "showbackground": true,
            "ticks": "",
            "zerolinecolor": "white"
           },
           "yaxis": {
            "backgroundcolor": "#E5ECF6",
            "gridcolor": "white",
            "gridwidth": 2,
            "linecolor": "white",
            "showbackground": true,
            "ticks": "",
            "zerolinecolor": "white"
           },
           "zaxis": {
            "backgroundcolor": "#E5ECF6",
            "gridcolor": "white",
            "gridwidth": 2,
            "linecolor": "white",
            "showbackground": true,
            "ticks": "",
            "zerolinecolor": "white"
           }
          },
          "shapedefaults": {
           "line": {
            "color": "#2a3f5f"
           }
          },
          "ternary": {
           "aaxis": {
            "gridcolor": "white",
            "linecolor": "white",
            "ticks": ""
           },
           "baxis": {
            "gridcolor": "white",
            "linecolor": "white",
            "ticks": ""
           },
           "bgcolor": "#E5ECF6",
           "caxis": {
            "gridcolor": "white",
            "linecolor": "white",
            "ticks": ""
           }
          },
          "title": {
           "x": 0.05
          },
          "xaxis": {
           "automargin": true,
           "gridcolor": "white",
           "linecolor": "white",
           "ticks": "",
           "title": {
            "standoff": 15
           },
           "zerolinecolor": "white",
           "zerolinewidth": 2
          },
          "yaxis": {
           "automargin": true,
           "gridcolor": "white",
           "linecolor": "white",
           "ticks": "",
           "title": {
            "standoff": 15
           },
           "zerolinecolor": "white",
           "zerolinewidth": 2
          }
         }
        }
       }
      }
     },
     "metadata": {},
     "output_type": "display_data"
    }
   ],
   "source": [
    "from myenv.models.candlestick import Candlestick\n",
    "from myenv.models.merchandise_rate import MerchandiseRate\n",
    "from apps.helpers.draw_chart import draw_candlestick\n",
    "from apps.services.ochl_dataframe import add_hour_column, add_return_column, add_average_oc_column, add_rolling_average_oc_column\n",
    "import matplotlib.pyplot as plt\n",
    "import numpy as np\n",
    "\n",
    "%matplotlib inline\n",
    "\n",
    "merchandise_rate = MerchandiseRate()\n",
    "merchandise_rate_id = merchandise_rate.find_by_slug(MERCHAINDISE)\n",
    "candlestick = Candlestick(merchandise_rate_id, 'hour', 24*DAYS, \"DESC\", start_date=START_DATE, end_date=END_DATE)\n",
    "\n",
    "data_prices = candlestick.to_df()\n",
    "\n",
    "data_prices = add_hour_column(data_prices)\n",
    "data_prices = add_return_column(data_prices)\n",
    "data_prices = add_average_oc_column(data_prices)\n",
    "data_prices = add_rolling_average_oc_column(data_prices)\n",
    "\n",
    "draw_candlestick(data_prices).show()\n",
    "\n"
   ]
  },
  {
   "cell_type": "code",
   "execution_count": 12,
   "metadata": {},
   "outputs": [
    {
     "name": "stderr",
     "output_type": "stream",
     "text": [
      "2022-04-06 15:22:11.960 WARNING matplotlib.legend: No handles with labels found to put in legend.\n"
     ]
    },
    {
     "data": {
      "image/png": "[encoded data removed]",
      "text/plain": [
       "<Figure size 1440x720 with 1 Axes>"
      ]
     },
     "metadata": {
      "needs_background": "light"
     },
     "output_type": "display_data"
    },
    {
     "data": {
      "image/png": "[encoded data removed]",
      "text/plain": [
       "<Figure size 432x432 with 1 Axes>"
      ]
     },
     "metadata": {
      "needs_background": "light"
     },
     "output_type": "display_data"
    }
   ],
   "source": [
    "plt.figure(figsize=(20,10))\n",
    "plt.plot(data_prices['rolling_average_oc'], label='rolling_avg')\n",
    "plt.figure(figsize=(6, 6))\n",
    "\n",
    "plt.legend()\n",
    "\n",
    "plt.show()"
   ]
  },
  {
   "cell_type": "code",
   "execution_count": 16,
   "metadata": {},
   "outputs": [
    {
     "name": "stderr",
     "output_type": "stream",
     "text": [
      "2022-04-06 15:29:25.500 WARNING matplotlib.legend: No handles with labels found to put in legend.\n"
     ]
    },
    {
     "data": {
      "image/png": "[encoded data removed]",
      "text/plain": [
       "<Figure size 1440x720 with 1 Axes>"
      ]
     },
     "metadata": {
      "needs_background": "light"
     },
     "output_type": "display_data"
    },
    {
     "data": {
      "image/png": "[encoded data removed]",
      "text/plain": [
       "<Figure size 432x432 with 1 Axes>"
      ]
     },
     "metadata": {
      "needs_background": "light"
     },
     "output_type": "display_data"
    }
   ],
   "source": [
    "data_prices_0_6 = data_prices[data_prices['hour'] < 7]\n",
    "\n",
    "plt.figure(figsize=(20,10))\n",
    "plt.plot(data_prices_0_6['rolling_average_oc'], label='rolling_avg')\n",
    "plt.figure(figsize=(6, 6))\n",
    "\n",
    "plt.legend()\n",
    "\n",
    "plt.show()"
   ]
  }
 ],
 "metadata": {
  "interpreter": {
   "hash": "9b7a63b580c172c7da8da4dbbebee610e4d353e01ea1f4976b3b5103b2ec0dfd"
  },
  "kernelspec": {
   "display_name": "Python 3.8.8 64-bit ('base': conda)",
   "language": "python",
   "name": "python3"
  },
  "language_info": {
   "codemirror_mode": {
    "name": "ipython",
    "version": 3
   },
   "file_extension": ".py",
   "mimetype": "text/x-python",
   "name": "python",
   "nbconvert_exporter": "python",
   "pygments_lexer": "ipython3",
   "version": "3.8.8"
  },
  "orig_nbformat": 4
 },
 "nbformat": 4,
 "nbformat_minor": 2
}
