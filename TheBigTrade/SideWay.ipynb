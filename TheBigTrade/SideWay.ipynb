{
 "cells": [
  {
   "cell_type": "code",
   "execution_count": 1,
   "metadata": {},
   "outputs": [],
   "source": [
    "MERCHAINDISE = 'DOTUSDT'\n",
    "DAYS = 10\n",
    "\n",
    "# format = YYYY-MM-DD\n",
    "# START_DATE = '2022-4-1'\n",
    "# END_DATE = '2022-4-6'\n",
    "START_DATE = None\n",
    "END_DATE =  None\n",
    "\n",
    "DATE_FORMAT = \"%Y-%m-%d\""
   ]
  },
  {
   "cell_type": "code",
   "execution_count": 3,
   "metadata": {},
   "outputs": [
    {
     "name": "stdout",
     "output_type": "stream",
     "text": [
      "{'start': 8, 'end': 14, 'high': 7.715, 'low': 7.846025}\n",
      "{'start': 42, 'end': 50, 'high': 7.12066, 'low': 7.3187999999999995}\n",
      "{'start': 53, 'end': 62, 'high': 6.999568, 'low': 7.229839999999999}\n",
      "{'start': 62, 'end': 68, 'high': 6.8023175, 'low': 6.97715}\n",
      "{'start': 69, 'end': 74, 'high': 6.705, 'low': 6.8149999999999995}\n",
      "{'start': 77, 'end': 82, 'high': 6.7715000000000005, 'low': 6.9585}\n",
      "{'start': 90, 'end': 120, 'high': 6.5275, 'low': 6.88691828125}\n"
     ]
    },
    {
     "data": {
      "application/vnd.plotly.v1+json": {
       "config": {
        "plotlyServerURL": "https://plot.ly"
       },
       "data": [
        {
         "close": [
          8.19,
          8.1,
          8.09,
          7.88,
          7.92,
          7.96,
          7.89,
          7.84,
          7.82,
          7.77,
          7.8,
          7.77,
          7.82,
          7.74,
          7.69,
          7.54,
          7.56,
          7.57,
          7.62,
          7.61,
          7.68,
          7.71,
          7.84,
          7.82,
          7.79,
          7.85,
          7.9,
          7.95,
          7.76,
          7.57,
          7.62,
          7.61,
          7.5,
          7.47,
          7.5,
          7.52,
          7.31,
          7.31,
          7.31,
          7.4,
          7.43,
          7.3,
          7.27,
          7.22,
          7.14,
          7.25,
          7.19,
          7.25,
          7.22,
          7.21,
          7.09,
          7.17,
          7.23,
          7.2,
          7.1,
          7.16,
          7.08,
          7.15,
          7.11,
          7.11,
          7.07,
          7.03,
          6.91,
          6.91,
          6.96,
          6.92,
          6.89,
          6.91,
          6.8,
          6.81,
          6.75,
          6.79,
          6.74,
          6.75,
          6.86,
          6.68,
          6.8,
          6.83,
          6.82,
          6.86,
          6.78,
          6.81,
          6.72,
          6.74,
          6.8,
          7.06,
          7.14,
          7.12,
          7.05,
          6.85,
          6.77,
          6.6,
          6.7,
          6.79,
          6.79,
          6.78,
          6.66,
          6.71,
          6.68,
          6.78,
          6.72,
          6.71,
          6.74,
          6.81,
          6.78,
          6.83,
          6.84,
          6.83,
          6.76,
          6.75,
          6.68,
          6.71,
          6.66,
          6.66,
          6.71,
          6.69,
          6.7,
          6.69,
          6.7,
          6.75,
          6.73
         ],
         "high": [
          8.2,
          8.2,
          8.14,
          8.17,
          7.93,
          7.97,
          7.96,
          7.9,
          7.91,
          7.82,
          7.83,
          7.84,
          7.9,
          7.87,
          7.83,
          7.73,
          7.58,
          7.6,
          7.63,
          7.67,
          7.73,
          7.74,
          7.86,
          7.89,
          7.84,
          7.89,
          7.99,
          8,
          7.98,
          7.77,
          7.65,
          7.64,
          7.62,
          7.51,
          7.52,
          7.53,
          7.53,
          7.37,
          7.37,
          7.41,
          7.44,
          7.44,
          7.33,
          7.3,
          7.22,
          7.26,
          7.28,
          7.31,
          7.27,
          7.24,
          7.26,
          7.19,
          7.27,
          7.24,
          7.21,
          7.17,
          7.21,
          7.16,
          7.22,
          7.16,
          7.15,
          7.07,
          7.04,
          6.96,
          6.99,
          6.97,
          6.97,
          6.93,
          6.93,
          6.87,
          6.81,
          6.8,
          6.79,
          6.82,
          6.89,
          6.9,
          6.81,
          6.92,
          6.95,
          6.91,
          6.87,
          6.84,
          6.84,
          6.81,
          6.88,
          7.1,
          7.26,
          7.2,
          7.14,
          7.08,
          6.87,
          6.79,
          6.71,
          6.81,
          6.89,
          6.82,
          6.8,
          6.72,
          6.74,
          6.83,
          6.8,
          6.77,
          6.81,
          6.82,
          6.83,
          6.85,
          6.94,
          6.87,
          6.84,
          6.83,
          6.81,
          6.75,
          6.76,
          6.71,
          6.73,
          6.76,
          6.75,
          6.75,
          6.77,
          6.75,
          6.76
         ],
         "low": [
          8.14,
          8.08,
          8.04,
          7.87,
          7.8,
          7.86,
          7.84,
          7.83,
          7.68,
          7.72,
          7.76,
          7.77,
          7.77,
          7.7,
          7.63,
          7.52,
          7.47,
          7.54,
          7.54,
          7.59,
          7.6,
          7.67,
          7.69,
          7.81,
          7.76,
          7.74,
          7.84,
          7.85,
          7.71,
          7.57,
          7.52,
          7.56,
          7.42,
          7.44,
          7.42,
          7.49,
          7.28,
          7.26,
          7.26,
          7.31,
          7.31,
          7.27,
          7.21,
          7.14,
          7.05,
          7.11,
          7.18,
          7.17,
          7.19,
          7.13,
          7.08,
          7.01,
          7.15,
          7.14,
          7.05,
          7.02,
          7.07,
          7.03,
          7.09,
          7.09,
          7.01,
          6.95,
          6.89,
          6.83,
          6.9,
          6.89,
          6.86,
          6.81,
          6.76,
          6.77,
          6.71,
          6.64,
          6.67,
          6.69,
          6.73,
          6.64,
          6.67,
          6.79,
          6.78,
          6.8,
          6.73,
          6.74,
          6.67,
          6.71,
          6.74,
          6.71,
          6.98,
          7.08,
          7.05,
          6.84,
          6.74,
          6.54,
          6.6,
          6.67,
          6.74,
          6.75,
          6.64,
          6.63,
          6.66,
          6.66,
          6.65,
          6.68,
          6.68,
          6.7,
          6.75,
          6.76,
          6.81,
          6.76,
          6.76,
          6.7,
          6.67,
          6.66,
          6.62,
          6.64,
          6.66,
          6.69,
          6.67,
          6.68,
          6.68,
          6.65,
          6.72
         ],
         "open": [
          8.15,
          8.19,
          8.09,
          8.09,
          7.88,
          7.92,
          7.95,
          7.9,
          7.83,
          7.82,
          7.78,
          7.8,
          7.78,
          7.82,
          7.74,
          7.68,
          7.55,
          7.56,
          7.58,
          7.62,
          7.61,
          7.67,
          7.71,
          7.84,
          7.82,
          7.8,
          7.85,
          7.9,
          7.95,
          7.76,
          7.58,
          7.62,
          7.62,
          7.5,
          7.47,
          7.5,
          7.53,
          7.32,
          7.31,
          7.32,
          7.4,
          7.43,
          7.3,
          7.27,
          7.22,
          7.14,
          7.25,
          7.19,
          7.24,
          7.23,
          7.2,
          7.1,
          7.18,
          7.23,
          7.19,
          7.1,
          7.16,
          7.07,
          7.15,
          7.11,
          7.12,
          7.07,
          7.04,
          6.91,
          6.91,
          6.96,
          6.92,
          6.88,
          6.91,
          6.8,
          6.81,
          6.75,
          6.79,
          6.74,
          6.75,
          6.87,
          6.68,
          6.8,
          6.82,
          6.83,
          6.86,
          6.79,
          6.81,
          6.71,
          6.74,
          6.79,
          7.06,
          7.13,
          7.13,
          7.05,
          6.85,
          6.77,
          6.61,
          6.7,
          6.8,
          6.79,
          6.78,
          6.67,
          6.7,
          6.68,
          6.78,
          6.72,
          6.71,
          6.74,
          6.8,
          6.79,
          6.83,
          6.83,
          6.82,
          6.77,
          6.75,
          6.68,
          6.71,
          6.66,
          6.67,
          6.71,
          6.7,
          6.7,
          6.69,
          6.7,
          6.74
         ],
         "type": "candlestick",
         "x": [
          0,
          0.5,
          1,
          1.5,
          2,
          2.5,
          3,
          3.5,
          4,
          4.5,
          5,
          5.5,
          6,
          6.5,
          7,
          7.5,
          8,
          8.5,
          9,
          9.5,
          10,
          10.5,
          11,
          11.5,
          12,
          12.5,
          13,
          13.5,
          14,
          14.5,
          15,
          15.5,
          16,
          16.5,
          17,
          17.5,
          18,
          18.5,
          19,
          19.5,
          20,
          20.5,
          21,
          21.5,
          22,
          22.5,
          23,
          23.5,
          24,
          24.5,
          25,
          25.5,
          26,
          26.5,
          27,
          27.5,
          28,
          28.5,
          29,
          29.5,
          30,
          30.5,
          31,
          31.5,
          32,
          32.5,
          33,
          33.5,
          34,
          34.5,
          35,
          35.5,
          36,
          36.5,
          37,
          37.5,
          38,
          38.5,
          39,
          39.5,
          40,
          40.5,
          41,
          41.5,
          42,
          42.5,
          43,
          43.5,
          44,
          44.5,
          45,
          45.5,
          46,
          46.5,
          47,
          47.5,
          48,
          48.5,
          49,
          49.5,
          50,
          50.5,
          51,
          51.5,
          52,
          52.5,
          53,
          53.5,
          54,
          54.5,
          55,
          55.5,
          56,
          56.5,
          57,
          57.5,
          58,
          58.5,
          59,
          59.5,
          60
         ]
        }
       ],
       "layout": {
        "shapes": [
         {
          "fillcolor": "orange",
          "layer": "below",
          "opacity": 0.35,
          "type": "rect",
          "x0": 6.8,
          "x1": 4.2,
          "xref": "x",
          "y0": 7.846025,
          "y1": 7.715,
          "yref": "y"
         },
         {
          "fillcolor": "orange",
          "layer": "below",
          "opacity": 0.35,
          "type": "rect",
          "x0": 24.8,
          "x1": 21.2,
          "xref": "x",
          "y0": 7.3187999999999995,
          "y1": 7.12066,
          "yref": "y"
         },
         {
          "fillcolor": "orange",
          "layer": "below",
          "opacity": 0.35,
          "type": "rect",
          "x0": 30.8,
          "x1": 26.7,
          "xref": "x",
          "y0": 7.229839999999999,
          "y1": 6.999568,
          "yref": "y"
         },
         {
          "fillcolor": "orange",
          "layer": "below",
          "opacity": 0.35,
          "type": "rect",
          "x0": 33.8,
          "x1": 31.2,
          "xref": "x",
          "y0": 6.97715,
          "y1": 6.8023175,
          "yref": "y"
         },
         {
          "fillcolor": "orange",
          "layer": "below",
          "opacity": 0.35,
          "type": "rect",
          "x0": 36.8,
          "x1": 34.7,
          "xref": "x",
          "y0": 6.8149999999999995,
          "y1": 6.705,
          "yref": "y"
         },
         {
          "fillcolor": "orange",
          "layer": "below",
          "opacity": 0.35,
          "type": "rect",
          "x0": 40.8,
          "x1": 38.7,
          "xref": "x",
          "y0": 6.9585,
          "y1": 6.7715000000000005,
          "yref": "y"
         },
         {
          "fillcolor": "orange",
          "layer": "below",
          "opacity": 0.35,
          "type": "rect",
          "x0": 59.8,
          "x1": 45.2,
          "xref": "x",
          "y0": 6.88691828125,
          "y1": 6.5275,
          "yref": "y"
         }
        ],
        "template": {
         "data": {
          "bar": [
           {
            "error_x": {
             "color": "#2a3f5f"
            },
            "error_y": {
             "color": "#2a3f5f"
            },
            "marker": {
             "line": {
              "color": "#E5ECF6",
              "width": 0.5
             },
             "pattern": {
              "fillmode": "overlay",
              "size": 10,
              "solidity": 0.2
             }
            },
            "type": "bar"
           }
          ],
          "barpolar": [
           {
            "marker": {
             "line": {
              "color": "#E5ECF6",
              "width": 0.5
             },
             "pattern": {
              "fillmode": "overlay",
              "size": 10,
              "solidity": 0.2
             }
            },
            "type": "barpolar"
           }
          ],
          "carpet": [
           {
            "aaxis": {
             "endlinecolor": "#2a3f5f",
             "gridcolor": "white",
             "linecolor": "white",
             "minorgridcolor": "white",
             "startlinecolor": "#2a3f5f"
            },
            "baxis": {
             "endlinecolor": "#2a3f5f",
             "gridcolor": "white",
             "linecolor": "white",
             "minorgridcolor": "white",
             "startlinecolor": "#2a3f5f"
            },
            "type": "carpet"
           }
          ],
          "choropleth": [
           {
            "colorbar": {
             "outlinewidth": 0,
             "ticks": ""
            },
            "type": "choropleth"
           }
          ],
          "contour": [
           {
            "colorbar": {
             "outlinewidth": 0,
             "ticks": ""
            },
            "colorscale": [
             [
              0,
              "#0d0887"
             ],
             [
              0.1111111111111111,
              "#46039f"
             ],
             [
              0.2222222222222222,
              "#7201a8"
             ],
             [
              0.3333333333333333,
              "#9c179e"
             ],
             [
              0.4444444444444444,
              "#bd3786"
             ],
             [
              0.5555555555555556,
              "#d8576b"
             ],
             [
              0.6666666666666666,
              "#ed7953"
             ],
             [
              0.7777777777777778,
              "#fb9f3a"
             ],
             [
              0.8888888888888888,
              "#fdca26"
             ],
             [
              1,
              "#f0f921"
             ]
            ],
            "type": "contour"
           }
          ],
          "contourcarpet": [
           {
            "colorbar": {
             "outlinewidth": 0,
             "ticks": ""
            },
            "type": "contourcarpet"
           }
          ],
          "heatmap": [
           {
            "colorbar": {
             "outlinewidth": 0,
             "ticks": ""
            },
            "colorscale": [
             [
              0,
              "#0d0887"
             ],
             [
              0.1111111111111111,
              "#46039f"
             ],
             [
              0.2222222222222222,
              "#7201a8"
             ],
             [
              0.3333333333333333,
              "#9c179e"
             ],
             [
              0.4444444444444444,
              "#bd3786"
             ],
             [
              0.5555555555555556,
              "#d8576b"
             ],
             [
              0.6666666666666666,
              "#ed7953"
             ],
             [
              0.7777777777777778,
              "#fb9f3a"
             ],
             [
              0.8888888888888888,
              "#fdca26"
             ],
             [
              1,
              "#f0f921"
             ]
            ],
            "type": "heatmap"
           }
          ],
          "heatmapgl": [
           {
            "colorbar": {
             "outlinewidth": 0,
             "ticks": ""
            },
            "colorscale": [
             [
              0,
              "#0d0887"
             ],
             [
              0.1111111111111111,
              "#46039f"
             ],
             [
              0.2222222222222222,
              "#7201a8"
             ],
             [
              0.3333333333333333,
              "#9c179e"
             ],
             [
              0.4444444444444444,
              "#bd3786"
             ],
             [
              0.5555555555555556,
              "#d8576b"
             ],
             [
              0.6666666666666666,
              "#ed7953"
             ],
             [
              0.7777777777777778,
              "#fb9f3a"
             ],
             [
              0.8888888888888888,
              "#fdca26"
             ],
             [
              1,
              "#f0f921"
             ]
            ],
            "type": "heatmapgl"
           }
          ],
          "histogram": [
           {
            "marker": {
             "pattern": {
              "fillmode": "overlay",
              "size": 10,
              "solidity": 0.2
             }
            },
            "type": "histogram"
           }
          ],
          "histogram2d": [
           {
            "colorbar": {
             "outlinewidth": 0,
             "ticks": ""
            },
            "colorscale": [
             [
              0,
              "#0d0887"
             ],
             [
              0.1111111111111111,
              "#46039f"
             ],
             [
              0.2222222222222222,
              "#7201a8"
             ],
             [
              0.3333333333333333,
              "#9c179e"
             ],
             [
              0.4444444444444444,
              "#bd3786"
             ],
             [
              0.5555555555555556,
              "#d8576b"
             ],
             [
              0.6666666666666666,
              "#ed7953"
             ],
             [
              0.7777777777777778,
              "#fb9f3a"
             ],
             [
              0.8888888888888888,
              "#fdca26"
             ],
             [
              1,
              "#f0f921"
             ]
            ],
            "type": "histogram2d"
           }
          ],
          "histogram2dcontour": [
           {
            "colorbar": {
             "outlinewidth": 0,
             "ticks": ""
            },
            "colorscale": [
             [
              0,
              "#0d0887"
             ],
             [
              0.1111111111111111,
              "#46039f"
             ],
             [
              0.2222222222222222,
              "#7201a8"
             ],
             [
              0.3333333333333333,
              "#9c179e"
             ],
             [
              0.4444444444444444,
              "#bd3786"
             ],
             [
              0.5555555555555556,
              "#d8576b"
             ],
             [
              0.6666666666666666,
              "#ed7953"
             ],
             [
              0.7777777777777778,
              "#fb9f3a"
             ],
             [
              0.8888888888888888,
              "#fdca26"
             ],
             [
              1,
              "#f0f921"
             ]
            ],
            "type": "histogram2dcontour"
           }
          ],
          "mesh3d": [
           {
            "colorbar": {
             "outlinewidth": 0,
             "ticks": ""
            },
            "type": "mesh3d"
           }
          ],
          "parcoords": [
           {
            "line": {
             "colorbar": {
              "outlinewidth": 0,
              "ticks": ""
             }
            },
            "type": "parcoords"
           }
          ],
          "pie": [
           {
            "automargin": true,
            "type": "pie"
           }
          ],
          "scatter": [
           {
            "marker": {
             "colorbar": {
              "outlinewidth": 0,
              "ticks": ""
             }
            },
            "type": "scatter"
           }
          ],
          "scatter3d": [
           {
            "line": {
             "colorbar": {
              "outlinewidth": 0,
              "ticks": ""
             }
            },
            "marker": {
             "colorbar": {
              "outlinewidth": 0,
              "ticks": ""
             }
            },
            "type": "scatter3d"
           }
          ],
          "scattercarpet": [
           {
            "marker": {
             "colorbar": {
              "outlinewidth": 0,
              "ticks": ""
             }
            },
            "type": "scattercarpet"
           }
          ],
          "scattergeo": [
           {
            "marker": {
             "colorbar": {
              "outlinewidth": 0,
              "ticks": ""
             }
            },
            "type": "scattergeo"
           }
          ],
          "scattergl": [
           {
            "marker": {
             "colorbar": {
              "outlinewidth": 0,
              "ticks": ""
             }
            },
            "type": "scattergl"
           }
          ],
          "scattermapbox": [
           {
            "marker": {
             "colorbar": {
              "outlinewidth": 0,
              "ticks": ""
             }
            },
            "type": "scattermapbox"
           }
          ],
          "scatterpolar": [
           {
            "marker": {
             "colorbar": {
              "outlinewidth": 0,
              "ticks": ""
             }
            },
            "type": "scatterpolar"
           }
          ],
          "scatterpolargl": [
           {
            "marker": {
             "colorbar": {
              "outlinewidth": 0,
              "ticks": ""
             }
            },
            "type": "scatterpolargl"
           }
          ],
          "scatterternary": [
           {
            "marker": {
             "colorbar": {
              "outlinewidth": 0,
              "ticks": ""
             }
            },
            "type": "scatterternary"
           }
          ],
          "surface": [
           {
            "colorbar": {
             "outlinewidth": 0,
             "ticks": ""
            },
            "colorscale": [
             [
              0,
              "#0d0887"
             ],
             [
              0.1111111111111111,
              "#46039f"
             ],
             [
              0.2222222222222222,
              "#7201a8"
             ],
             [
              0.3333333333333333,
              "#9c179e"
             ],
             [
              0.4444444444444444,
              "#bd3786"
             ],
             [
              0.5555555555555556,
              "#d8576b"
             ],
             [
              0.6666666666666666,
              "#ed7953"
             ],
             [
              0.7777777777777778,
              "#fb9f3a"
             ],
             [
              0.8888888888888888,
              "#fdca26"
             ],
             [
              1,
              "#f0f921"
             ]
            ],
            "type": "surface"
           }
          ],
          "table": [
           {
            "cells": {
             "fill": {
              "color": "#EBF0F8"
             },
             "line": {
              "color": "white"
             }
            },
            "header": {
             "fill": {
              "color": "#C8D4E3"
             },
             "line": {
              "color": "white"
             }
            },
            "type": "table"
           }
          ]
         },
         "layout": {
          "annotationdefaults": {
           "arrowcolor": "#2a3f5f",
           "arrowhead": 0,
           "arrowwidth": 1
          },
          "autotypenumbers": "strict",
          "coloraxis": {
           "colorbar": {
            "outlinewidth": 0,
            "ticks": ""
           }
          },
          "colorscale": {
           "diverging": [
            [
             0,
             "#8e0152"
            ],
            [
             0.1,
             "#c51b7d"
            ],
            [
             0.2,
             "#de77ae"
            ],
            [
             0.3,
             "#f1b6da"
            ],
            [
             0.4,
             "#fde0ef"
            ],
            [
             0.5,
             "#f7f7f7"
            ],
            [
             0.6,
             "#e6f5d0"
            ],
            [
             0.7,
             "#b8e186"
            ],
            [
             0.8,
             "#7fbc41"
            ],
            [
             0.9,
             "#4d9221"
            ],
            [
             1,
             "#276419"
            ]
           ],
           "sequential": [
            [
             0,
             "#0d0887"
            ],
            [
             0.1111111111111111,
             "#46039f"
            ],
            [
             0.2222222222222222,
             "#7201a8"
            ],
            [
             0.3333333333333333,
             "#9c179e"
            ],
            [
             0.4444444444444444,
             "#bd3786"
            ],
            [
             0.5555555555555556,
             "#d8576b"
            ],
            [
             0.6666666666666666,
             "#ed7953"
            ],
            [
             0.7777777777777778,
             "#fb9f3a"
            ],
            [
             0.8888888888888888,
             "#fdca26"
            ],
            [
             1,
             "#f0f921"
            ]
           ],
           "sequentialminus": [
            [
             0,
             "#0d0887"
            ],
            [
             0.1111111111111111,
             "#46039f"
            ],
            [
             0.2222222222222222,
             "#7201a8"
            ],
            [
             0.3333333333333333,
             "#9c179e"
            ],
            [
             0.4444444444444444,
             "#bd3786"
            ],
            [
             0.5555555555555556,
             "#d8576b"
            ],
            [
             0.6666666666666666,
             "#ed7953"
            ],
            [
             0.7777777777777778,
             "#fb9f3a"
            ],
            [
             0.8888888888888888,
             "#fdca26"
            ],
            [
             1,
             "#f0f921"
            ]
           ]
          },
          "colorway": [
           "#636efa",
           "#EF553B",
           "#00cc96",
           "#ab63fa",
           "#FFA15A",
           "#19d3f3",
           "#FF6692",
           "#B6E880",
           "#FF97FF",
           "#FECB52"
          ],
          "font": {
           "color": "#2a3f5f"
          },
          "geo": {
           "bgcolor": "white",
           "lakecolor": "white",
           "landcolor": "#E5ECF6",
           "showlakes": true,
           "showland": true,
           "subunitcolor": "white"
          },
          "hoverlabel": {
           "align": "left"
          },
          "hovermode": "closest",
          "mapbox": {
           "style": "light"
          },
          "paper_bgcolor": "white",
          "plot_bgcolor": "#E5ECF6",
          "polar": {
           "angularaxis": {
            "gridcolor": "white",
            "linecolor": "white",
            "ticks": ""
           },
           "bgcolor": "#E5ECF6",
           "radialaxis": {
            "gridcolor": "white",
            "linecolor": "white",
            "ticks": ""
           }
          },
          "scene": {
           "xaxis": {
            "backgroundcolor": "#E5ECF6",
            "gridcolor": "white",
            "gridwidth": 2,
            "linecolor": "white",
            "showbackground": true,
            "ticks": "",
            "zerolinecolor": "white"
           },
           "yaxis": {
            "backgroundcolor": "#E5ECF6",
            "gridcolor": "white",
            "gridwidth": 2,
            "linecolor": "white",
            "showbackground": true,
            "ticks": "",
            "zerolinecolor": "white"
           },
           "zaxis": {
            "backgroundcolor": "#E5ECF6",
            "gridcolor": "white",
            "gridwidth": 2,
            "linecolor": "white",
            "showbackground": true,
            "ticks": "",
            "zerolinecolor": "white"
           }
          },
          "shapedefaults": {
           "line": {
            "color": "#2a3f5f"
           }
          },
          "ternary": {
           "aaxis": {
            "gridcolor": "white",
            "linecolor": "white",
            "ticks": ""
           },
           "baxis": {
            "gridcolor": "white",
            "linecolor": "white",
            "ticks": ""
           },
           "bgcolor": "#E5ECF6",
           "caxis": {
            "gridcolor": "white",
            "linecolor": "white",
            "ticks": ""
           }
          },
          "title": {
           "x": 0.05
          },
          "xaxis": {
           "automargin": true,
           "gridcolor": "white",
           "linecolor": "white",
           "ticks": "",
           "title": {
            "standoff": 15
           },
           "zerolinecolor": "white",
           "zerolinewidth": 2
          },
          "yaxis": {
           "automargin": true,
           "gridcolor": "white",
           "linecolor": "white",
           "ticks": "",
           "title": {
            "standoff": 15
           },
           "zerolinecolor": "white",
           "zerolinewidth": 2
          }
         }
        },
        "xaxis": {
         "rangeslider": {
          "visible": false
         },
         "ticktext": [
          "2022-06-27 17h",
          "2022-06-27 18h",
          "2022-06-27 19h",
          "2022-06-27 20h",
          "2022-06-27 21h",
          "2022-06-27 22h",
          "2022-06-27 23h",
          "2022-06-28 00h",
          "2022-06-28 01h",
          "2022-06-28 02h",
          "2022-06-28 03h",
          "2022-06-28 04h",
          "2022-06-28 05h",
          "2022-06-28 06h",
          "2022-06-28 07h",
          "2022-06-28 08h",
          "2022-06-28 09h",
          "2022-06-28 10h",
          "2022-06-28 11h",
          "2022-06-28 12h",
          "2022-06-28 13h",
          "2022-06-28 14h",
          "2022-06-28 15h",
          "2022-06-28 16h",
          "2022-06-28 17h",
          "2022-06-28 18h",
          "2022-06-28 19h",
          "2022-06-28 20h",
          "2022-06-28 21h",
          "2022-06-28 22h",
          "2022-06-28 23h",
          "2022-06-29 00h",
          "2022-06-29 01h",
          "2022-06-29 02h",
          "2022-06-29 03h",
          "2022-06-29 04h",
          "2022-06-29 05h",
          "2022-06-29 06h",
          "2022-06-29 07h",
          "2022-06-29 08h",
          "2022-06-29 09h",
          "2022-06-29 10h",
          "2022-06-29 11h",
          "2022-06-29 12h",
          "2022-06-29 13h",
          "2022-06-29 14h",
          "2022-06-29 15h",
          "2022-06-29 16h",
          "2022-06-29 17h",
          "2022-06-29 18h",
          "2022-06-29 19h",
          "2022-06-29 20h",
          "2022-06-29 21h",
          "2022-06-29 22h",
          "2022-06-29 23h",
          "2022-06-30 00h",
          "2022-06-30 01h",
          "2022-06-30 02h",
          "2022-06-30 03h",
          "2022-06-30 04h",
          "2022-06-30 05h",
          "2022-06-30 06h",
          "2022-06-30 07h",
          "2022-06-30 08h",
          "2022-06-30 09h",
          "2022-06-30 10h",
          "2022-06-30 11h",
          "2022-06-30 12h",
          "2022-06-30 13h",
          "2022-06-30 14h",
          "2022-06-30 15h",
          "2022-06-30 16h",
          "2022-06-30 17h",
          "2022-06-30 18h",
          "2022-06-30 19h",
          "2022-06-30 20h",
          "2022-06-30 21h",
          "2022-06-30 22h",
          "2022-06-30 23h",
          "2022-07-01 00h",
          "2022-07-01 01h",
          "2022-07-01 02h",
          "2022-07-01 03h",
          "2022-07-01 04h",
          "2022-07-01 05h",
          "2022-07-01 06h",
          "2022-07-01 07h",
          "2022-07-01 08h",
          "2022-07-01 09h",
          "2022-07-01 10h",
          "2022-07-01 11h",
          "2022-07-01 12h",
          "2022-07-01 13h",
          "2022-07-01 14h",
          "2022-07-01 15h",
          "2022-07-01 16h",
          "2022-07-01 17h",
          "2022-07-01 18h",
          "2022-07-01 19h",
          "2022-07-01 20h",
          "2022-07-01 21h",
          "2022-07-01 22h",
          "2022-07-01 23h",
          "2022-07-02 00h",
          "2022-07-02 01h",
          "2022-07-02 02h",
          "2022-07-02 03h",
          "2022-07-02 04h",
          "2022-07-02 05h",
          "2022-07-02 06h",
          "2022-07-02 07h",
          "2022-07-02 08h",
          "2022-07-02 09h",
          "2022-07-02 10h",
          "2022-07-02 11h",
          "2022-07-02 12h",
          "2022-07-02 13h",
          "2022-07-02 14h",
          "2022-07-02 15h",
          "2022-07-02 16h",
          "2022-07-02 17h"
         ],
         "tickvals": [
          0,
          0.5,
          1,
          1.5,
          2,
          2.5,
          3,
          3.5,
          4,
          4.5,
          5,
          5.5,
          6,
          6.5,
          7,
          7.5,
          8,
          8.5,
          9,
          9.5,
          10,
          10.5,
          11,
          11.5,
          12,
          12.5,
          13,
          13.5,
          14,
          14.5,
          15,
          15.5,
          16,
          16.5,
          17,
          17.5,
          18,
          18.5,
          19,
          19.5,
          20,
          20.5,
          21,
          21.5,
          22,
          22.5,
          23,
          23.5,
          24,
          24.5,
          25,
          25.5,
          26,
          26.5,
          27,
          27.5,
          28,
          28.5,
          29,
          29.5,
          30,
          30.5,
          31,
          31.5,
          32,
          32.5,
          33,
          33.5,
          34,
          34.5,
          35,
          35.5,
          36,
          36.5,
          37,
          37.5,
          38,
          38.5,
          39,
          39.5,
          40,
          40.5,
          41,
          41.5,
          42,
          42.5,
          43,
          43.5,
          44,
          44.5,
          45,
          45.5,
          46,
          46.5,
          47,
          47.5,
          48,
          48.5,
          49,
          49.5,
          50,
          50.5,
          51,
          51.5,
          52,
          52.5,
          53,
          53.5,
          54,
          54.5,
          55,
          55.5,
          56,
          56.5,
          57,
          57.5,
          58,
          58.5,
          59,
          59.5,
          60
         ]
        }
       }
      }
     },
     "metadata": {},
     "output_type": "display_data"
    }
   ],
   "source": [
    "from apps.models.candlestick import Candlestick\n",
    "from apps.models.merchandise_rate import MerchandiseRate\n",
    "from apps.models.zone import Zone\n",
    "from apps.helpers.draw_chart import draw_candlestick_use_zones\n",
    "from apps.services.ochl_dataframe import add_hour_column, add_return_column\n",
    "import matplotlib.pyplot as plt\n",
    "\n",
    "%matplotlib inline\n",
    "\n",
    "merchandise_rate = MerchandiseRate()\n",
    "merchandise_rate_id = merchandise_rate.find_by_slug(MERCHAINDISE)\n",
    "candlestick = Candlestick(merchandise_rate_id, 'hour', 121, \"DESC\", start_date=START_DATE, end_date=END_DATE)\n",
    "\n",
    "data_prices = candlestick.to_df()\n",
    "\n",
    "data_prices = add_hour_column(data_prices)\n",
    "data_prices = add_return_column(data_prices)\n",
    "\n",
    "zones = Zone.calculate_sideway_zone(data_prices)\n",
    "\n",
    "for zone in zones:\n",
    "    print(zone.__dict__)\n",
    "\n",
    "draw_candlestick_use_zones(data_prices, zones).show()"
   ]
  },
  {
   "cell_type": "code",
   "execution_count": null,
   "metadata": {},
   "outputs": [],
   "source": [
    "from apps.models.candlestick import Candlestick\n",
    "from apps.models.merchandise_rate import MerchandiseRate\n",
    "from apps.models.zone import Zone\n",
    "from apps.helpers.draw_chart import draw_candlestick_use_zones\n",
    "from apps.services.ochl_dataframe import add_hour_column, add_return_column, add_average_oc_column, add_rolling_average_oc_column\n",
    "import matplotlib.pyplot as plt\n",
    "import numpy as np\n",
    "\n",
    "%matplotlib inline\n",
    "\n",
    "merchandise_rate = MerchandiseRate()\n",
    "merchandise_rate_id = merchandise_rate.find_by_slug(MERCHAINDISE)\n",
    "candlestick = Candlestick(merchandise_rate_id, 'hour', 200, \"DESC\", start_date=START_DATE, end_date=END_DATE)\n",
    "\n",
    "data_prices = candlestick.to_df()\n",
    "\n",
    "data_prices = add_hour_column(data_prices)\n",
    "data_prices = add_return_column(data_prices)\n",
    "data_prices = add_average_oc_column(data_prices)\n",
    "data_prices = add_rolling_average_oc_column(data_prices)\n",
    "\n",
    "\n",
    "zones = Zone.calculate_sideway_zone(data_prices, 0.02)\n",
    "\n",
    "# print(zones)\n",
    "\n",
    "draw_candlestick_use_zones(data_prices, zones).show()"
   ]
  },
  {
   "cell_type": "code",
   "execution_count": null,
   "metadata": {},
   "outputs": [],
   "source": [
    "Average_Weight = 1.0\n",
    "Min_Zone_Width = 3\n",
    "Tolerance = 20\n",
    "Show_N_Last_Zones = 2\n",
    "Num_Bars = 500\n",
    "Start = 0\n",
    "End = 0\n",
    "Low = 0\n",
    "High = 0\n",
    "\n",
    "avgZoneHeight = 0\n",
    "tolerancePt = Tolerance*0.001\n",
    "\n",
    "numBars = 30\n",
    "hasBrokenRange = False\n",
    "zoneStart = 29\n",
    "zoneEnd = 0\n",
    "zoneSize = 0\n",
    "zonesCounter = 0\n",
    "zones = []\n",
    "\n",
    "rangeHigh = data_prices.iloc[numBars - 1].high + tolerancePt\n",
    "rangeLow = data_prices.iloc[numBars - 1].low - tolerancePt\n",
    "\n",
    "for i in range(numBars - 2,-1,-1):\n",
    "      zoneSize = zoneStart - i\n",
    "      zoneEnd = i\n",
    "      if data_prices.iloc[i].open > rangeHigh or data_prices.iloc[i].open < rangeLow or data_prices.iloc[i].close > rangeHigh or data_prices.iloc[i].close < rangeLow:\n",
    "            if zoneSize >= Min_Zone_Width:\n",
    "                  avgZoneHeight += abs(rangeHigh - rangeLow)\n",
    "\n",
    "                  zonesCounter = zonesCounter + 1\n",
    "\n",
    "            hasBrokenRange = True\n",
    "            zoneStart = i\n",
    "            rangeHigh = data_prices.iloc[i].high + tolerancePt;\n",
    "            rangeLow = data_prices.iloc[i].low - tolerancePt;\n",
    "      else:\n",
    "            hasBrokenRange = False\n",
    "\n",
    "avgZoneHeight /= zonesCounter * Average_Weight\n",
    "\n",
    "for i in range(numBars - 2,-1,-1):\n",
    "      zoneSize = zoneStart - i\n",
    "      zoneEnd = i\n",
    "      if data_prices.iloc[i].open > rangeHigh or data_prices.iloc[i].open < rangeLow or data_prices.iloc[i].close > rangeHigh or data_prices.iloc[i].close < rangeLow:\n",
    "            if zoneSize >= Min_Zone_Width:\n",
    "                  zones.append({'start': zoneStart, 'end': zoneEnd + 1, 'low': rangeLow, 'high': rangeHigh})\n",
    "\n",
    "                  zonesCounter = zonesCounter + 1\n",
    "\n",
    "            hasBrokenRange = True\n",
    "            zoneStart = i\n",
    "            rangeHigh = data_prices.iloc[i].high + tolerancePt;\n",
    "            rangeLow = data_prices.iloc[i].low - tolerancePt;\n",
    "\n",
    "            if abs(data_prices.iloc[i].high - data_prices.iloc[i].low) >= avgZoneHeight:\n",
    "                  zoneStart = -1\n",
    "                  rangeHigh = 0\n",
    "                  rangeLow = 0\n",
    "                  continue\n",
    "\n",
    "      else:\n",
    "            hasBrokenRange = False\n",
    "\n",
    "if hasBrokenRange == False and zoneSize >= Min_Zone_Width:\n",
    "      zones.append({'start': zoneStart, 'end': 0, 'low': rangeLow, 'high': rangeHigh})\n",
    "\n",
    "print(zones)"
   ]
  },
  {
   "cell_type": "code",
   "execution_count": null,
   "metadata": {},
   "outputs": [],
   "source": [
    "plt.figure(figsize=(20,10))\n",
    "plt.plot(data_prices['rolling_average_oc'], label='rolling_avg')\n",
    "plt.figure(figsize=(6, 6))\n",
    "\n",
    "plt.legend()\n",
    "\n",
    "plt.show()"
   ]
  },
  {
   "cell_type": "code",
   "execution_count": null,
   "metadata": {},
   "outputs": [],
   "source": [
    "data_prices_0_6 = data_prices[data_prices['hour'] < 7]\n",
    "\n",
    "plt.figure(figsize=(20,10))\n",
    "plt.plot(data_prices_0_6['rolling_average_oc'], label='rolling_avg')\n",
    "plt.figure(figsize=(6, 6))\n",
    "\n",
    "plt.legend()\n",
    "\n",
    "plt.show()"
   ]
  },
  {
   "cell_type": "code",
   "execution_count": null,
   "metadata": {},
   "outputs": [],
   "source": [
    "Average_Weight = 1.0\n",
    "Min_Zone_Width = 3\n",
    "Tolerance = 20\n",
    "Show_N_Last_Zones = 2\n",
    "Num_Bars = 500\n",
    "Start = 0\n",
    "End = 0\n",
    "Low = 0\n",
    "High = 0\n",
    "\n",
    "avgZoneHeight = 0\n",
    "tolerancePt = Tolerance*0.01\n",
    "\n",
    "numBars = 30\n",
    "hasBrokenRange = False\n",
    "zoneStart = 29\n",
    "zoneEnd = 0\n",
    "zoneSize = 0\n",
    "zonesCounter = 0\n",
    "zones = []\n",
    "\n",
    "rangeHigh = data_prices.iloc[numBars - 1].high + tolerancePt\n",
    "rangeLow = data_prices.iloc[numBars - 1].low - tolerancePt\n",
    "\n",
    "for i in range(numBars - 2,-1,-1):\n",
    "      zoneSize = zoneStart - i\n",
    "      zoneEnd = i\n",
    "      if data_prices.iloc[i].open > rangeHigh or data_prices.iloc[i].open < rangeLow or data_prices.iloc[i].close > rangeHigh or data_prices.iloc[i].close < rangeLow:\n",
    "            if zoneSize >= Min_Zone_Width:\n",
    "                  avgZoneHeight += abs(rangeHigh - rangeLow)\n",
    "\n",
    "                  zonesCounter = zonesCounter + 1\n",
    "\n",
    "            hasBrokenRange = True\n",
    "            zoneStart = i\n",
    "            rangeHigh = data_prices.iloc[i].high + tolerancePt;\n",
    "            rangeLow = data_prices.iloc[i].low - tolerancePt;\n",
    "      else:\n",
    "            hasBrokenRange = False\n",
    "\n",
    "avgZoneHeight /= zonesCounter * Average_Weight\n",
    "\n",
    "for i in range(numBars - 2,-1,-1):\n",
    "      zoneSize = zoneStart - i\n",
    "      zoneEnd = i\n",
    "      if data_prices.iloc[i].open > rangeHigh or data_prices.iloc[i].open < rangeLow or data_prices.iloc[i].close > rangeHigh or data_prices.iloc[i].close < rangeLow:\n",
    "            if zoneSize >= Min_Zone_Width:\n",
    "                  zones.append({'start': zoneStart, 'end': zoneEnd + 1, 'low': rangeLow, 'high': rangeHigh})\n",
    "\n",
    "                  zonesCounter = zonesCounter + 1\n",
    "\n",
    "            hasBrokenRange = True\n",
    "            zoneStart = i\n",
    "            rangeHigh = data_prices.iloc[i].high + tolerancePt;\n",
    "            rangeLow = data_prices.iloc[i].low - tolerancePt;\n",
    "\n",
    "            if abs(data_prices.iloc[i].high - data_prices.iloc[i].low) >= avgZoneHeight:\n",
    "                  zoneStart = -1\n",
    "                  rangeHigh = 0\n",
    "                  rangeLow = 0\n",
    "                  continue\n",
    "\n",
    "      else:\n",
    "            hasBrokenRange = False\n",
    "\n",
    "if hasBrokenRange == False and zoneSize >= Min_Zone_Width:\n",
    "      zones.append({'start': zoneStart, 'end': 0, 'low': rangeLow, 'high': rangeHigh})\n",
    "\n",
    "print(zones)\n",
    "\n",
    "\n",
    "# data_prices.iloc[[28]]\n",
    "\n",
    "# double rangeHigh = High[numBars - 1] + tolerancePt, rangeLow = Low[numBars - 1] - tolerancePt;\n",
    "# int zoneStart = numBars - 1, zoneEnd = 0, zoneSize = 0, zonesCounter = 0;\n",
    "\n",
    "# ArrayFree(zones);\n",
    "\n",
    "# // Iterate through all bars, beginning at the very first bar of the chart\n",
    "# for (int i = numBars - 2; i >= 0; i--)\n",
    "# {\n",
    "#    zoneSize = zoneStart - i;\n",
    "#    zoneEnd = i;\n",
    "\n",
    "#    // Check if a bar opened or closed above range high or range low\n",
    "#    if (Open[i] > rangeHigh || Open[i] < rangeLow || Close[i] > rangeHigh || Close[i] < rangeLow)\n",
    "#    {\n",
    "#       // Check if number of bars in zone is bigger or equal the required width\n",
    "#       if (zoneSize >= Min_Zone_Width)\n",
    "#       {\n",
    "#          // On first pass, add up the height of all zones found\n",
    "#          if (pass == 1)\n",
    "#          {\n",
    "#             avgZoneHeight += MathAbs(rangeHigh - rangeLow);\n",
    "#          }\n",
    "      \n",
    "#          // On second pass, add the zone to a list\n",
    "#          if (pass == 2)\n",
    "#             AddZone(zones, zoneStart, zoneEnd + 1, rangeLow, rangeHigh);\n",
    "      \n",
    "#          zonesCounter++;\n",
    "#       }\n",
    "\n",
    "#       hasBrokenRange = true;\n",
    "#       zoneStart = i;\n",
    "#       rangeHigh = High[i] + tolerancePt;\n",
    "#       rangeLow = Low[i] - tolerancePt;\n",
    "\n",
    "#       // Pass 2: If bar height is bigger than the expected average zone height, skip this bar\n",
    "#       if (pass == 2 && MathAbs(High[i] - Low[i]) >= avgZoneHeight)\n",
    "#       {\n",
    "#          zoneStart = -1;\n",
    "#          rangeHigh = 0;\n",
    "#          rangeLow = 0;\n",
    "#          continue;\n",
    "#       }\n",
    "#    }\n",
    "#    else\n",
    "#       hasBrokenRange = false;\n",
    "# }\n",
    "\n",
    "# // After first pass, calculate the average zone height\n",
    "# // and weight it a bit more to filter out big movements\n",
    "# if (pass == 1)\n",
    "      #    avgZoneHeight /= zonesCounter * Average_Weight;"
   ]
  }
 ],
 "metadata": {
  "interpreter": {
   "hash": "9b7a63b580c172c7da8da4dbbebee610e4d353e01ea1f4976b3b5103b2ec0dfd"
  },
  "kernelspec": {
   "display_name": "Python 3.8.8 64-bit ('base': conda)",
   "language": "python",
   "name": "python3"
  },
  "language_info": {
   "codemirror_mode": {
    "name": "ipython",
    "version": 3
   },
   "file_extension": ".py",
   "mimetype": "text/x-python",
   "name": "python",
   "nbconvert_exporter": "python",
   "pygments_lexer": "ipython3",
   "version": "3.8.5"
  },
  "orig_nbformat": 4
 },
 "nbformat": 4,
 "nbformat_minor": 2
}
