{
 "cells": [
  {
   "cell_type": "code",
   "execution_count": 1,
   "metadata": {},
   "outputs": [],
   "source": [
    "MERCHAINDISE = 'DOTUSDT'\n",
    "DAYS = 10\n",
    "\n",
    "# format = YYYY-MM-DD\n",
    "START_DATE = '2022-4-1'\n",
    "END_DATE = '2022-4-6'\n",
    "\n",
    "DATE_FORMAT = \"%Y-%m-%d\""
   ]
  },
  {
   "cell_type": "code",
   "execution_count": 2,
   "metadata": {},
   "outputs": [
    {
     "data": {
      "application/vnd.plotly.v1+json": {
       "config": {
        "plotlyServerURL": "https://plot.ly"
       },
       "data": [
        {
         "close": [
          22.92,
          22.93,
          22.5,
          22.21,
          22.33,
          22.33,
          22.28,
          22.26,
          22.31,
          22.15,
          22.25,
          22.09,
          21.78,
          21.24,
          21.44,
          21.47,
          21.49,
          21.59,
          21.64,
          21.71,
          21.51,
          21.52,
          21.41,
          21.15,
          20.93,
          20.92,
          20.47,
          20.6,
          20.33,
          20
         ],
         "high": [
          22.92,
          23.12,
          22.95,
          22.49,
          22.37,
          22.38,
          22.39,
          22.38,
          22.33,
          22.35,
          22.25,
          22.28,
          22.13,
          21.82,
          21.48,
          21.55,
          21.53,
          21.59,
          21.73,
          21.72,
          21.75,
          21.57,
          21.56,
          21.49,
          21.19,
          21.08,
          21.14,
          20.78,
          20.64,
          20.39
         ],
         "low": [
          22.79,
          22.8,
          22.42,
          22.1,
          22.15,
          22.09,
          22.22,
          22.24,
          22.02,
          22.07,
          22.07,
          22.03,
          21.68,
          20.86,
          21.21,
          21.4,
          21.32,
          21.36,
          21.58,
          21.54,
          21.47,
          21.44,
          21.31,
          21.14,
          20.82,
          20.86,
          20.46,
          20.18,
          20.05,
          19.8
         ],
         "open": [
          22.88,
          22.92,
          22.93,
          22.49,
          22.21,
          22.33,
          22.34,
          22.28,
          22.26,
          22.31,
          22.14,
          22.25,
          22.09,
          21.78,
          21.23,
          21.44,
          21.47,
          21.49,
          21.59,
          21.64,
          21.71,
          21.51,
          21.53,
          21.42,
          21.16,
          20.93,
          20.92,
          20.46,
          20.6,
          20.32
         ],
         "type": "candlestick",
         "x": [
          0,
          0.5,
          1,
          1.5,
          2,
          2.5,
          3,
          3.5,
          4,
          4.5,
          5,
          5.5,
          6,
          6.5,
          7,
          7.5,
          8,
          8.5,
          9,
          9.5,
          10,
          10.5,
          11,
          11.5,
          12,
          12.5,
          13,
          13.5,
          14,
          14.5
         ]
        }
       ],
       "layout": {
        "shapes": [
         {
          "fillcolor": "orange",
          "layer": "below",
          "opacity": 0.35,
          "type": "rect",
          "x0": 8,
          "x1": 10,
          "xref": "x",
          "y0": 21.45,
          "y1": 21.77,
          "yref": "y"
         },
         {
          "fillcolor": "orange",
          "layer": "below",
          "opacity": 0.35,
          "type": "rect",
          "x0": 2,
          "x1": 4.5,
          "xref": "x",
          "y0": 22.05,
          "y1": 22.37,
          "yref": "y"
         }
        ],
        "template": {
         "data": {
          "bar": [
           {
            "error_x": {
             "color": "#2a3f5f"
            },
            "error_y": {
             "color": "#2a3f5f"
            },
            "marker": {
             "line": {
              "color": "#E5ECF6",
              "width": 0.5
             },
             "pattern": {
              "fillmode": "overlay",
              "size": 10,
              "solidity": 0.2
             }
            },
            "type": "bar"
           }
          ],
          "barpolar": [
           {
            "marker": {
             "line": {
              "color": "#E5ECF6",
              "width": 0.5
             },
             "pattern": {
              "fillmode": "overlay",
              "size": 10,
              "solidity": 0.2
             }
            },
            "type": "barpolar"
           }
          ],
          "carpet": [
           {
            "aaxis": {
             "endlinecolor": "#2a3f5f",
             "gridcolor": "white",
             "linecolor": "white",
             "minorgridcolor": "white",
             "startlinecolor": "#2a3f5f"
            },
            "baxis": {
             "endlinecolor": "#2a3f5f",
             "gridcolor": "white",
             "linecolor": "white",
             "minorgridcolor": "white",
             "startlinecolor": "#2a3f5f"
            },
            "type": "carpet"
           }
          ],
          "choropleth": [
           {
            "colorbar": {
             "outlinewidth": 0,
             "ticks": ""
            },
            "type": "choropleth"
           }
          ],
          "contour": [
           {
            "colorbar": {
             "outlinewidth": 0,
             "ticks": ""
            },
            "colorscale": [
             [
              0,
              "#0d0887"
             ],
             [
              0.1111111111111111,
              "#46039f"
             ],
             [
              0.2222222222222222,
              "#7201a8"
             ],
             [
              0.3333333333333333,
              "#9c179e"
             ],
             [
              0.4444444444444444,
              "#bd3786"
             ],
             [
              0.5555555555555556,
              "#d8576b"
             ],
             [
              0.6666666666666666,
              "#ed7953"
             ],
             [
              0.7777777777777778,
              "#fb9f3a"
             ],
             [
              0.8888888888888888,
              "#fdca26"
             ],
             [
              1,
              "#f0f921"
             ]
            ],
            "type": "contour"
           }
          ],
          "contourcarpet": [
           {
            "colorbar": {
             "outlinewidth": 0,
             "ticks": ""
            },
            "type": "contourcarpet"
           }
          ],
          "heatmap": [
           {
            "colorbar": {
             "outlinewidth": 0,
             "ticks": ""
            },
            "colorscale": [
             [
              0,
              "#0d0887"
             ],
             [
              0.1111111111111111,
              "#46039f"
             ],
             [
              0.2222222222222222,
              "#7201a8"
             ],
             [
              0.3333333333333333,
              "#9c179e"
             ],
             [
              0.4444444444444444,
              "#bd3786"
             ],
             [
              0.5555555555555556,
              "#d8576b"
             ],
             [
              0.6666666666666666,
              "#ed7953"
             ],
             [
              0.7777777777777778,
              "#fb9f3a"
             ],
             [
              0.8888888888888888,
              "#fdca26"
             ],
             [
              1,
              "#f0f921"
             ]
            ],
            "type": "heatmap"
           }
          ],
          "heatmapgl": [
           {
            "colorbar": {
             "outlinewidth": 0,
             "ticks": ""
            },
            "colorscale": [
             [
              0,
              "#0d0887"
             ],
             [
              0.1111111111111111,
              "#46039f"
             ],
             [
              0.2222222222222222,
              "#7201a8"
             ],
             [
              0.3333333333333333,
              "#9c179e"
             ],
             [
              0.4444444444444444,
              "#bd3786"
             ],
             [
              0.5555555555555556,
              "#d8576b"
             ],
             [
              0.6666666666666666,
              "#ed7953"
             ],
             [
              0.7777777777777778,
              "#fb9f3a"
             ],
             [
              0.8888888888888888,
              "#fdca26"
             ],
             [
              1,
              "#f0f921"
             ]
            ],
            "type": "heatmapgl"
           }
          ],
          "histogram": [
           {
            "marker": {
             "pattern": {
              "fillmode": "overlay",
              "size": 10,
              "solidity": 0.2
             }
            },
            "type": "histogram"
           }
          ],
          "histogram2d": [
           {
            "colorbar": {
             "outlinewidth": 0,
             "ticks": ""
            },
            "colorscale": [
             [
              0,
              "#0d0887"
             ],
             [
              0.1111111111111111,
              "#46039f"
             ],
             [
              0.2222222222222222,
              "#7201a8"
             ],
             [
              0.3333333333333333,
              "#9c179e"
             ],
             [
              0.4444444444444444,
              "#bd3786"
             ],
             [
              0.5555555555555556,
              "#d8576b"
             ],
             [
              0.6666666666666666,
              "#ed7953"
             ],
             [
              0.7777777777777778,
              "#fb9f3a"
             ],
             [
              0.8888888888888888,
              "#fdca26"
             ],
             [
              1,
              "#f0f921"
             ]
            ],
            "type": "histogram2d"
           }
          ],
          "histogram2dcontour": [
           {
            "colorbar": {
             "outlinewidth": 0,
             "ticks": ""
            },
            "colorscale": [
             [
              0,
              "#0d0887"
             ],
             [
              0.1111111111111111,
              "#46039f"
             ],
             [
              0.2222222222222222,
              "#7201a8"
             ],
             [
              0.3333333333333333,
              "#9c179e"
             ],
             [
              0.4444444444444444,
              "#bd3786"
             ],
             [
              0.5555555555555556,
              "#d8576b"
             ],
             [
              0.6666666666666666,
              "#ed7953"
             ],
             [
              0.7777777777777778,
              "#fb9f3a"
             ],
             [
              0.8888888888888888,
              "#fdca26"
             ],
             [
              1,
              "#f0f921"
             ]
            ],
            "type": "histogram2dcontour"
           }
          ],
          "mesh3d": [
           {
            "colorbar": {
             "outlinewidth": 0,
             "ticks": ""
            },
            "type": "mesh3d"
           }
          ],
          "parcoords": [
           {
            "line": {
             "colorbar": {
              "outlinewidth": 0,
              "ticks": ""
             }
            },
            "type": "parcoords"
           }
          ],
          "pie": [
           {
            "automargin": true,
            "type": "pie"
           }
          ],
          "scatter": [
           {
            "marker": {
             "colorbar": {
              "outlinewidth": 0,
              "ticks": ""
             }
            },
            "type": "scatter"
           }
          ],
          "scatter3d": [
           {
            "line": {
             "colorbar": {
              "outlinewidth": 0,
              "ticks": ""
             }
            },
            "marker": {
             "colorbar": {
              "outlinewidth": 0,
              "ticks": ""
             }
            },
            "type": "scatter3d"
           }
          ],
          "scattercarpet": [
           {
            "marker": {
             "colorbar": {
              "outlinewidth": 0,
              "ticks": ""
             }
            },
            "type": "scattercarpet"
           }
          ],
          "scattergeo": [
           {
            "marker": {
             "colorbar": {
              "outlinewidth": 0,
              "ticks": ""
             }
            },
            "type": "scattergeo"
           }
          ],
          "scattergl": [
           {
            "marker": {
             "colorbar": {
              "outlinewidth": 0,
              "ticks": ""
             }
            },
            "type": "scattergl"
           }
          ],
          "scattermapbox": [
           {
            "marker": {
             "colorbar": {
              "outlinewidth": 0,
              "ticks": ""
             }
            },
            "type": "scattermapbox"
           }
          ],
          "scatterpolar": [
           {
            "marker": {
             "colorbar": {
              "outlinewidth": 0,
              "ticks": ""
             }
            },
            "type": "scatterpolar"
           }
          ],
          "scatterpolargl": [
           {
            "marker": {
             "colorbar": {
              "outlinewidth": 0,
              "ticks": ""
             }
            },
            "type": "scatterpolargl"
           }
          ],
          "scatterternary": [
           {
            "marker": {
             "colorbar": {
              "outlinewidth": 0,
              "ticks": ""
             }
            },
            "type": "scatterternary"
           }
          ],
          "surface": [
           {
            "colorbar": {
             "outlinewidth": 0,
             "ticks": ""
            },
            "colorscale": [
             [
              0,
              "#0d0887"
             ],
             [
              0.1111111111111111,
              "#46039f"
             ],
             [
              0.2222222222222222,
              "#7201a8"
             ],
             [
              0.3333333333333333,
              "#9c179e"
             ],
             [
              0.4444444444444444,
              "#bd3786"
             ],
             [
              0.5555555555555556,
              "#d8576b"
             ],
             [
              0.6666666666666666,
              "#ed7953"
             ],
             [
              0.7777777777777778,
              "#fb9f3a"
             ],
             [
              0.8888888888888888,
              "#fdca26"
             ],
             [
              1,
              "#f0f921"
             ]
            ],
            "type": "surface"
           }
          ],
          "table": [
           {
            "cells": {
             "fill": {
              "color": "#EBF0F8"
             },
             "line": {
              "color": "white"
             }
            },
            "header": {
             "fill": {
              "color": "#C8D4E3"
             },
             "line": {
              "color": "white"
             }
            },
            "type": "table"
           }
          ]
         },
         "layout": {
          "annotationdefaults": {
           "arrowcolor": "#2a3f5f",
           "arrowhead": 0,
           "arrowwidth": 1
          },
          "autotypenumbers": "strict",
          "coloraxis": {
           "colorbar": {
            "outlinewidth": 0,
            "ticks": ""
           }
          },
          "colorscale": {
           "diverging": [
            [
             0,
             "#8e0152"
            ],
            [
             0.1,
             "#c51b7d"
            ],
            [
             0.2,
             "#de77ae"
            ],
            [
             0.3,
             "#f1b6da"
            ],
            [
             0.4,
             "#fde0ef"
            ],
            [
             0.5,
             "#f7f7f7"
            ],
            [
             0.6,
             "#e6f5d0"
            ],
            [
             0.7,
             "#b8e186"
            ],
            [
             0.8,
             "#7fbc41"
            ],
            [
             0.9,
             "#4d9221"
            ],
            [
             1,
             "#276419"
            ]
           ],
           "sequential": [
            [
             0,
             "#0d0887"
            ],
            [
             0.1111111111111111,
             "#46039f"
            ],
            [
             0.2222222222222222,
             "#7201a8"
            ],
            [
             0.3333333333333333,
             "#9c179e"
            ],
            [
             0.4444444444444444,
             "#bd3786"
            ],
            [
             0.5555555555555556,
             "#d8576b"
            ],
            [
             0.6666666666666666,
             "#ed7953"
            ],
            [
             0.7777777777777778,
             "#fb9f3a"
            ],
            [
             0.8888888888888888,
             "#fdca26"
            ],
            [
             1,
             "#f0f921"
            ]
           ],
           "sequentialminus": [
            [
             0,
             "#0d0887"
            ],
            [
             0.1111111111111111,
             "#46039f"
            ],
            [
             0.2222222222222222,
             "#7201a8"
            ],
            [
             0.3333333333333333,
             "#9c179e"
            ],
            [
             0.4444444444444444,
             "#bd3786"
            ],
            [
             0.5555555555555556,
             "#d8576b"
            ],
            [
             0.6666666666666666,
             "#ed7953"
            ],
            [
             0.7777777777777778,
             "#fb9f3a"
            ],
            [
             0.8888888888888888,
             "#fdca26"
            ],
            [
             1,
             "#f0f921"
            ]
           ]
          },
          "colorway": [
           "#636efa",
           "#EF553B",
           "#00cc96",
           "#ab63fa",
           "#FFA15A",
           "#19d3f3",
           "#FF6692",
           "#B6E880",
           "#FF97FF",
           "#FECB52"
          ],
          "font": {
           "color": "#2a3f5f"
          },
          "geo": {
           "bgcolor": "white",
           "lakecolor": "white",
           "landcolor": "#E5ECF6",
           "showlakes": true,
           "showland": true,
           "subunitcolor": "white"
          },
          "hoverlabel": {
           "align": "left"
          },
          "hovermode": "closest",
          "mapbox": {
           "style": "light"
          },
          "paper_bgcolor": "white",
          "plot_bgcolor": "#E5ECF6",
          "polar": {
           "angularaxis": {
            "gridcolor": "white",
            "linecolor": "white",
            "ticks": ""
           },
           "bgcolor": "#E5ECF6",
           "radialaxis": {
            "gridcolor": "white",
            "linecolor": "white",
            "ticks": ""
           }
          },
          "scene": {
           "xaxis": {
            "backgroundcolor": "#E5ECF6",
            "gridcolor": "white",
            "gridwidth": 2,
            "linecolor": "white",
            "showbackground": true,
            "ticks": "",
            "zerolinecolor": "white"
           },
           "yaxis": {
            "backgroundcolor": "#E5ECF6",
            "gridcolor": "white",
            "gridwidth": 2,
            "linecolor": "white",
            "showbackground": true,
            "ticks": "",
            "zerolinecolor": "white"
           },
           "zaxis": {
            "backgroundcolor": "#E5ECF6",
            "gridcolor": "white",
            "gridwidth": 2,
            "linecolor": "white",
            "showbackground": true,
            "ticks": "",
            "zerolinecolor": "white"
           }
          },
          "shapedefaults": {
           "line": {
            "color": "#2a3f5f"
           }
          },
          "ternary": {
           "aaxis": {
            "gridcolor": "white",
            "linecolor": "white",
            "ticks": ""
           },
           "baxis": {
            "gridcolor": "white",
            "linecolor": "white",
            "ticks": ""
           },
           "bgcolor": "#E5ECF6",
           "caxis": {
            "gridcolor": "white",
            "linecolor": "white",
            "ticks": ""
           }
          },
          "title": {
           "x": 0.05
          },
          "xaxis": {
           "automargin": true,
           "gridcolor": "white",
           "linecolor": "white",
           "ticks": "",
           "title": {
            "standoff": 15
           },
           "zerolinecolor": "white",
           "zerolinewidth": 2
          },
          "yaxis": {
           "automargin": true,
           "gridcolor": "white",
           "linecolor": "white",
           "ticks": "",
           "title": {
            "standoff": 15
           },
           "zerolinecolor": "white",
           "zerolinewidth": 2
          }
         }
        },
        "xaxis": {
         "rangeslider": {
          "visible": false
         },
         "ticktext": [
          "2022-04-05 18",
          "2022-04-05 19",
          "2022-04-05 20",
          "2022-04-05 21",
          "2022-04-05 22",
          "2022-04-05 23",
          "2022-04-06 00",
          "2022-04-06 01",
          "2022-04-06 02",
          "2022-04-06 03",
          "2022-04-06 04",
          "2022-04-06 05",
          "2022-04-06 06",
          "2022-04-06 07",
          "2022-04-06 08",
          "2022-04-06 09",
          "2022-04-06 10",
          "2022-04-06 11",
          "2022-04-06 12",
          "2022-04-06 13",
          "2022-04-06 14",
          "2022-04-06 15",
          "2022-04-06 16",
          "2022-04-06 17",
          "2022-04-06 18",
          "2022-04-06 19",
          "2022-04-06 20",
          "2022-04-06 21",
          "2022-04-06 22",
          "2022-04-06 23"
         ],
         "tickvals": [
          0,
          0.5,
          1,
          1.5,
          2,
          2.5,
          3,
          3.5,
          4,
          4.5,
          5,
          5.5,
          6,
          6.5,
          7,
          7.5,
          8,
          8.5,
          9,
          9.5,
          10,
          10.5,
          11,
          11.5,
          12,
          12.5,
          13,
          13.5,
          14,
          14.5
         ]
        }
       }
      }
     },
     "metadata": {},
     "output_type": "display_data"
    }
   ],
   "source": [
    "from myenv.models.candlestick import Candlestick\n",
    "from myenv.models.merchandise_rate import MerchandiseRate\n",
    "from apps.helpers.draw_chart import draw_candlestick, draw_candlestick2\n",
    "from apps.services.ochl_dataframe import add_hour_column, add_return_column, add_average_oc_column, add_rolling_average_oc_column\n",
    "import matplotlib.pyplot as plt\n",
    "import numpy as np\n",
    "\n",
    "%matplotlib inline\n",
    "\n",
    "merchandise_rate = MerchandiseRate()\n",
    "merchandise_rate_id = merchandise_rate.find_by_slug(MERCHAINDISE)\n",
    "candlestick = Candlestick(merchandise_rate_id, 'hour', 30, \"DESC\", start_date=START_DATE, end_date=END_DATE)\n",
    "\n",
    "data_prices = candlestick.to_df()\n",
    "\n",
    "data_prices = add_hour_column(data_prices)\n",
    "data_prices = add_return_column(data_prices)\n",
    "data_prices = add_average_oc_column(data_prices)\n",
    "data_prices = add_rolling_average_oc_column(data_prices)\n",
    "\n",
    "draw_candlestick2(data_prices).show()\n",
    "\n"
   ]
  },
  {
   "cell_type": "code",
   "execution_count": 3,
   "metadata": {},
   "outputs": [
    {
     "name": "stdout",
     "output_type": "stream",
     "text": [
      "[{'start': 26, 'end': 18, 'low': 22.080000000000002, 'high': 22.509999999999998}, {'start': 15, 'end': 13, 'low': 21.19, 'high': 21.5}]\n"
     ]
    }
   ],
   "source": [
    "Average_Weight = 1.0\n",
    "Min_Zone_Width = 3\n",
    "Tolerance = 20\n",
    "Show_N_Last_Zones = 2\n",
    "Num_Bars = 500\n",
    "Start = 0\n",
    "End = 0\n",
    "Low = 0\n",
    "High = 0\n",
    "\n",
    "avgZoneHeight = 0\n",
    "tolerancePt = Tolerance*0.001\n",
    "\n",
    "numBars = 30\n",
    "hasBrokenRange = False\n",
    "zoneStart = 29\n",
    "zoneEnd = 0\n",
    "zoneSize = 0\n",
    "zonesCounter = 0\n",
    "zones = []\n",
    "\n",
    "rangeHigh = data_prices.iloc[numBars - 1].high + tolerancePt\n",
    "rangeLow = data_prices.iloc[numBars - 1].low - tolerancePt\n",
    "\n",
    "for i in range(numBars - 2,-1,-1):\n",
    "      zoneSize = zoneStart - i\n",
    "      zoneEnd = i\n",
    "      if data_prices.iloc[i].open > rangeHigh or data_prices.iloc[i].open < rangeLow or data_prices.iloc[i].close > rangeHigh or data_prices.iloc[i].close < rangeLow:\n",
    "            if zoneSize >= Min_Zone_Width:\n",
    "                  avgZoneHeight += abs(rangeHigh - rangeLow)\n",
    "\n",
    "                  zonesCounter = zonesCounter + 1\n",
    "\n",
    "            hasBrokenRange = True\n",
    "            zoneStart = i\n",
    "            rangeHigh = data_prices.iloc[i].high + tolerancePt;\n",
    "            rangeLow = data_prices.iloc[i].low - tolerancePt;\n",
    "      else:\n",
    "            hasBrokenRange = False\n",
    "\n",
    "avgZoneHeight /= zonesCounter * Average_Weight\n",
    "\n",
    "for i in range(numBars - 2,-1,-1):\n",
    "      zoneSize = zoneStart - i\n",
    "      zoneEnd = i\n",
    "      if data_prices.iloc[i].open > rangeHigh or data_prices.iloc[i].open < rangeLow or data_prices.iloc[i].close > rangeHigh or data_prices.iloc[i].close < rangeLow:\n",
    "            if zoneSize >= Min_Zone_Width:\n",
    "                  zones.append({'start': zoneStart, 'end': zoneEnd + 1, 'low': rangeLow, 'high': rangeHigh})\n",
    "\n",
    "                  zonesCounter = zonesCounter + 1\n",
    "\n",
    "            hasBrokenRange = True\n",
    "            zoneStart = i\n",
    "            rangeHigh = data_prices.iloc[i].high + tolerancePt;\n",
    "            rangeLow = data_prices.iloc[i].low - tolerancePt;\n",
    "\n",
    "            if abs(data_prices.iloc[i].high - data_prices.iloc[i].low) >= avgZoneHeight:\n",
    "                  zoneStart = -1\n",
    "                  rangeHigh = 0\n",
    "                  rangeLow = 0\n",
    "                  continue\n",
    "\n",
    "      else:\n",
    "            hasBrokenRange = False\n",
    "\n",
    "if hasBrokenRange == False and zoneSize >= Min_Zone_Width:\n",
    "      zones.append({'start': zoneStart, 'end': 0, 'low': rangeLow, 'high': rangeHigh})\n",
    "\n",
    "print(zones)"
   ]
  },
  {
   "cell_type": "code",
   "execution_count": null,
   "metadata": {},
   "outputs": [],
   "source": [
    "plt.figure(figsize=(20,10))\n",
    "plt.plot(data_prices['rolling_average_oc'], label='rolling_avg')\n",
    "plt.figure(figsize=(6, 6))\n",
    "\n",
    "plt.legend()\n",
    "\n",
    "plt.show()"
   ]
  },
  {
   "cell_type": "code",
   "execution_count": null,
   "metadata": {},
   "outputs": [],
   "source": [
    "data_prices_0_6 = data_prices[data_prices['hour'] < 7]\n",
    "\n",
    "plt.figure(figsize=(20,10))\n",
    "plt.plot(data_prices_0_6['rolling_average_oc'], label='rolling_avg')\n",
    "plt.figure(figsize=(6, 6))\n",
    "\n",
    "plt.legend()\n",
    "\n",
    "plt.show()"
   ]
  },
  {
   "cell_type": "code",
   "execution_count": null,
   "metadata": {},
   "outputs": [],
   "source": [
    "Average_Weight = 1.0\n",
    "Min_Zone_Width = 3\n",
    "Tolerance = 20\n",
    "Show_N_Last_Zones = 2\n",
    "Num_Bars = 500\n",
    "Start = 0\n",
    "End = 0\n",
    "Low = 0\n",
    "High = 0\n",
    "\n",
    "avgZoneHeight = 0\n",
    "tolerancePt = Tolerance*0.01\n",
    "\n",
    "numBars = 30\n",
    "hasBrokenRange = False\n",
    "zoneStart = 29\n",
    "zoneEnd = 0\n",
    "zoneSize = 0\n",
    "zonesCounter = 0\n",
    "zones = []\n",
    "\n",
    "rangeHigh = data_prices.iloc[numBars - 1].high + tolerancePt\n",
    "rangeLow = data_prices.iloc[numBars - 1].low - tolerancePt\n",
    "\n",
    "for i in range(numBars - 2,-1,-1):\n",
    "      zoneSize = zoneStart - i\n",
    "      zoneEnd = i\n",
    "      if data_prices.iloc[i].open > rangeHigh or data_prices.iloc[i].open < rangeLow or data_prices.iloc[i].close > rangeHigh or data_prices.iloc[i].close < rangeLow:\n",
    "            if zoneSize >= Min_Zone_Width:\n",
    "                  avgZoneHeight += abs(rangeHigh - rangeLow)\n",
    "\n",
    "                  zonesCounter = zonesCounter + 1\n",
    "\n",
    "            hasBrokenRange = True\n",
    "            zoneStart = i\n",
    "            rangeHigh = data_prices.iloc[i].high + tolerancePt;\n",
    "            rangeLow = data_prices.iloc[i].low - tolerancePt;\n",
    "      else:\n",
    "            hasBrokenRange = False\n",
    "\n",
    "avgZoneHeight /= zonesCounter * Average_Weight\n",
    "\n",
    "for i in range(numBars - 2,-1,-1):\n",
    "      zoneSize = zoneStart - i\n",
    "      zoneEnd = i\n",
    "      if data_prices.iloc[i].open > rangeHigh or data_prices.iloc[i].open < rangeLow or data_prices.iloc[i].close > rangeHigh or data_prices.iloc[i].close < rangeLow:\n",
    "            if zoneSize >= Min_Zone_Width:\n",
    "                  zones.append({'start': zoneStart, 'end': zoneEnd + 1, 'low': rangeLow, 'high': rangeHigh})\n",
    "\n",
    "                  zonesCounter = zonesCounter + 1\n",
    "\n",
    "            hasBrokenRange = True\n",
    "            zoneStart = i\n",
    "            rangeHigh = data_prices.iloc[i].high + tolerancePt;\n",
    "            rangeLow = data_prices.iloc[i].low - tolerancePt;\n",
    "\n",
    "            if abs(data_prices.iloc[i].high - data_prices.iloc[i].low) >= avgZoneHeight:\n",
    "                  zoneStart = -1\n",
    "                  rangeHigh = 0\n",
    "                  rangeLow = 0\n",
    "                  continue\n",
    "\n",
    "      else:\n",
    "            hasBrokenRange = False\n",
    "\n",
    "if hasBrokenRange == False and zoneSize >= Min_Zone_Width:\n",
    "      zones.append({'start': zoneStart, 'end': 0, 'low': rangeLow, 'high': rangeHigh})\n",
    "\n",
    "print(zones)\n",
    "\n",
    "\n",
    "# data_prices.iloc[[28]]\n",
    "\n",
    "# double rangeHigh = High[numBars - 1] + tolerancePt, rangeLow = Low[numBars - 1] - tolerancePt;\n",
    "# int zoneStart = numBars - 1, zoneEnd = 0, zoneSize = 0, zonesCounter = 0;\n",
    "\n",
    "# ArrayFree(zones);\n",
    "\n",
    "# // Iterate through all bars, beginning at the very first bar of the chart\n",
    "# for (int i = numBars - 2; i >= 0; i--)\n",
    "# {\n",
    "#    zoneSize = zoneStart - i;\n",
    "#    zoneEnd = i;\n",
    "\n",
    "#    // Check if a bar opened or closed above range high or range low\n",
    "#    if (Open[i] > rangeHigh || Open[i] < rangeLow || Close[i] > rangeHigh || Close[i] < rangeLow)\n",
    "#    {\n",
    "#       // Check if number of bars in zone is bigger or equal the required width\n",
    "#       if (zoneSize >= Min_Zone_Width)\n",
    "#       {\n",
    "#          // On first pass, add up the height of all zones found\n",
    "#          if (pass == 1)\n",
    "#          {\n",
    "#             avgZoneHeight += MathAbs(rangeHigh - rangeLow);\n",
    "#          }\n",
    "      \n",
    "#          // On second pass, add the zone to a list\n",
    "#          if (pass == 2)\n",
    "#             AddZone(zones, zoneStart, zoneEnd + 1, rangeLow, rangeHigh);\n",
    "      \n",
    "#          zonesCounter++;\n",
    "#       }\n",
    "\n",
    "#       hasBrokenRange = true;\n",
    "#       zoneStart = i;\n",
    "#       rangeHigh = High[i] + tolerancePt;\n",
    "#       rangeLow = Low[i] - tolerancePt;\n",
    "\n",
    "#       // Pass 2: If bar height is bigger than the expected average zone height, skip this bar\n",
    "#       if (pass == 2 && MathAbs(High[i] - Low[i]) >= avgZoneHeight)\n",
    "#       {\n",
    "#          zoneStart = -1;\n",
    "#          rangeHigh = 0;\n",
    "#          rangeLow = 0;\n",
    "#          continue;\n",
    "#       }\n",
    "#    }\n",
    "#    else\n",
    "#       hasBrokenRange = false;\n",
    "# }\n",
    "\n",
    "# // After first pass, calculate the average zone height\n",
    "# // and weight it a bit more to filter out big movements\n",
    "# if (pass == 1)\n",
    "      #    avgZoneHeight /= zonesCounter * Average_Weight;"
   ]
  }
 ],
 "metadata": {
  "interpreter": {
   "hash": "9b7a63b580c172c7da8da4dbbebee610e4d353e01ea1f4976b3b5103b2ec0dfd"
  },
  "kernelspec": {
   "display_name": "Python 3.8.8 64-bit ('base': conda)",
   "language": "python",
   "name": "python3"
  },
  "language_info": {
   "codemirror_mode": {
    "name": "ipython",
    "version": 3
   },
   "file_extension": ".py",
   "mimetype": "text/x-python",
   "name": "python",
   "nbconvert_exporter": "python",
   "pygments_lexer": "ipython3",
   "version": "3.8.5"
  },
  "orig_nbformat": 4
 },
 "nbformat": 4,
 "nbformat_minor": 2
}
