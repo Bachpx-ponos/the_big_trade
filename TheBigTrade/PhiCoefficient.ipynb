{
 "cells": [
  {
   "cell_type": "code",
   "execution_count": 1,
   "metadata": {},
   "outputs": [],
   "source": [
    "MERCHAINDISE = 'LTCUSDT'\n",
    "DAYS = 30\n",
    "\n",
    "# format = YYYY-MM-DD\n",
    "START_DATE = '2021-10-2'\n",
    "END_DATE = '2021-12-7'\n",
    "\n",
    "DATE_FORMAT = \"%Y-%m-%d\"\n"
   ]
  },
  {
   "cell_type": "code",
   "execution_count": 5,
   "metadata": {},
   "outputs": [
    {
     "data": {
      "text/plain": [
       "['down',\n",
       " 'up',\n",
       " 'down',\n",
       " 'up',\n",
       " 'down',\n",
       " 'down',\n",
       " 'down',\n",
       " 'down',\n",
       " 'down',\n",
       " 'up',\n",
       " 'down',\n",
       " 'up',\n",
       " 'down',\n",
       " 'down',\n",
       " 'down',\n",
       " 'down',\n",
       " 'down',\n",
       " 'up',\n",
       " 'down',\n",
       " 'down',\n",
       " 'down',\n",
       " 'down',\n",
       " 'up',\n",
       " 'up',\n",
       " 'down',\n",
       " 'down',\n",
       " 'up',\n",
       " 'down',\n",
       " 'up',\n",
       " 'up']"
      ]
     },
     "execution_count": 5,
     "metadata": {},
     "output_type": "execute_result"
    }
   ],
   "source": [
    "from apps.models.candlestick import Candlestick\n",
    "from myenv.helpers.constants import HIGH_INDEX, LOW_INDEX, OPEN_INDEX, CLOSE_INDEX\n",
    "from myenv.models.merchandise_rate import MerchandiseRate\n",
    "from apps.helpers.utils import percentage_change, candlestick_type, type_continuous, diff_days, unique_list, candlestick_first_15m\n",
    "import matplotlib.pyplot as plt\n",
    "import numpy as np\n",
    "\n",
    "%matplotlib inline\n",
    "\n",
    "\n",
    "merchandise_rate = MerchandiseRate()\n",
    "merchandise_rate_id = merchandise_rate.find_by_slug(MERCHAINDISE)\n",
    "# candlestick = Candlestick(merchandise_rate_id, 'hour', 24*DAYS, \"DESC\")\n",
    "candlestick_hour = Candlestick(merchandise_rate_id, 'hour', 24*DAYS, \"DESC\")\n",
    "candlestick_minute = Candlestick(merchandise_rate_id, '15m', 24*DAYS*4, \"DESC\")\n",
    "\n",
    "data_price_in_hour = candlestick_hour.to_df()\n",
    "data_price_in_minute = candlestick_minute.to_df()\n",
    "\n",
    "data_price_in_hour['hour_return'] = percentage_change(data_price_in_hour,OPEN_INDEX, CLOSE_INDEX)\n",
    "data_price_in_hour['day'] = data_price_in_hour[['open']].apply(\n",
    "    lambda x: x.name.strftime(\"%Y-%m-%d\"), axis=1)\n",
    "data_price_in_hour['hour'] = data_price_in_hour[['open']].apply(\n",
    "    lambda x: x.name.hour, axis=1)\n",
    "data_price_in_hour['type'] = candlestick_type(data_price_in_hour)\n",
    "data_price_in_minute['type'] = candlestick_type(data_price_in_minute)\n",
    "\n",
    "data_price_in_hour['first_15m'] = candlestick_first_15m(data_price_in_hour, data_price_in_minute)\n"
   ]
  },
  {
   "cell_type": "code",
   "execution_count": 11,
   "metadata": {},
   "outputs": [
    {
     "name": "stdout",
     "output_type": "stream",
     "text": [
      "30\n",
      "30\n",
      "0.144\n"
     ]
    }
   ],
   "source": [
    "hour_type = data_price_in_hour[data_price_in_hour.hour == 20]['type'].to_list()\n",
    "min_type = data_price_in_hour[data_price_in_hour.hour == 20]['first_15m'].to_list()\n",
    "\n",
    "print(len(hour_type))\n",
    "print(len(min_type))\n",
    "\n",
    "from sklearn.metrics import matthews_corrcoef\n",
    "\n",
    "phi_coefficient = round(matthews_corrcoef(hour_type, min_type), 3)\n",
    "print(phi_coefficient)"
   ]
  },
  {
   "cell_type": "code",
   "execution_count": 2,
   "metadata": {},
   "outputs": [
    {
     "name": "stdout",
     "output_type": "stream",
     "text": [
      "> \u001b[0;32m/opt/anaconda3/lib/python3.8/site-packages/myenv/models/candlestick.py\u001b[0m(23)\u001b[0;36mto_df\u001b[0;34m()\u001b[0m\n",
      "\u001b[0;32m     21 \u001b[0;31m        \u001b[0msql_query\u001b[0m \u001b[0;34m=\u001b[0m \u001b[0;34m'SELECT * FROM DailyTradingJournal_development.candlesticks WHERE '\u001b[0m\u001b[0;34m\u001b[0m\u001b[0;34m\u001b[0m\u001b[0m\n",
      "\u001b[0m\u001b[0;32m     22 \u001b[0;31m        \u001b[0;32mimport\u001b[0m \u001b[0mpdb\u001b[0m\u001b[0;34m;\u001b[0m \u001b[0mpdb\u001b[0m\u001b[0;34m.\u001b[0m\u001b[0mset_trace\u001b[0m\u001b[0;34m(\u001b[0m\u001b[0;34m)\u001b[0m\u001b[0;34m\u001b[0m\u001b[0;34m\u001b[0m\u001b[0m\n",
      "\u001b[0m\u001b[0;32m---> 23 \u001b[0;31m        \u001b[0;32mif\u001b[0m \u001b[0mself\u001b[0m\u001b[0;34m.\u001b[0m\u001b[0mstart_date\u001b[0m \u001b[0;32mand\u001b[0m \u001b[0mself\u001b[0m\u001b[0;34m.\u001b[0m\u001b[0mend_date\u001b[0m\u001b[0;34m:\u001b[0m\u001b[0;34m\u001b[0m\u001b[0;34m\u001b[0m\u001b[0m\n",
      "\u001b[0m\u001b[0;32m     24 \u001b[0;31m            \u001b[0msql_query\u001b[0m \u001b[0;34m=\u001b[0m \u001b[0msql_query\u001b[0m \u001b[0;34m+\u001b[0m \u001b[0;34mf\"(date BETWEEN '{self.start_date} 17:00:00' AND '{self.end_date} 16:59:59') AND \"\u001b[0m\u001b[0;34m\u001b[0m\u001b[0;34m\u001b[0m\u001b[0m\n",
      "\u001b[0m\u001b[0;32m     25 \u001b[0;31m        \u001b[0;32mif\u001b[0m \u001b[0mself\u001b[0m\u001b[0;34m.\u001b[0m\u001b[0minterval\u001b[0m\u001b[0;34m:\u001b[0m\u001b[0;34m\u001b[0m\u001b[0;34m\u001b[0m\u001b[0m\n",
      "\u001b[0m\n",
      "*** NameError: name 'row' is not defined\n"
     ]
    },
    {
     "ename": "BdbQuit",
     "evalue": "",
     "output_type": "error",
     "traceback": [
      "\u001b[0;31m---------------------------------------------------------------------------\u001b[0m",
      "\u001b[0;31mBdbQuit\u001b[0m                                   Traceback (most recent call last)",
      "\u001b[0;32m/var/folders/fp/s6k7vdqs42s7qjyh8ylyfv840000gn/T/ipykernel_42674/844534514.py\u001b[0m in \u001b[0;36m<module>\u001b[0;34m\u001b[0m\n\u001b[1;32m     14\u001b[0m \u001b[0mcandlestick\u001b[0m \u001b[0;34m=\u001b[0m \u001b[0mCandlestick\u001b[0m\u001b[0;34m(\u001b[0m\u001b[0mmerchandise_rate_id\u001b[0m\u001b[0;34m,\u001b[0m \u001b[0;34m'hour'\u001b[0m\u001b[0;34m,\u001b[0m \u001b[0;36m24\u001b[0m\u001b[0;34m*\u001b[0m\u001b[0;36m30\u001b[0m\u001b[0;34m,\u001b[0m \u001b[0;34m\"DESC\"\u001b[0m\u001b[0;34m)\u001b[0m\u001b[0;34m\u001b[0m\u001b[0;34m\u001b[0m\u001b[0m\n\u001b[1;32m     15\u001b[0m \u001b[0;34m\u001b[0m\u001b[0m\n\u001b[0;32m---> 16\u001b[0;31m \u001b[0mdata_prices\u001b[0m \u001b[0;34m=\u001b[0m \u001b[0mcandlestick\u001b[0m\u001b[0;34m.\u001b[0m\u001b[0mto_df\u001b[0m\u001b[0;34m(\u001b[0m\u001b[0;34m)\u001b[0m\u001b[0;34m\u001b[0m\u001b[0;34m\u001b[0m\u001b[0m\n\u001b[0m\u001b[1;32m     17\u001b[0m \u001b[0;34m\u001b[0m\u001b[0m\n\u001b[1;32m     18\u001b[0m \u001b[0;34m\u001b[0m\u001b[0m\n",
      "\u001b[0;32m/opt/anaconda3/lib/python3.8/site-packages/myenv/models/candlestick.py\u001b[0m in \u001b[0;36mto_df\u001b[0;34m(self)\u001b[0m\n\u001b[1;32m     21\u001b[0m         \u001b[0msql_query\u001b[0m \u001b[0;34m=\u001b[0m \u001b[0;34m'SELECT * FROM DailyTradingJournal_development.candlesticks WHERE '\u001b[0m\u001b[0;34m\u001b[0m\u001b[0;34m\u001b[0m\u001b[0m\n\u001b[1;32m     22\u001b[0m         \u001b[0;32mimport\u001b[0m \u001b[0mpdb\u001b[0m\u001b[0;34m;\u001b[0m \u001b[0mpdb\u001b[0m\u001b[0;34m.\u001b[0m\u001b[0mset_trace\u001b[0m\u001b[0;34m(\u001b[0m\u001b[0;34m)\u001b[0m\u001b[0;34m\u001b[0m\u001b[0;34m\u001b[0m\u001b[0m\n\u001b[0;32m---> 23\u001b[0;31m         \u001b[0;32mif\u001b[0m \u001b[0mself\u001b[0m\u001b[0;34m.\u001b[0m\u001b[0mstart_date\u001b[0m \u001b[0;32mand\u001b[0m \u001b[0mself\u001b[0m\u001b[0;34m.\u001b[0m\u001b[0mend_date\u001b[0m\u001b[0;34m:\u001b[0m\u001b[0;34m\u001b[0m\u001b[0;34m\u001b[0m\u001b[0m\n\u001b[0m\u001b[1;32m     24\u001b[0m             \u001b[0msql_query\u001b[0m \u001b[0;34m=\u001b[0m \u001b[0msql_query\u001b[0m \u001b[0;34m+\u001b[0m \u001b[0;34mf\"(date BETWEEN '{self.start_date} 17:00:00' AND '{self.end_date} 16:59:59') AND \"\u001b[0m\u001b[0;34m\u001b[0m\u001b[0;34m\u001b[0m\u001b[0m\n\u001b[1;32m     25\u001b[0m         \u001b[0;32mif\u001b[0m \u001b[0mself\u001b[0m\u001b[0;34m.\u001b[0m\u001b[0minterval\u001b[0m\u001b[0;34m:\u001b[0m\u001b[0;34m\u001b[0m\u001b[0;34m\u001b[0m\u001b[0m\n",
      "\u001b[0;32m/opt/anaconda3/lib/python3.8/site-packages/myenv/models/candlestick.py\u001b[0m in \u001b[0;36mto_df\u001b[0;34m(self)\u001b[0m\n\u001b[1;32m     21\u001b[0m         \u001b[0msql_query\u001b[0m \u001b[0;34m=\u001b[0m \u001b[0;34m'SELECT * FROM DailyTradingJournal_development.candlesticks WHERE '\u001b[0m\u001b[0;34m\u001b[0m\u001b[0;34m\u001b[0m\u001b[0m\n\u001b[1;32m     22\u001b[0m         \u001b[0;32mimport\u001b[0m \u001b[0mpdb\u001b[0m\u001b[0;34m;\u001b[0m \u001b[0mpdb\u001b[0m\u001b[0;34m.\u001b[0m\u001b[0mset_trace\u001b[0m\u001b[0;34m(\u001b[0m\u001b[0;34m)\u001b[0m\u001b[0;34m\u001b[0m\u001b[0;34m\u001b[0m\u001b[0m\n\u001b[0;32m---> 23\u001b[0;31m         \u001b[0;32mif\u001b[0m \u001b[0mself\u001b[0m\u001b[0;34m.\u001b[0m\u001b[0mstart_date\u001b[0m \u001b[0;32mand\u001b[0m \u001b[0mself\u001b[0m\u001b[0;34m.\u001b[0m\u001b[0mend_date\u001b[0m\u001b[0;34m:\u001b[0m\u001b[0;34m\u001b[0m\u001b[0;34m\u001b[0m\u001b[0m\n\u001b[0m\u001b[1;32m     24\u001b[0m             \u001b[0msql_query\u001b[0m \u001b[0;34m=\u001b[0m \u001b[0msql_query\u001b[0m \u001b[0;34m+\u001b[0m \u001b[0;34mf\"(date BETWEEN '{self.start_date} 17:00:00' AND '{self.end_date} 16:59:59') AND \"\u001b[0m\u001b[0;34m\u001b[0m\u001b[0;34m\u001b[0m\u001b[0m\n\u001b[1;32m     25\u001b[0m         \u001b[0;32mif\u001b[0m \u001b[0mself\u001b[0m\u001b[0;34m.\u001b[0m\u001b[0minterval\u001b[0m\u001b[0;34m:\u001b[0m\u001b[0;34m\u001b[0m\u001b[0;34m\u001b[0m\u001b[0m\n",
      "\u001b[0;32m/opt/anaconda3/lib/python3.8/bdb.py\u001b[0m in \u001b[0;36mtrace_dispatch\u001b[0;34m(self, frame, event, arg)\u001b[0m\n\u001b[1;32m     86\u001b[0m             \u001b[0;32mreturn\u001b[0m \u001b[0;31m# None\u001b[0m\u001b[0;34m\u001b[0m\u001b[0;34m\u001b[0m\u001b[0m\n\u001b[1;32m     87\u001b[0m         \u001b[0;32mif\u001b[0m \u001b[0mevent\u001b[0m \u001b[0;34m==\u001b[0m \u001b[0;34m'line'\u001b[0m\u001b[0;34m:\u001b[0m\u001b[0;34m\u001b[0m\u001b[0;34m\u001b[0m\u001b[0m\n\u001b[0;32m---> 88\u001b[0;31m             \u001b[0;32mreturn\u001b[0m \u001b[0mself\u001b[0m\u001b[0;34m.\u001b[0m\u001b[0mdispatch_line\u001b[0m\u001b[0;34m(\u001b[0m\u001b[0mframe\u001b[0m\u001b[0;34m)\u001b[0m\u001b[0;34m\u001b[0m\u001b[0;34m\u001b[0m\u001b[0m\n\u001b[0m\u001b[1;32m     89\u001b[0m         \u001b[0;32mif\u001b[0m \u001b[0mevent\u001b[0m \u001b[0;34m==\u001b[0m \u001b[0;34m'call'\u001b[0m\u001b[0;34m:\u001b[0m\u001b[0;34m\u001b[0m\u001b[0;34m\u001b[0m\u001b[0m\n\u001b[1;32m     90\u001b[0m             \u001b[0;32mreturn\u001b[0m \u001b[0mself\u001b[0m\u001b[0;34m.\u001b[0m\u001b[0mdispatch_call\u001b[0m\u001b[0;34m(\u001b[0m\u001b[0mframe\u001b[0m\u001b[0;34m,\u001b[0m \u001b[0marg\u001b[0m\u001b[0;34m)\u001b[0m\u001b[0;34m\u001b[0m\u001b[0;34m\u001b[0m\u001b[0m\n",
      "\u001b[0;32m/opt/anaconda3/lib/python3.8/bdb.py\u001b[0m in \u001b[0;36mdispatch_line\u001b[0;34m(self, frame)\u001b[0m\n\u001b[1;32m    111\u001b[0m         \u001b[0;32mif\u001b[0m \u001b[0mself\u001b[0m\u001b[0;34m.\u001b[0m\u001b[0mstop_here\u001b[0m\u001b[0;34m(\u001b[0m\u001b[0mframe\u001b[0m\u001b[0;34m)\u001b[0m \u001b[0;32mor\u001b[0m \u001b[0mself\u001b[0m\u001b[0;34m.\u001b[0m\u001b[0mbreak_here\u001b[0m\u001b[0;34m(\u001b[0m\u001b[0mframe\u001b[0m\u001b[0;34m)\u001b[0m\u001b[0;34m:\u001b[0m\u001b[0;34m\u001b[0m\u001b[0;34m\u001b[0m\u001b[0m\n\u001b[1;32m    112\u001b[0m             \u001b[0mself\u001b[0m\u001b[0;34m.\u001b[0m\u001b[0muser_line\u001b[0m\u001b[0;34m(\u001b[0m\u001b[0mframe\u001b[0m\u001b[0;34m)\u001b[0m\u001b[0;34m\u001b[0m\u001b[0;34m\u001b[0m\u001b[0m\n\u001b[0;32m--> 113\u001b[0;31m             \u001b[0;32mif\u001b[0m \u001b[0mself\u001b[0m\u001b[0;34m.\u001b[0m\u001b[0mquitting\u001b[0m\u001b[0;34m:\u001b[0m \u001b[0;32mraise\u001b[0m \u001b[0mBdbQuit\u001b[0m\u001b[0;34m\u001b[0m\u001b[0;34m\u001b[0m\u001b[0m\n\u001b[0m\u001b[1;32m    114\u001b[0m         \u001b[0;32mreturn\u001b[0m \u001b[0mself\u001b[0m\u001b[0;34m.\u001b[0m\u001b[0mtrace_dispatch\u001b[0m\u001b[0;34m\u001b[0m\u001b[0;34m\u001b[0m\u001b[0m\n\u001b[1;32m    115\u001b[0m \u001b[0;34m\u001b[0m\u001b[0m\n",
      "\u001b[0;31mBdbQuit\u001b[0m: "
     ]
    }
   ],
   "source": [
    "from myenv.models.candlestick import Candlestick\n",
    "from myenv.helpers.constants import HIGH_INDEX, LOW_INDEX, OPEN_INDEX, CLOSE_INDEX\n",
    "from myenv.models.merchandise_rate import MerchandiseRate\n",
    "from myenv.helpers.utils import percentage_change, candlestick_type, type_continuous, diff_days, unique_list\n",
    "import matplotlib.pyplot as plt\n",
    "import numpy as np\n",
    "\n",
    "%matplotlib inline\n",
    "\n",
    "\n",
    "merchandise_rate = MerchandiseRate()\n",
    "merchandise_rate_id = merchandise_rate.find_by_slug(MERCHAINDISE)\n",
    "# candlestick = Candlestick(merchandise_rate_id, 'hour', 24*DAYS, \"DESC\")\n",
    "candlestick = Candlestick(merchandise_rate_id, 'hour', 24*30, \"DESC\")\n",
    "\n",
    "data_prices = candlestick.to_df()\n",
    "\n",
    "\n",
    "# data_prices['hour_return'] = percentage_change(data_prices, LOW_INDEX, HIGH_INDEX)\n",
    "# data_prices['hour_return'] = data_prices['close'].pct_change() * 100\n",
    "data_prices['hour_return'] = percentage_change(data_prices,OPEN_INDEX, CLOSE_INDEX)\n",
    "data_prices['day'] = data_prices[['open']].apply(\n",
    "    lambda x: x.name.strftime(\"%Y-%m-%d\"), axis=1)\n",
    "data_prices['hour'] = data_prices[['open']].apply(\n",
    "    lambda x: x.name.hour, axis=1)\n",
    "\n",
    "total = data_prices.iloc[:, 0].count()\n",
    "first_date = data_prices.iloc[0].name.date()\n",
    "last_date = data_prices.iloc[-1].name.date()\n",
    "\n",
    "data_prices['type'] = candlestick_type(data_prices)\n",
    "data_prices['type_continuous'] = type_continuous(data_prices)\n",
    "\n",
    "index = np.arange(24)\n",
    "bar_width = 0.35\n",
    "opacity = 0.8\n",
    "\n",
    "x = ()\n",
    "y = ()\n",
    "\n",
    "\n",
    "for i in np.arange(24):\n",
    "    data_prices_x = data_prices[data_prices['hour'] == i]\n",
    "\n",
    "    number_up = len(data_prices_x[data_prices_x['type'] == 'up'])\n",
    "    number_down = len(data_prices_x[data_prices_x['type'] == 'down'])\n",
    "\n",
    "    x = x + (number_up,)\n",
    "    y = y + (number_down,)\n",
    "\n",
    "print(data_prices)\n"
   ]
  },
  {
   "cell_type": "code",
   "execution_count": null,
   "metadata": {},
   "outputs": [],
   "source": [
    "data_price_1 = data_prices[(data_prices['hour'] == 1)]['type'].to_list()\n",
    "data_price_2 = data_prices[(data_prices['hour'] == 2)]['type'].to_list()\n",
    "data_price_3 = data_prices[(data_prices['hour'] == 3)]['type'].to_list()\n",
    "data_price_4 = data_prices[(data_prices['hour'] == 4)]['type'].to_list()\n",
    "data_price_5 = data_prices[(data_prices['hour'] == 5)]['type'].to_list()\n",
    "data_price_6 = data_prices[(data_prices['hour'] == 6)]['type'].to_list()\n",
    "data_price_7 = data_prices[(data_prices['hour'] == 7)]['type'].to_list()\n",
    "data_price_8 = data_prices[(data_prices['hour'] == 8)]['type'].to_list()\n",
    "data_price_9 = data_prices[(data_prices['hour'] == 9)]['type'].to_list()\n",
    "data_price_10 = data_prices[(data_prices['hour'] == 10)]['type'].to_list()\n",
    "data_price_11 = data_prices[(data_prices['hour'] == 11)]['type'].to_list()\n",
    "data_price_12 = data_prices[(data_prices['hour'] == 12)]['type'].to_list()\n",
    "data_price_13 = data_prices[(data_prices['hour'] == 13)]['type'].to_list()\n",
    "data_price_14 = data_prices[(data_prices['hour'] == 14)]['type'].to_list()\n",
    "data_price_15 = data_prices[(data_prices['hour'] == 15)]['type'].to_list()\n",
    "data_price_16 = data_prices[(data_prices['hour'] == 16)]['type'].to_list()\n",
    "data_price_17 = data_prices[(data_prices['hour'] == 17)]['type'].to_list()\n",
    "data_price_18 = data_prices[(data_prices['hour'] == 18)]['type'].to_list()\n",
    "data_price_19 = data_prices[(data_prices['hour'] == 19)]['type'].to_list()\n",
    "data_price_20 = data_prices[(data_prices['hour'] == 20)]['type'].to_list()\n",
    "data_price_21 = data_prices[(data_prices['hour'] == 21)]['type'].to_list()\n",
    "data_price_22 = data_prices[(data_prices['hour'] == 22)]['type'].to_list()\n",
    "data_price_23 = data_prices[(data_prices['hour'] == 23)]['type'].to_list()\n",
    "data_price_0 = data_prices[(data_prices['hour'] == 0)]['type'].to_list()"
   ]
  },
  {
   "cell_type": "code",
   "execution_count": null,
   "metadata": {},
   "outputs": [],
   "source": [
    "from sklearn.metrics import matthews_corrcoef\n",
    "import seaborn as sns\n",
    "import pandas as pd\n",
    "\n",
    "\n",
    "data_dict = {}\n",
    "\n",
    "for i in range(0,24):\n",
    "    x = f\"data_price_{i}\"\n",
    "    x_values = []\n",
    "    for j in range(0,24):\n",
    "        y = f\"data_price_{j}\"\n",
    "        phi_coefficient = round(matthews_corrcoef(globals()[x], globals()[y]), 3)\n",
    "        x_values.append(phi_coefficient)\n",
    "    data_dict[i] = x_values \n",
    "\n",
    "df = pd.DataFrame(data_dict, index=range(0,24))\n",
    "fig, ax = plt.subplots(figsize=[20,10])  \n",
    "ax = sns.heatmap(df, annot=True, cmap=\"YlGnBu\", ax=ax)\n"
   ]
  },
  {
   "cell_type": "code",
   "execution_count": null,
   "metadata": {},
   "outputs": [],
   "source": [
    "data_price_9_12 = data_prices[(data_prices['hour'] == 9) | (data_prices['hour'] == 12)]\n",
    "x_label = unique_list(data_price_9_12['day'].to_list())\n",
    "\n",
    "index = np.arange(diff_days(START_DATE, END_DATE, DATE_FORMAT))\n",
    "bar_width = 0.35\n",
    "opacity = 0.8\n",
    "\n",
    "x = tuple(data_price_9_12[(data_prices['hour'] == 9)]['hour_return'])\n",
    "y = tuple(data_price_9_12[(data_prices['hour'] == 12)]['hour_return'])\n",
    "\n",
    "\n",
    "plt.figure(figsize=[20,10])\n",
    "plt.rcParams['figure.figsize'] = [10, 10]\n",
    "\n",
    "rects1 = plt.bar(index, x, bar_width,\n",
    "                 alpha=opacity, color='b', label='9')\n",
    "\n",
    "rects2 = plt.bar(index + bar_width, y, bar_width,\n",
    "                 alpha=opacity, color='r', label='12')\n",
    "plt.xlabel('Giờ')\n",
    "plt.ylabel('Hiệu ứng')\n",
    "plt.title(\n",
    "    f\"Hiệu ứng thời gian trong ngày\")\n",
    "plt.xticks(index + bar_width, tuple([label[5:] for label in x_label]))\n",
    "plt.legend()\n",
    "plt.tight_layout()\n",
    "plt.show()"
   ]
  },
  {
   "cell_type": "code",
   "execution_count": null,
   "metadata": {},
   "outputs": [],
   "source": [
    "data_price_2_15 = data_prices[(data_prices['hour'] == 2) | (data_prices['hour'] == 15)]\n",
    "x_label = unique_list(data_price_2_15['day'].to_list())\n",
    "\n",
    "index = np.arange(diff_days(START_DATE, END_DATE, DATE_FORMAT))\n",
    "bar_width = 0.35\n",
    "opacity = 0.8\n",
    "\n",
    "x = tuple(data_price_2_15[(data_prices['hour'] == 2)]['hour_return'])\n",
    "y = tuple(data_price_2_15[(data_prices['hour'] == 15)]['hour_return'])\n",
    "\n",
    "plt.figure(figsize=[20,10])\n",
    "plt.rcParams['figure.figsize'] = [10, 10]\n",
    "\n",
    "rects1 = plt.bar(index, x, bar_width,\n",
    "                 alpha=opacity, color='b', label='2')\n",
    "\n",
    "rects2 = plt.bar(index + bar_width, y, bar_width,\n",
    "                 alpha=opacity, color='r', label='15')\n",
    "plt.xlabel('Giờ')\n",
    "plt.ylabel('Hiệu ứng')\n",
    "plt.title(\n",
    "    f\"Hiệu ứng thời gian trong ngày\")\n",
    "plt.xticks(index + bar_width, tuple([label[5:] for label in x_label]))\n",
    "plt.legend()\n",
    "plt.tight_layout()\n",
    "plt.show()"
   ]
  },
  {
   "cell_type": "code",
   "execution_count": null,
   "metadata": {},
   "outputs": [],
   "source": [
    "data_price_0_16 = data_prices[(data_prices['hour'] == 0) | (data_prices['hour'] == 16)]\n",
    "x_label = unique_list(data_price_0_16['day'].to_list())\n",
    "\n",
    "index = np.arange(diff_days(START_DATE, END_DATE, DATE_FORMAT))\n",
    "bar_width = 0.35\n",
    "opacity = 0.8\n",
    "\n",
    "x = tuple(data_price_0_16[(data_prices['hour'] == 0)]['hour_return'])\n",
    "y = tuple(data_price_0_16[(data_prices['hour'] == 16)]['hour_return'])\n",
    "\n",
    "plt.figure(figsize=[20,10])\n",
    "plt.rcParams['figure.figsize'] = [10, 10]\n",
    "\n",
    "rects1 = plt.bar(index, x, bar_width,\n",
    "                 alpha=opacity, color='b', label='0')\n",
    "\n",
    "rects2 = plt.bar(index + bar_width, y, bar_width,\n",
    "                 alpha=opacity, color='r', label='16')\n",
    "plt.xlabel('Giờ')\n",
    "plt.ylabel('Hiệu ứng')\n",
    "plt.title(\n",
    "    f\"Hiệu ứng thời gian trong ngày\")\n",
    "plt.xticks(index + bar_width, tuple([label[5:] for label in x_label]))\n",
    "plt.legend()\n",
    "plt.tight_layout()\n",
    "plt.show()"
   ]
  },
  {
   "cell_type": "code",
   "execution_count": 22,
   "metadata": {},
   "outputs": [],
   "source": []
  },
  {
   "cell_type": "code",
   "execution_count": 6,
   "metadata": {},
   "outputs": [
    {
     "data": {
      "text/plain": [
       "'down'"
      ]
     },
     "execution_count": 6,
     "metadata": {},
     "output_type": "execute_result"
    }
   ],
   "source": [
    "import time, datetime\n",
    "from datetime import datetime, timedelta\n",
    "import pandas as pd\n",
    "\n",
    "\n",
    "time = data_price_in_hour.iloc[0].name + pd.Timedelta(minutes = 15)\n",
    "data_price_in_minute[(data_price_in_minute.index == time)].type.iloc[0]"
   ]
  }
 ],
 "metadata": {
  "interpreter": {
   "hash": "9b7a63b580c172c7da8da4dbbebee610e4d353e01ea1f4976b3b5103b2ec0dfd"
  },
  "kernelspec": {
   "display_name": "Python 3.8.8 64-bit ('base': conda)",
   "language": "python",
   "name": "python3"
  },
  "language_info": {
   "codemirror_mode": {
    "name": "ipython",
    "version": 3
   },
   "file_extension": ".py",
   "mimetype": "text/x-python",
   "name": "python",
   "nbconvert_exporter": "python",
   "pygments_lexer": "ipython3",
   "version": "3.8.5"
  },
  "orig_nbformat": 4
 },
 "nbformat": 4,
 "nbformat_minor": 2
}
