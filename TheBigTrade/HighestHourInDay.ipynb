{
 "cells": [
  {
   "cell_type": "code",
   "execution_count": 1,
   "source": [
    "from myenv.models.candlestick import Candlestick\n",
    "from myenv.models.merchandise_rate import MerchandiseRate\n",
    "import pandas as pd\n",
    "import numpy as np\n",
    "import matplotlib.pyplot as plt\n",
    "%matplotlib inline\n",
    "\n",
    "\n",
    "merchandise_rate = MerchandiseRate()\n",
    "merchandise_rate_id = merchandise_rate.find_by_slug('BTCUSDT')\n",
    "candlestick = Candlestick(merchandise_rate_id, 'hour')\n",
    "\n",
    "\n",
    "bitcoin_prices = candlestick.to_df()\n",
    "\n",
    "bitcoin_prices.describe()\n",
    "\n",
    "bitcoin_prices['hour return'] = bitcoin_prices['close'].pct_change() * 100\n",
    "\n",
    "bitcoin_prices.tail(20)\n",
    "\n",
    "total = bitcoin_prices.iloc[:, 0].count()\n",
    "first_date = bitcoin_prices.iloc[0].name.date()\n",
    "last_date = bitcoin_prices.iloc[-1].name.date()\n"
   ],
   "outputs": [],
   "metadata": {}
  }
 ],
 "metadata": {
  "orig_nbformat": 4,
  "language_info": {
   "name": "python",
   "version": "3.8.5",
   "mimetype": "text/x-python",
   "codemirror_mode": {
    "name": "ipython",
    "version": 3
   },
   "pygments_lexer": "ipython3",
   "nbconvert_exporter": "python",
   "file_extension": ".py"
  },
  "kernelspec": {
   "name": "python3",
   "display_name": "Python 3.8.5 64-bit ('base': conda)"
  },
  "interpreter": {
   "hash": "dca0ade3e726a953b501b15e8e990130d2b7799f14cfd9f4271676035ebe5511"
  }
 },
 "nbformat": 4,
 "nbformat_minor": 2
}